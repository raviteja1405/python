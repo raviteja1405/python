{
 "cells": [
  {
   "cell_type": "code",
   "execution_count": 1,
   "id": "15c89e82-d0b5-495e-812e-193135beb3e4",
   "metadata": {},
   "outputs": [
    {
     "name": "stdin",
     "output_type": "stream",
     "text": [
      "enter a number: 20\n",
      "enter a number: 16\n"
     ]
    },
    {
     "name": "stdout",
     "output_type": "stream",
     "text": [
      "36\n"
     ]
    }
   ],
   "source": [
    "#accept two numbers and display sum of those two\n",
    "n1=int(input(\"enter a number:\"))\n",
    "n2=int(input(\"enter a number:\"))\n",
    "print(n1+n2)"
   ]
  },
  {
   "cell_type": "code",
   "execution_count": 2,
   "id": "963243c1-66d3-42b8-94e7-9a5012ce3dfb",
   "metadata": {},
   "outputs": [
    {
     "name": "stdout",
     "output_type": "stream",
     "text": [
      "16 20\n"
     ]
    }
   ],
   "source": [
    "#accept two numbers and interchanged\n",
    "temp=n1\n",
    "n1=n2\n",
    "n2=temp\n",
    "print(n1,n2)"
   ]
  },
  {
   "cell_type": "code",
   "execution_count": 3,
   "id": "1484f4a3-3939-4aa5-9241-b0b41a14dfcb",
   "metadata": {},
   "outputs": [
    {
     "name": "stdout",
     "output_type": "stream",
     "text": [
      "20 16\n"
     ]
    }
   ],
   "source": [
    "#accept two numbers and interchanged without using 3rd variable\n",
    "n1=n1+n2\n",
    "n2=n1-n2\n",
    "n1=n1-n2\n",
    "print(n1,n2)"
   ]
  },
  {
   "cell_type": "code",
   "execution_count": 4,
   "id": "fa79fc58-d568-48ef-9851-9de2234f6450",
   "metadata": {},
   "outputs": [
    {
     "name": "stdout",
     "output_type": "stream",
     "text": [
      "16 20\n"
     ]
    }
   ],
   "source": [
    "#accept two numbers and interchanged without using above methods.\n",
    "n1=n1^n2\n",
    "n2=n1^n2\n",
    "n1=n1^n2\n",
    "print(n1,n2)"
   ]
  },
  {
   "cell_type": "code",
   "execution_count": 5,
   "id": "49a923b3-4fc8-489b-97bf-f42b82cc9d73",
   "metadata": {},
   "outputs": [
    {
     "name": "stdin",
     "output_type": "stream",
     "text": [
      "enter a number: 2\n",
      "enter a number: 4\n"
     ]
    },
    {
     "name": "stdout",
     "output_type": "stream",
     "text": [
      "even\n"
     ]
    }
   ],
   "source": [
    "#find out the sum of two numbers is even or odd.\n",
    "n1=int(input(\"enter a number:\"))\n",
    "n2=int(input(\"enter a number:\"))\n",
    "sum=n1+n2\n",
    "if sum%2==0:\n",
    "    print(\"even\")\n",
    "else:\n",
    "    print(\"odd\")"
   ]
  },
  {
   "cell_type": "code",
   "execution_count": 6,
   "id": "4a2742b0-133a-46a7-806b-b3b2b524dac1",
   "metadata": {},
   "outputs": [
    {
     "name": "stdin",
     "output_type": "stream",
     "text": [
      "enter a number: 15\n",
      "enter a number: 23\n"
     ]
    },
    {
     "name": "stdout",
     "output_type": "stream",
     "text": [
      "n2 is bigger\n"
     ]
    }
   ],
   "source": [
    "#accept two numbers display biggest one.\n",
    "n1=int(input(\"enter a number:\"))\n",
    "n2=int(input(\"enter a number:\"))\n",
    "if n1>n2:\n",
    "    print(\"n1 is bigger\")\n",
    "else:\n",
    "    print(\"n2 is bigger\")"
   ]
  },
  {
   "cell_type": "code",
   "execution_count": 7,
   "id": "a95908e2-71a4-45fc-ad9f-1fc3f0e1f39b",
   "metadata": {},
   "outputs": [
    {
     "name": "stdin",
     "output_type": "stream",
     "text": [
      "value of n1: 13\n",
      "value of n2: 13\n",
      "value of n3: 11\n"
     ]
    },
    {
     "name": "stdout",
     "output_type": "stream",
     "text": [
      "n1,n2\n"
     ]
    }
   ],
   "source": [
    "#accept three numbers and disply biggest one.\n",
    "n1=int(input(\"value of n1:\"))\n",
    "n2=int(input(\"value of n2:\"))\n",
    "n3=int(input(\"value of n3:\"))\n",
    "if n1>n2 and n1>n3:\n",
    "    print(\"n1\")\n",
    "elif n2>n1 and n2>n3:\n",
    "    print(\"n2\")\n",
    "elif n3>n1 and n3>n2:\n",
    "    print(\"n3\")\n",
    "elif n1>n3 and n2>n3:\n",
    "    print(\"n1,n2\")\n",
    "elif n1>n2 and n3>n2:\n",
    "    print(\"n1,n3\")\n",
    "elif n2>n1 and n3>n1:\n",
    "    print(\"n2,n3\")\n",
    "else:\n",
    "    print(\"equal\")"
   ]
  },
  {
   "cell_type": "code",
   "execution_count": 8,
   "id": "21bb360f-6d64-4980-86f9-d649ba06983b",
   "metadata": {},
   "outputs": [
    {
     "name": "stdout",
     "output_type": "stream",
     "text": [
      "1\n",
      "2\n",
      "3\n",
      "4\n",
      "5\n",
      "6\n",
      "7\n",
      "8\n",
      "9\n",
      "10\n"
     ]
    }
   ],
   "source": [
    "#display the no. from 1 to 10\n",
    "n=1\n",
    "while n<=10:\n",
    "    print(n)\n",
    "    n+=1"
   ]
  },
  {
   "cell_type": "code",
   "execution_count": 9,
   "id": "8e01c515-9c63-46cd-bff7-ffeb1d14bd05",
   "metadata": {},
   "outputs": [
    {
     "name": "stdout",
     "output_type": "stream",
     "text": [
      "10\n",
      "9\n",
      "8\n",
      "7\n",
      "6\n",
      "5\n",
      "4\n",
      "3\n",
      "2\n",
      "1\n"
     ]
    }
   ],
   "source": [
    "#display the no.from 10 to 1\n",
    "n=10\n",
    "while n>=1:\n",
    "    print(n)\n",
    "    n-=1"
   ]
  },
  {
   "cell_type": "code",
   "execution_count": 12,
   "id": "43f495b2-bae0-4927-9b81-520694b4336f",
   "metadata": {},
   "outputs": [
    {
     "name": "stdout",
     "output_type": "stream",
     "text": [
      "2\n",
      "4\n",
      "6\n",
      "8\n",
      "10\n"
     ]
    }
   ],
   "source": [
    "#display the even numbers from 1 to 10\n",
    "n = 1\n",
    "while n <= 10:\n",
    "    if n % 2 == 0:\n",
    "        print(n)\n",
    "    n = n + 1"
   ]
  },
  {
   "cell_type": "code",
   "execution_count": 14,
   "id": "f05086b0-a667-471f-869e-dc0f971a1569",
   "metadata": {},
   "outputs": [
    {
     "name": "stdout",
     "output_type": "stream",
     "text": [
      "2\n",
      "4\n",
      "6\n",
      "8\n",
      "10\n"
     ]
    }
   ],
   "source": [
    "#display the even numbers from 1 to 10 by reducing the no.of iterations\n",
    "n=2\n",
    "while n<=10:\n",
    "    print(n)\n",
    "    n=n+2"
   ]
  },
  {
   "cell_type": "code",
   "execution_count": 16,
   "id": "335a42c8-43d7-4ea0-aea5-78b2ca33cb21",
   "metadata": {},
   "outputs": [
    {
     "name": "stdout",
     "output_type": "stream",
     "text": [
      "2\n",
      "4\n",
      "6\n",
      "8\n",
      "10\n"
     ]
    }
   ],
   "source": [
    "#display the even no.from 1 to 10 by taking n=1,n<=5 and n=n+1\n",
    "n=1\n",
    "while n<=5:\n",
    "    print(2*n)\n",
    "    n=n+1"
   ]
  },
  {
   "cell_type": "code",
   "execution_count": 18,
   "id": "3a974cab-db72-4ddf-8478-17d4082c392e",
   "metadata": {},
   "outputs": [
    {
     "name": "stdout",
     "output_type": "stream",
     "text": [
      "2\n",
      "4\n",
      "6\n",
      "8\n",
      "10\n",
      "1\n",
      "3\n",
      "5\n",
      "7\n",
      "9\n"
     ]
    }
   ],
   "source": [
    "#display the numbers from 1 to 10 as follows.2 4 6 8 10 1 3 5 7 9\n",
    "n=2\n",
    "while n<=10:\n",
    "    print(n)\n",
    "    if n==10:\n",
    "        n=-1\n",
    "    n=n+2"
   ]
  },
  {
   "cell_type": "code",
   "execution_count": 26,
   "id": "0e180377-cee1-4103-9873-18fd9bc42396",
   "metadata": {},
   "outputs": [
    {
     "name": "stdout",
     "output_type": "stream",
     "text": [
      "1\n",
      "3\n",
      "5\n",
      "7\n",
      "9\n",
      "2\n",
      "4\n",
      "6\n",
      "8\n"
     ]
    }
   ],
   "source": [
    "#display the no.from 1 to 10 as follows.1 3 5 7 9 2 4 6 8 10\n",
    "n=1\n",
    "while n<=9:\n",
    "    print(n)\n",
    "    if n==9:\n",
    "        n=0\n",
    "    n=n+2"
   ]
  },
  {
   "cell_type": "code",
   "execution_count": 127,
   "id": "92100ce1-25c6-4743-b046-6b3981127525",
   "metadata": {},
   "outputs": [
    {
     "name": "stdout",
     "output_type": "stream",
     "text": [
      "0 1 1 2 3 5 8 13 21 34 55 89 144 233 377 610 987 \n"
     ]
    }
   ],
   "source": [
    "#fabinocci series.\n",
    "def fib(n):\n",
    "    a,b=0,1\n",
    "    while a<n:\n",
    "        print(a,end=\" \")\n",
    "        a,b=b,a+b\n",
    "    print()\n",
    "fib(1000)"
   ]
  },
  {
   "cell_type": "code",
   "execution_count": 19,
   "id": "bbd35c68-bbd7-4973-ba70-0fe89a2bd06d",
   "metadata": {},
   "outputs": [
    {
     "name": "stdout",
     "output_type": "stream",
     "text": [
      "prime\n"
     ]
    }
   ],
   "source": [
    "#accept a number and check prime or not.\n",
    "n=23\n",
    "f=1\n",
    "fc=0\n",
    "while f<=n:\n",
    "    if n%f==0:\n",
    "        fc=fc+1\n",
    "    f=f+1\n",
    "if fc==2:\n",
    "    print(\"prime\")\n",
    "else:\n",
    "    print('not prime')"
   ]
  },
  {
   "cell_type": "code",
   "execution_count": 17,
   "id": "b7c16dca-e812-42c0-993f-4151414ed76f",
   "metadata": {},
   "outputs": [
    {
     "name": "stdin",
     "output_type": "stream",
     "text": [
      "starting number: 1\n",
      "ending number: 20\n"
     ]
    },
    {
     "name": "stdout",
     "output_type": "stream",
     "text": [
      "2\n",
      "3\n",
      "5\n",
      "7\n",
      "11\n",
      "13\n",
      "17\n",
      "19\n"
     ]
    }
   ],
   "source": [
    "#find out prime range.\n",
    "s=int(input(\"starting number:\"))\n",
    "e=int(input(\"ending number:\"))\n",
    "for i in range(s,e+1):\n",
    "    fc=0\n",
    "    for j in range(1,i+1):\n",
    "        if i%j==0:\n",
    "            fc=fc+1\n",
    "    if fc==2:\n",
    "        print(i)"
   ]
  },
  {
   "cell_type": "code",
   "execution_count": 27,
   "id": "a8ac6db8-d4b9-4237-a54b-2d9974d2a50e",
   "metadata": {},
   "outputs": [
    {
     "name": "stdin",
     "output_type": "stream",
     "text": [
      "value of n1: 12\n",
      "value of n2: 13\n"
     ]
    },
    {
     "name": "stdout",
     "output_type": "stream",
     "text": [
      "12 is not prime\n",
      "13 is prime\n"
     ]
    }
   ],
   "source": [
    "#accept two numbers and check both are prime or not\n",
    "def prime(n):\n",
    "    fc=0\n",
    "    for f in range(1,n+1):\n",
    "        if n%f==0:\n",
    "            fc=fc+1\n",
    "    if fc==2:\n",
    "        print(n,\"is prime\")\n",
    "    else:\n",
    "        print(n,\"is not prime\")\n",
    "n1=int(input(\"value of n1:\"))\n",
    "n2=int(input(\"value of n2:\"))\n",
    "prime(n1)\n",
    "prime(n2)"
   ]
  },
  {
   "cell_type": "code",
   "execution_count": 51,
   "id": "d2970d67-766a-41e9-b96a-c959c4d755d1",
   "metadata": {},
   "outputs": [
    {
     "name": "stdin",
     "output_type": "stream",
     "text": [
      "value of n: 8\n"
     ]
    },
    {
     "name": "stdout",
     "output_type": "stream",
     "text": [
      "not perfect\n"
     ]
    }
   ],
   "source": [
    "#accept a no.and check it is a perfect or not.\n",
    "n=int(input(\"value of n:\"))\n",
    "f=1\n",
    "fs=0\n",
    "while f<=n/2:\n",
    "    if n%f==0:\n",
    "        fs=fs+f\n",
    "    f=f+1\n",
    "if fs==n:\n",
    "    print(\"perfect\")\n",
    "else:\n",
    "    print(\"not perfect\")"
   ]
  },
  {
   "cell_type": "code",
   "execution_count": 29,
   "id": "b678fd9a-92b2-4aef-a0e8-850d7f689a85",
   "metadata": {},
   "outputs": [
    {
     "name": "stdin",
     "output_type": "stream",
     "text": [
      "value of n1: 33\n",
      "value of n2: 456\n"
     ]
    },
    {
     "name": "stdout",
     "output_type": "stream",
     "text": [
      "456 have more\n"
     ]
    }
   ],
   "source": [
    "#accept two multi digits numbers and display in which number more digits are there.\n",
    "def digits(n):\n",
    "    dc=0\n",
    "    while n>0:\n",
    "        dc=dc+1\n",
    "        n=n//10\n",
    "    return dc\n",
    "n1=int(input(\"value of n1:\"))\n",
    "n2=int(input(\"value of n2:\"))\n",
    "c1=digits(n1)\n",
    "c2=digits(n2)\n",
    "if c1>c2:\n",
    "    print(n1,\"have more\")\n",
    "elif c2>c1:\n",
    "    print(n2,\"have more\")\n",
    "else:\n",
    "    print(\"equal\")"
   ]
  },
  {
   "cell_type": "code",
   "execution_count": 35,
   "id": "b927a14f-e1f4-46a3-9d86-43d577c92e1d",
   "metadata": {},
   "outputs": [
    {
     "name": "stdin",
     "output_type": "stream",
     "text": [
      "value of n1: 1\n",
      "value of n2: 9\n",
      "value of n3: 3\n",
      "value of n4: 4\n",
      "value of n5: 5\n",
      "value of n6: 6\n"
     ]
    },
    {
     "name": "stdout",
     "output_type": "stream",
     "text": [
      "biggest is 9\n"
     ]
    }
   ],
   "source": [
    "#accept 6 numbers and display biggest one.\n",
    "def biggest(n1,n2):\n",
    "    if n1>n2:\n",
    "        return n1\n",
    "    else:\n",
    "        return n2\n",
    "n1=int(input(\"value of n1:\"))\n",
    "n2=int(input(\"value of n2:\"))\n",
    "n3=int(input(\"value of n3:\"))\n",
    "n4=int(input(\"value of n4:\"))\n",
    "n5=int(input(\"value of n5:\"))\n",
    "n6=int(input(\"value of n6:\"))\n",
    "b1=biggest(n1,n2)\n",
    "b2=biggest(n3,n4)\n",
    "b3=biggest(n5,n6)\n",
    "b12=biggest(b1,b2)\n",
    "b=biggest(b12,b3)\n",
    "print(\"biggest is\", b)"
   ]
  },
  {
   "cell_type": "code",
   "execution_count": 41,
   "id": "6fede9bc-8ebf-4729-9de0-109ee70015e6",
   "metadata": {},
   "outputs": [
    {
     "name": "stdin",
     "output_type": "stream",
     "text": [
      "value of n1: 10\n",
      "value of n2: 30\n",
      "value of n3: 60\n",
      "value of n4: 10\n"
     ]
    },
    {
     "name": "stdout",
     "output_type": "stream",
     "text": [
      "s2 is big set\n"
     ]
    }
   ],
   "source": [
    "#accept two set of values and find sum= of each and display the big set.\n",
    "def set(n1,n2):\n",
    "    sum=n1+n2\n",
    "    return sum\n",
    "n1=int(input(\"value of n1:\"))\n",
    "n2=int(input(\"value of n2:\"))\n",
    "n3=int(input(\"value of n3:\"))\n",
    "n4=int(input(\"value of n4:\"))\n",
    "s1=set(n1,n2)\n",
    "s2=set(n3,n4)\n",
    "if s1>s2:\n",
    "    print(\"s1 is big set\")\n",
    "else:\n",
    "    print(\"s2 is big set\")"
   ]
  },
  {
   "cell_type": "code",
   "execution_count": 53,
   "id": "97390894-a416-4e72-acd0-1de408a9f727",
   "metadata": {},
   "outputs": [
    {
     "name": "stdin",
     "output_type": "stream",
     "text": [
      "value of n1: 6\n",
      "value of n2: 8\n"
     ]
    },
    {
     "name": "stdout",
     "output_type": "stream",
     "text": [
      "p2 is perfect\n"
     ]
    }
   ],
   "source": [
    "#accept two numbers if both are perfect display biggest else smallest.\n",
    "def perfect(n):\n",
    "    f=1\n",
    "    fs=0\n",
    "    while f<=n:\n",
    "        if f%n==0:\n",
    "            fs=fs+f\n",
    "        f=f+1\n",
    "    return fs==n\n",
    "n1=int(input(\"value of n1:\"))\n",
    "n2=int(input(\"value of n2:\"))\n",
    "p1=perfect(n1)\n",
    "p2=perfect(n2)\n",
    "if p1>p2:\n",
    "    print(\"p1 is perfect\")\n",
    "else:\n",
    "    print(\"p2 is perfect\")"
   ]
  },
  {
   "cell_type": "code",
   "execution_count": 57,
   "id": "0a68a794-9ebc-4725-85b5-c7ee54c900e5",
   "metadata": {},
   "outputs": [
    {
     "name": "stdin",
     "output_type": "stream",
     "text": [
      "value of n: 3384\n"
     ]
    },
    {
     "name": "stdout",
     "output_type": "stream",
     "text": [
      "4\n"
     ]
    }
   ],
   "source": [
    "#accept multidigt number find out the no.of digits.\n",
    "n=int(input(\"value of n:\"))\n",
    "dc=0\n",
    "while n>0:\n",
    "    dc=dc+1\n",
    "    n=n//10\n",
    "print(dc)"
   ]
  },
  {
   "cell_type": "code",
   "execution_count": 63,
   "id": "5daa2fb0-9546-476f-aefb-50fd0b92b35b",
   "metadata": {},
   "outputs": [
    {
     "name": "stdin",
     "output_type": "stream",
     "text": [
      "value of n: 3385\n"
     ]
    },
    {
     "name": "stdout",
     "output_type": "stream",
     "text": [
      "5\n",
      "8\n",
      "3\n",
      "3\n"
     ]
    }
   ],
   "source": [
    "#accept multidigit no.display each digit separetly.\n",
    "n=int(input(\"value of n:\"))\n",
    "while n>0:\n",
    "    rem=n%10\n",
    "    n=n//10\n",
    "    print(rem)\n",
    "#9676369603"
   ]
  },
  {
   "cell_type": "code",
   "execution_count": 75,
   "id": "a8200209-15fc-435b-aa13-e39e9c04d219",
   "metadata": {},
   "outputs": [
    {
     "name": "stdin",
     "output_type": "stream",
     "text": [
      "value of n: 3385\n"
     ]
    },
    {
     "name": "stdout",
     "output_type": "stream",
     "text": [
      "os 11\n"
     ]
    }
   ],
   "source": [
    "#accept multidigit no.find out the sum of even,odd digits and display biggest sum.\n",
    "n=int(input(\"value of n:\"))\n",
    "es=0\n",
    "os=0\n",
    "while n>0:\n",
    "    rem=n%10\n",
    "    n=n//10\n",
    "    if rem%2==0:\n",
    "        es=es+rem\n",
    "    else:\n",
    "        os=os+rem\n",
    "if es>os:\n",
    "    print(\"es\",es)\n",
    "elif os>es:\n",
    "    print(\"os\",os)\n",
    "else:\n",
    "    print(\"equal\")"
   ]
  },
  {
   "cell_type": "code",
   "execution_count": 85,
   "id": "2fbe3aa0-57e8-47fa-a495-b5a49fd6b397",
   "metadata": {},
   "outputs": [
    {
     "name": "stdin",
     "output_type": "stream",
     "text": [
      "value of n: 3385\n"
     ]
    },
    {
     "name": "stdout",
     "output_type": "stream",
     "text": [
      "5\n",
      "8\n",
      "3\n",
      "3\n",
      "5833\n"
     ]
    }
   ],
   "source": [
    "#accept multidigit no.and make it reverse.\n",
    "n=int(input(\"value of n:\"))\n",
    "rn=0\n",
    "while n>0:\n",
    "    rem=n%10\n",
    "    rn=rn*10+rem\n",
    "    n=n//10\n",
    "    print(rem)\n",
    "print(rn)"
   ]
  },
  {
   "cell_type": "code",
   "execution_count": 93,
   "id": "684fd894-5ec5-4144-b9c4-4a65ab392cf9",
   "metadata": {},
   "outputs": [
    {
     "name": "stdin",
     "output_type": "stream",
     "text": [
      "value of n: 3385\n"
     ]
    },
    {
     "name": "stdout",
     "output_type": "stream",
     "text": [
      "4\n"
     ]
    }
   ],
   "source": [
    "#accept multidigt no.and make it to single digit.\n",
    "n=int(input(\"value of n:\"))\n",
    "sum=0\n",
    "while n>0:\n",
    "    rem=n%10\n",
    "    sum=sum+rem\n",
    "    n=n//10\n",
    "    if sum>9:\n",
    "        n=sum\n",
    "        sum=0\n",
    "print(sum)\n"
   ]
  },
  {
   "cell_type": "code",
   "execution_count": 107,
   "id": "97821379-0a1a-4cb5-9da4-dc15d1d0beb7",
   "metadata": {},
   "outputs": [
    {
     "name": "stdin",
     "output_type": "stream",
     "text": [
      "value of n: 6517\n"
     ]
    },
    {
     "name": "stdout",
     "output_type": "stream",
     "text": [
      "1\n"
     ]
    }
   ],
   "source": [
    "#accept multidigt no.and make it single digit without using additional variables.\n",
    "n=int(input(\"value of n:\"))\n",
    "while n>9:\n",
    "    n=n//10+n%10\n",
    "print(n)"
   ]
  },
  {
   "cell_type": "code",
   "execution_count": 111,
   "id": "4e7c17e3-fff7-4acf-a449-5e84f0725651",
   "metadata": {},
   "outputs": [
    {
     "name": "stdin",
     "output_type": "stream",
     "text": [
      "value of n: 3385\n"
     ]
    },
    {
     "name": "stdout",
     "output_type": "stream",
     "text": [
      "1\n"
     ]
    }
   ],
   "source": [
    "#accept multidigt no.and make it single digit without using additional variables and loop.\n",
    "n=int(input(\"value of n:\"))\n",
    "if n%9==0:\n",
    "    print(9)\n",
    "else:\n",
    "    print(n%9)"
   ]
  },
  {
   "cell_type": "code",
   "execution_count": 119,
   "id": "c3b00b6b-2075-4595-bbd5-550c4eaa0018",
   "metadata": {},
   "outputs": [
    {
     "name": "stdin",
     "output_type": "stream",
     "text": [
      "value of n: 153\n"
     ]
    },
    {
     "name": "stdout",
     "output_type": "stream",
     "text": [
      "armstrong\n"
     ]
    }
   ],
   "source": [
    "#Accept a number and check it is armstrong no or not.\n",
    "n=int(input(\"value of n:\"))\n",
    "dc=0\n",
    "sum=0\n",
    "temp=n\n",
    "while temp>0:\n",
    "    dc=dc+1\n",
    "    temp=temp//10\n",
    "temp=n\n",
    "while temp>0:\n",
    "    rem=temp%10\n",
    "    sum=sum+rem**dc\n",
    "    temp=temp//10\n",
    "if sum==n:\n",
    "    print(\"armstrong\")\n",
    "else:\n",
    "    print(\"not armstrong\")"
   ]
  },
  {
   "cell_type": "code",
   "execution_count": 19,
   "id": "e37ac624-cd50-4669-91c5-7ab8bf5538b3",
   "metadata": {},
   "outputs": [
    {
     "name": "stdin",
     "output_type": "stream",
     "text": [
      "how many rows 4\n"
     ]
    },
    {
     "name": "stdout",
     "output_type": "stream",
     "text": [
      "1 2 3 4 \n",
      "1 2 3 \n",
      "1 2 \n",
      "1 \n"
     ]
    }
   ],
   "source": [
    "#pattrens\n",
    "r=int(input(\"how many rows\"))\n",
    "for i in range(r,0,-1):\n",
    "    for j in range(1,i+1):\n",
    "        print(j,end=' ')\n",
    "    print()"
   ]
  },
  {
   "cell_type": "code",
   "execution_count": 17,
   "id": "5d439605-9f03-4c84-beb0-03af81db9d15",
   "metadata": {},
   "outputs": [
    {
     "name": "stdin",
     "output_type": "stream",
     "text": [
      "how many rows 4\n"
     ]
    },
    {
     "name": "stdout",
     "output_type": "stream",
     "text": [
      "1 \n",
      "1 2 \n",
      "1 2 3 \n",
      "1 2 3 4 \n"
     ]
    }
   ],
   "source": [
    "r=int(input(\"how many rows\"))\n",
    "for i in range(1,r+1):\n",
    "    for j in range(1,i+1):\n",
    "        print(j,end=' ')\n",
    "    print()"
   ]
  },
  {
   "cell_type": "code",
   "execution_count": 11,
   "id": "784a9d43-fa8b-40e8-895f-15ddde6afaf3",
   "metadata": {},
   "outputs": [
    {
     "name": "stdin",
     "output_type": "stream",
     "text": [
      "how many rows 4\n"
     ]
    },
    {
     "name": "stdout",
     "output_type": "stream",
     "text": [
      "1 \n",
      "2 3 \n",
      "4 5 6 \n",
      "7 8 9 10 \n"
     ]
    }
   ],
   "source": [
    "k=1\n",
    "r=int(input(\"how many rows\"))\n",
    "for i in range(1,r+1):\n",
    "    for j in range(1,i+1):\n",
    "        print(k,end=' ')\n",
    "        k=k+1\n",
    "    print()"
   ]
  },
  {
   "cell_type": "code",
   "execution_count": 9,
   "id": "45a082e7-6c41-4169-aeb0-72fa6ac5a520",
   "metadata": {},
   "outputs": [
    {
     "name": "stdin",
     "output_type": "stream",
     "text": [
      "how many rows 4\n"
     ]
    },
    {
     "name": "stdout",
     "output_type": "stream",
     "text": [
      "10 9 8 7 \n",
      "6 5 4 \n",
      "3 2 \n",
      "1 \n"
     ]
    }
   ],
   "source": [
    "k=10\n",
    "r=int(input(\"how many rows\"))\n",
    "for i in range(r,0,-1):\n",
    "    for j in range(1,i+1):\n",
    "        print(k,end=' ')\n",
    "        k=k-1\n",
    "    print()"
   ]
  },
  {
   "cell_type": "code",
   "execution_count": 15,
   "id": "3cce0b55-6c93-47d1-9b1a-35d755359ff6",
   "metadata": {},
   "outputs": [
    {
     "name": "stdin",
     "output_type": "stream",
     "text": [
      "how many rows 4\n"
     ]
    },
    {
     "name": "stdout",
     "output_type": "stream",
     "text": [
      "1 1 1 1 \n",
      "1 1 1 \n",
      "1 1 \n",
      "1 \n"
     ]
    }
   ],
   "source": [
    "r=int(input(\"how many rows\"))\n",
    "for i in range(r,0,-1):\n",
    "    for j in range(1,i+1):\n",
    "        print(1,end=' ')\n",
    "    print()"
   ]
  },
  {
   "cell_type": "code",
   "execution_count": 21,
   "id": "7d9bd2f1-7695-463d-a4e2-6f132058adda",
   "metadata": {},
   "outputs": [
    {
     "name": "stdin",
     "output_type": "stream",
     "text": [
      "number of rows 4\n"
     ]
    },
    {
     "name": "stdout",
     "output_type": "stream",
     "text": [
      "1 2 3 4 \n",
      "1 2 3 \n",
      "1 2 \n",
      "1 \n",
      "1 2 \n",
      "1 2 3 \n",
      "1 2 3 4 \n"
     ]
    }
   ],
   "source": [
    "r=int(input(\"number of rows\"))\n",
    "for i in range(r,0,-1):\n",
    "    for j in range(1,i+1):\n",
    "        print(j,end=\" \")\n",
    "    print()\n",
    "for i in range(2,r+1):\n",
    "    for j in range(1,i+1):\n",
    "        print(j,end=\" \")\n",
    "    print()"
   ]
  }
 ],
 "metadata": {
  "kernelspec": {
   "display_name": "Python 3 (ipykernel)",
   "language": "python",
   "name": "python3"
  },
  "language_info": {
   "codemirror_mode": {
    "name": "ipython",
    "version": 3
   },
   "file_extension": ".py",
   "mimetype": "text/x-python",
   "name": "python",
   "nbconvert_exporter": "python",
   "pygments_lexer": "ipython3",
   "version": "3.12.7"
  }
 },
 "nbformat": 4,
 "nbformat_minor": 5
}
