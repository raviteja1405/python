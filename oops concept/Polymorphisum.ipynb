{
 "cells": [
  {
   "cell_type": "code",
   "execution_count": 1,
   "id": "a97d28e0-527d-4cf2-a4f5-c2506219258e",
   "metadata": {},
   "outputs": [
    {
     "name": "stdin",
     "output_type": "stream",
     "text": [
      "enter name: suvarna\n",
      "enter income: 5000\n",
      "own or rented house [o/r]: o\n",
      "enter loan amt: 10000\n",
      "enter name: chinni\n",
      "enter income 6000\n",
      "own or rent [o/r]: r\n",
      "enter rent: 4000\n"
     ]
    },
    {
     "name": "stdout",
     "output_type": "stream",
     "text": [
      "[('suvarna', 5000, 10000, 'net balance is', -5000), ('net balance is:', 2000)]\n"
     ]
    }
   ],
   "source": [
    "class Houseplan:\n",
    "    def House_maintain(self,income,rent=0,loan_amt=0):\n",
    "        return income-rent-loan_amt\n",
    "d=[]\n",
    "rent,lamt=0,0\n",
    "ob=Houseplan()\n",
    "name=input(\"enter name:\")\n",
    "income=int(input(\"enter income:\"))\n",
    "housetype=input(\"own or rented house [o/r]:\")\n",
    "lamt=int(input(\"enter loan amt:\"))\n",
    "c=name,income,lamt,\"net balance is\",ob.House_maintain(income,rent,lamt)\n",
    "d.append(c)\n",
    "name=input(\"enter name:\")\n",
    "income=int(input(\"enter income\"))\n",
    "housetype=input(\"own or rent [o/r]:\")\n",
    "ramt=int(input(\"enter rent:\"))\n",
    "e=\"net balance is:\",ob.House_maintain(income,rent,ramt)\n",
    "d.append(e)\n",
    "print(d)\n"
   ]
  },
  {
   "cell_type": "code",
   "execution_count": null,
   "id": "65b3ccd4-ef39-4eef-b19a-45832e18d8ca",
   "metadata": {},
   "outputs": [],
   "source": []
  }
 ],
 "metadata": {
  "kernelspec": {
   "display_name": "Python 3 (ipykernel)",
   "language": "python",
   "name": "python3"
  },
  "language_info": {
   "codemirror_mode": {
    "name": "ipython",
    "version": 3
   },
   "file_extension": ".py",
   "mimetype": "text/x-python",
   "name": "python",
   "nbconvert_exporter": "python",
   "pygments_lexer": "ipython3",
   "version": "3.12.7"
  }
 },
 "nbformat": 4,
 "nbformat_minor": 5
}
