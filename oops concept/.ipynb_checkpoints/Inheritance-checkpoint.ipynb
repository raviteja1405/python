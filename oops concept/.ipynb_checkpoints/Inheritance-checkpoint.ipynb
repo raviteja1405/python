{
 "cells": [
  {
   "cell_type": "code",
   "execution_count": 7,
   "id": "764d4ccd-f86f-470d-889a-ff280fad07ba",
   "metadata": {},
   "outputs": [
    {
     "name": "stdin",
     "output_type": "stream",
     "text": [
      "Enter the name:  kishore\n",
      "Enter the age:  19\n",
      "Enter sex:  male\n",
      "Enter ward_no:  184\n",
      "Enter the bed_no:  12\n",
      "Enter charges per day:  100\n",
      "Enter number of days admitted:  10\n"
     ]
    },
    {
     "name": "stdout",
     "output_type": "stream",
     "text": [
      "Name is kishore, Age is 19, Sex is male\n",
      "Ward no is 184, Bed no is 12, Charges per day: 100\n",
      "Number of days admitted: 10\n"
     ]
    }
   ],
   "source": [
    "# Multiple Inheritance\n",
    "class Patient:\n",
    "    def setPatient(self):\n",
    "        self.name = input(\"Enter the name: \")\n",
    "        self.age = input(\"Enter the age: \")\n",
    "        self.sex = input(\"Enter sex: \")\n",
    "    \n",
    "    def getPatient(self):\n",
    "        return \"Name is \" + self.name + \", Age is \" + self.age + \", Sex is \" + self.sex\n",
    "\n",
    "class IPD:\n",
    "    def setIPD(self):\n",
    "        self.ward_no = input(\"Enter ward_no: \")\n",
    "        self.bed_no = input(\"Enter the bed_no: \")\n",
    "        self.charges = input(\"Enter charges per day: \")\n",
    "    \n",
    "    def getIPD(self):\n",
    "        return \"Ward no is \" + self.ward_no + \", Bed no is \" + self.bed_no + \", Charges per day: \" + self.charges\n",
    "\n",
    "class IPD_Patient(Patient, IPD):\n",
    "    def setIPD_Patient(self):\n",
    "        self.days = input(\"Enter number of days admitted: \")\n",
    "    \n",
    "    def getIPD_Patient(self):\n",
    "        return \"Number of days admitted: \" + self.days\n",
    "c = IPD_Patient()\n",
    "c.setPatient()  \n",
    "c.setIPD()      \n",
    "c.setIPD_Patient()  \n",
    "print(c.getPatient()) \n",
    "print(c.getIPD())     \n",
    "print(c.getIPD_Patient())"
   ]
  },
  {
   "cell_type": "code",
   "execution_count": 5,
   "id": "543dc758-b1b9-4f57-809b-b40035011ff8",
   "metadata": {},
   "outputs": [
    {
     "name": "stdin",
     "output_type": "stream",
     "text": [
      "How many years:  1\n",
      "enter name:  srinu\n",
      "enter speed:  5\n",
      "enter wages:  1000\n"
     ]
    },
    {
     "name": "stdout",
     "output_type": "stream",
     "text": [
      "srinu\n",
      "5\n",
      "1000\n"
     ]
    }
   ],
   "source": [
    "# Hirerichal Inheritance\n",
    "class Staff:\n",
    "    def setStaff(self):\n",
    "        self.name = input(\"enter name: \")\n",
    "    def getStaff(self):\n",
    "        return self.name\n",
    "\n",
    "class Teacher(Staff):\n",
    "    def setTeacher(self):\n",
    "        self.subject = input(\"enter subject name: \")\n",
    "        self.phno = input(\"enter phone number: \")\n",
    "    def getTeacher(self):\n",
    "        return self.subject + \" \" + self.phno\n",
    "\n",
    "class Typist(Staff):\n",
    "    def setTypist(self):\n",
    "        self.speed = input(\"enter speed: \")\n",
    "    def getTypist(self):\n",
    "        return self.speed\n",
    "\n",
    "class Officer(Staff):\n",
    "    def setOfficer(self):\n",
    "        self.grade = input(\"enter grade: \")\n",
    "    def getOfficer(self):\n",
    "        return self.grade\n",
    "\n",
    "class Daily(Typist):\n",
    "    def setDaily(self):\n",
    "        self.wages = input(\"enter wages: \")\n",
    "    def getDaily(self):\n",
    "        return self.wages\n",
    "\n",
    "class Monthly(Typist):\n",
    "    def setMonthly(self):\n",
    "        self.sal = input(\"enter salary: \")\n",
    "    def getMonthly(self):\n",
    "        return self.sal\n",
    "\n",
    "t = int(input(\"How many years: \"))  # Convert to an integer for comparison\n",
    "\n",
    "if t == 1:\n",
    "    c = Daily()\n",
    "    c.setStaff()\n",
    "    c.setTypist()\n",
    "    c.setDaily()\n",
    "    print(c.getStaff())\n",
    "    print(c.getTypist())\n",
    "    print(c.getDaily())\n",
    "elif t == 2:\n",
    "    c = Monthly()\n",
    "    c.setStaff()\n",
    "    c.setTypist()\n",
    "    c.setMonthly()  # Fixed the typo here\n",
    "    print(c.getStaff())\n",
    "    print(c.getTypist())\n",
    "    print(c.getMonthly())  # Fixed the typo here"
   ]
  },
  {
   "cell_type": "code",
   "execution_count": 11,
   "id": "86aee024-f473-4c21-85c3-10fe73bf7c1f",
   "metadata": {},
   "outputs": [
    {
     "name": "stdin",
     "output_type": "stream",
     "text": [
      "Enter student's name:  sam\n",
      "Enter marks for subject 1:  50\n",
      "Enter marks for subject 2:  60\n",
      "Enter marks for subject 3:  45\n",
      "Do you want to continue (yes/no):  yes\n",
      "Enter student's name:  sai\n",
      "Enter marks for subject 1:  30\n",
      "Enter marks for subject 2:  12\n",
      "Enter marks for subject 3:  90\n",
      "Do you want to continue (yes/no):  no\n"
     ]
    },
    {
     "name": "stdout",
     "output_type": "stream",
     "text": [
      "studentname:sam mark1:50 mark2:60 mark3:45 total:155\n",
      "studentname:sai mark1:30 mark2:12 mark3:90 total:132\n"
     ]
    }
   ],
   "source": [
    "# Examples\n",
    "class School:\n",
    "    def setSchool(self):\n",
    "        self.name = input(\"Enter student's name: \")\n",
    "        self.marks1 = int(input(\"Enter marks for subject 1: \"))\n",
    "        self.marks2 = int(input(\"Enter marks for subject 2: \"))\n",
    "        self.marks3 = int(input(\"Enter marks for subject 3: \"))\n",
    "        self.total = self.marks1 + self.marks2 + self.marks3\n",
    "    \n",
    "    def getSchool(self):\n",
    "        return \"studentname:\"+self.name+\" \"+\"mark1:\"+str(self.marks1)+\" \"+\"mark2:\"+str(self.marks2)+\" \"+\"mark3:\"+str(self.marks3)+\" \"+\"total:\"+str(self.total)\n",
    "\n",
    "students = []\n",
    "while True:\n",
    "    c = School()\n",
    "    c.setSchool()\n",
    "    students.append(c)\n",
    "    choice = input(\"Do you want to continue (yes/no): \").lower()\n",
    "    if choice == 'no':\n",
    "        break\n",
    "for c in students:\n",
    "    print(c.getSchool())"
   ]
  },
  {
   "cell_type": "code",
   "execution_count": 13,
   "id": "f3c97c9f-f2d8-4441-a2e2-8c3219713e44",
   "metadata": {},
   "outputs": [
    {
     "name": "stdin",
     "output_type": "stream",
     "text": [
      "Enter title:  jai sri ram\n",
      "Enter author name:  ram\n",
      "Enter ISBN:  21233\n",
      "Enter status (available/borrowed):  borrowed\n",
      "Enter name:  ki\n",
      "Enter ID:  123\n",
      "Enter email:  ead@gmail.com\n"
     ]
    },
    {
     "name": "stdout",
     "output_type": "stream",
     "text": [
      "\n",
      "Book Details:\n",
      "Title:jai sri ram\n",
      "Author Name:ram\n",
      "ISBN:21233\n",
      "Status:borrowed\n",
      "\n",
      "Member Details:\n"
     ]
    },
    {
     "ename": "AttributeError",
     "evalue": "'Member' object has no attribute 'borrowed_book'",
     "output_type": "error",
     "traceback": [
      "\u001b[1;31m---------------------------------------------------------------------------\u001b[0m",
      "\u001b[1;31mAttributeError\u001b[0m                            Traceback (most recent call last)",
      "Cell \u001b[1;32mIn[13], line 43\u001b[0m\n\u001b[0;32m     41\u001b[0m \u001b[38;5;28mprint\u001b[39m(book1\u001b[38;5;241m.\u001b[39mgetBook())\n\u001b[0;32m     42\u001b[0m \u001b[38;5;28mprint\u001b[39m(\u001b[38;5;124m\"\u001b[39m\u001b[38;5;130;01m\\n\u001b[39;00m\u001b[38;5;124mMember Details:\u001b[39m\u001b[38;5;124m\"\u001b[39m)\n\u001b[1;32m---> 43\u001b[0m \u001b[38;5;28mprint\u001b[39m(member1\u001b[38;5;241m.\u001b[39mgetMember())\n\u001b[0;32m     44\u001b[0m member1\u001b[38;5;241m.\u001b[39mborrow_book(book1)\n\u001b[0;32m     45\u001b[0m \u001b[38;5;28mprint\u001b[39m(\u001b[38;5;124m\"\u001b[39m\u001b[38;5;130;01m\\n\u001b[39;00m\u001b[38;5;124mUpdated Member Details:\u001b[39m\u001b[38;5;124m\"\u001b[39m)\n",
      "Cell \u001b[1;32mIn[13], line 34\u001b[0m, in \u001b[0;36mMember.getMember\u001b[1;34m(self)\u001b[0m\n\u001b[0;32m     32\u001b[0m borrowed_books_titles \u001b[38;5;241m=\u001b[39m [book\u001b[38;5;241m.\u001b[39mtitle \u001b[38;5;28;01mfor\u001b[39;00m book \u001b[38;5;129;01min\u001b[39;00m \u001b[38;5;28mself\u001b[39m\u001b[38;5;241m.\u001b[39mborrowed_books]\n\u001b[0;32m     33\u001b[0m borrowed_books_str \u001b[38;5;241m=\u001b[39m \u001b[38;5;124m\"\u001b[39m\u001b[38;5;124m, \u001b[39m\u001b[38;5;124m\"\u001b[39m\u001b[38;5;241m.\u001b[39mjoin(borrowed_books_titles) \u001b[38;5;28;01mif\u001b[39;00m borrowed_books_titles \u001b[38;5;28;01melse\u001b[39;00m \u001b[38;5;124m\"\u001b[39m\u001b[38;5;124mNone\u001b[39m\u001b[38;5;124m\"\u001b[39m\n\u001b[1;32m---> 34\u001b[0m \u001b[38;5;28;01mreturn\u001b[39;00m \u001b[38;5;124m\"\u001b[39m\u001b[38;5;124mName:\u001b[39m\u001b[38;5;124m\"\u001b[39m\u001b[38;5;241m+\u001b[39m\u001b[38;5;28mself\u001b[39m\u001b[38;5;241m.\u001b[39mname\u001b[38;5;241m+\u001b[39m\u001b[38;5;124m\"\u001b[39m\u001b[38;5;130;01m\\n\u001b[39;00m\u001b[38;5;124m\"\u001b[39m\u001b[38;5;241m+\u001b[39m\u001b[38;5;124m\"\u001b[39m\u001b[38;5;124mMember_id\u001b[39m\u001b[38;5;124m\"\u001b[39m\u001b[38;5;241m+\u001b[39m\u001b[38;5;28mstr\u001b[39m(\u001b[38;5;28mself\u001b[39m\u001b[38;5;241m.\u001b[39mmember_id)\u001b[38;5;241m+\u001b[39m\u001b[38;5;124m\"\u001b[39m\u001b[38;5;130;01m\\n\u001b[39;00m\u001b[38;5;124m\"\u001b[39m\u001b[38;5;241m+\u001b[39m\u001b[38;5;124m\"\u001b[39m\u001b[38;5;124mEmail\u001b[39m\u001b[38;5;124m\"\u001b[39m\u001b[38;5;241m+\u001b[39m\u001b[38;5;28mself\u001b[39m\u001b[38;5;241m.\u001b[39memail\u001b[38;5;241m+\u001b[39m\u001b[38;5;124m\"\u001b[39m\u001b[38;5;130;01m\\n\u001b[39;00m\u001b[38;5;124m\"\u001b[39m\u001b[38;5;241m+\u001b[39m\u001b[38;5;124m\"\u001b[39m\u001b[38;5;124mBorrowed_books\u001b[39m\u001b[38;5;124m\"\u001b[39m\u001b[38;5;241m+\u001b[39m\u001b[38;5;28mself\u001b[39m\u001b[38;5;241m.\u001b[39mborrowed_book\n",
      "\u001b[1;31mAttributeError\u001b[0m: 'Member' object has no attribute 'borrowed_book'"
     ]
    }
   ],
   "source": [
    "# Example\n",
    "class Book:\n",
    "    def setBook(self):\n",
    "        self.title = input(\"Enter title: \")\n",
    "        self.author = input(\"Enter author name: \")\n",
    "        self.ISBN = int(input(\"Enter ISBN: \"))\n",
    "        self.status = input(\"Enter status (available/borrowed): \")\n",
    "\n",
    "    def getBook(self):\n",
    "       return \"Title:\"+self.title+\"\\n\"+\"Author Name:\"+self.author+\"\\n\"+\"ISBN:\"+str(self.ISBN)+\"\\n\"+\"Status:\"+self.status\n",
    "\n",
    "    def getStatus(self):\n",
    "        return self.status\n",
    "\n",
    "\n",
    "class Member:\n",
    "    def setMember(self):\n",
    "        self.name = input(\"Enter name: \")\n",
    "        self.member_id = int(input(\"Enter ID: \"))\n",
    "        self.email = input(\"Enter email: \")\n",
    "        self.borrowed_books = []\n",
    "\n",
    "    def borrow_book(self, book):\n",
    "        if book.getStatus() == \"available\":\n",
    "            book.status = \"borrowed\"\n",
    "            self.borrowed_books.append(book)\n",
    "            print(f\"Book '{book.title}' borrowed successfully!\")\n",
    "        else:\n",
    "            print(f\"Book '{book.title}' is already borrowed.\")\n",
    "\n",
    "    def getMember(self):\n",
    "        borrowed_books_titles = [book.title for book in self.borrowed_books]\n",
    "        borrowed_books_str = \", \".join(borrowed_books_titles) if borrowed_books_titles else \"None\"\n",
    "        return \"Name:\"+self.name+\"\\n\"+\"Member_id\"+str(self.member_id)+\"\\n\"+\"Email\"+self.email+\"\\n\"+\"Borrowed_books\"+self.borrowed_book\n",
    "\n",
    "book1 = Book()\n",
    "book1.setBook()\n",
    "member1 = Member()\n",
    "member1.setMember()\n",
    "print(\"\\nBook Details:\")\n",
    "print(book1.getBook())\n",
    "print(\"\\nMember Details:\")\n",
    "print(member1.getMember())\n",
    "member1.borrow_book(book1)\n",
    "print(\"\\nUpdated Member Details:\")\n",
    "print(member1.getMember())\n",
    "member1.borrow_book(book1)"
   ]
  },
  {
   "cell_type": "code",
   "execution_count": null,
   "id": "650c4bcb-83eb-454e-b383-890c182bdb4c",
   "metadata": {},
   "outputs": [],
   "source": []
  }
 ],
 "metadata": {
  "kernelspec": {
   "display_name": "Python 3 (ipykernel)",
   "language": "python",
   "name": "python3"
  },
  "language_info": {
   "codemirror_mode": {
    "name": "ipython",
    "version": 3
   },
   "file_extension": ".py",
   "mimetype": "text/x-python",
   "name": "python",
   "nbconvert_exporter": "python",
   "pygments_lexer": "ipython3",
   "version": "3.12.7"
  }
 },
 "nbformat": 4,
 "nbformat_minor": 5
}
