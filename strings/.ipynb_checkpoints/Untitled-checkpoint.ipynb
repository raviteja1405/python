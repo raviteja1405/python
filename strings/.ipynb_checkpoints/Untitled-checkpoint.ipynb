{
 "cells": [
  {
   "cell_type": "code",
   "execution_count": null,
   "id": "146c63a8-2ecc-4bb8-ab5a-a91ac2ed1251",
   "metadata": {},
   "outputs": [],
   "source": [
    "n=input(\"enter a text\")\n",
    "vowels=0\n",
    "consonants=0\n",
    "for i in n:\n",
    "    if(i=='a' or i=='e' or i=='i' or i=='o' or i=='u' or i=='A' or i=='E' or i=='I' or i=='O' or i=='U'):\n",
    "       vowels=vowels+1\n",
    "    else:\n",
    "       consonants=consonants+1\n",
    "print(\"total number of vowels \",vowels)\n",
    "print(\"total number of consonants\",consonants)"
   ]
  },
  {
   "cell_type": "code",
   "execution_count": null,
   "id": "db7a5a21-8f3c-483e-924d-105d8c24e7ab",
   "metadata": {},
   "outputs": [],
   "source": [
    "s1=input(\"enter a text:\")\n",
    "a=s1.split(' ')\n",
    "print(len(a))"
   ]
  },
  {
   "cell_type": "code",
   "execution_count": null,
   "id": "51c166e8-518f-484e-aae7-6b3ca0f78297",
   "metadata": {},
   "outputs": [],
   "source": [
    "s1=input(\"enter a text\")\n",
    "s2=input(\"enter a character\")\n",
    "c=0\n",
    "for i in s1:\n",
    "    if i==s2:\n",
    "       c=c+1\n",
    "print(c,\"times character occur\")"
   ]
  },
  {
   "cell_type": "code",
   "execution_count": null,
   "id": "eb9a069f-3025-487c-9653-7e3a7958d4af",
   "metadata": {},
   "outputs": [],
   "source": [
    "s1=input(\"enter a text\") \n",
    "s2=input(\"enter a word\")\n",
    "a=list(s2)\n",
    "c=0\n",
    "for i in a:\n",
    "    if i in s1:\n",
    "       c=c+1\n",
    "if c==len(s2):\n",
    "   print(\" Yes word can be formed\")\n",
    "else:\n",
    "   print(\" No word cannot be formed\")"
   ]
  },
  {
   "cell_type": "code",
   "execution_count": 1,
   "id": "dd28d78d-3ce1-4cd3-9710-6349c510cb64",
   "metadata": {},
   "outputs": [
    {
     "name": "stdout",
     "output_type": "stream",
     "text": [
      "12321\n",
      "palindrome\n"
     ]
    }
   ],
   "source": [
    "n=12321\n",
    "c=str(n)[::-1]\n",
    "print(c)\n",
    "if c==str(n):\n",
    "    print(\"palindrome\")\n",
    "else:\n",
    "    print(\"not palindrome\")"
   ]
  },
  {
   "cell_type": "code",
   "execution_count": 5,
   "id": "be63cd63-2caa-478b-b5a8-11c7230d271d",
   "metadata": {},
   "outputs": [
    {
     "name": "stdout",
     "output_type": "stream",
     "text": [
      "{'P': 1, 'r': 2, 'o': 1, 'g': 2, 'a': 1, 'm': 2, 'i': 2, 'n': 2, ' ': 2, 's': 1, 'f': 1, 'u': 1}\n"
     ]
    }
   ],
   "source": [
    "# 1. Character Frequency Counter\n",
    "a=\"Programming is fun\"\n",
    "d={}\n",
    "for i in a:\n",
    "    if i in d:\n",
    "        d[i]+=1\n",
    "    else:\n",
    "        d[i]=1\n",
    "print(d)"
   ]
  },
  {
   "cell_type": "code",
   "execution_count": 3,
   "id": "1fb21d20-3796-45da-ad58-767dc3ac9730",
   "metadata": {},
   "outputs": [
    {
     "name": "stdout",
     "output_type": "stream",
     "text": [
      "{'The': 3, 'quick': 5, 'brown': 5, 'fox': 3, 'jumps': 5, 'over': 4, 'the': 3, 'lazy': 4, 'dog': 3}\n"
     ]
    }
   ],
   "source": [
    "# 2. Word Length Mapping\n",
    "a=\"The quick brown fox jumps over the lazy dog\"\n",
    "d={}\n",
    "b=a.split()\n",
    "c=dict(map(lambda x:(x,len(x)),b))\n",
    "# for i in range(len(b)):\n",
    "#     d[b[i]] = c[i]\n",
    "# print(d)\n",
    "print(c)"
   ]
  },
  {
   "cell_type": "code",
   "execution_count": null,
   "id": "086561e8-986e-4af6-832f-c3c7ffcea0b9",
   "metadata": {},
   "outputs": [],
   "source": [
    "# 3. Anagram Groups\n",
    "# l=[\"listen\", \"silent\", \"enlist\", \"rat\", \"tar\", \"art\", \"hello\"]\n",
    "# d={}"
   ]
  },
  {
   "cell_type": "code",
   "execution_count": 89,
   "id": "1e3fea49-7510-457d-8ece-a4554c36c796",
   "metadata": {},
   "outputs": [
    {
     "name": "stdout",
     "output_type": "stream",
     "text": [
      "{'s': 3, 'w': 1, 'i': 1}\n"
     ]
    }
   ],
   "source": [
    "# 4. First Non-Repeating Character\n",
    "R=\"swiss\"\n",
    "d={}\n",
    "for i in R:\n",
    "    if i in d:\n",
    "        d[i]+=1\n",
    "    else:\n",
    "        d[i]=1\n",
    "print(d)"
   ]
  },
  {
   "cell_type": "code",
   "execution_count": 27,
   "id": "5f74c11c-f453-4f9e-b64b-0cb7ce04f7c8",
   "metadata": {},
   "outputs": [
    {
     "name": "stdout",
     "output_type": "stream",
     "text": [
      "{'ban': 2, 'ana': 2, 'na': 3}\n"
     ]
    }
   ],
   "source": [
    "#  5.Substring Frequency Counter\n",
    "string = \"banana bandana\"\n",
    "#print(string.count(\"ban\"))\n",
    "substrings=[\"ban\",\"ana\",\"na\"]\n",
    "for i in substrings:\n",
    "    #print(i)\n",
    "    c=string.count(i)\n",
    "    #print(c)\n",
    "    d[i]=c\n",
    "print(d)"
   ]
  },
  {
   "cell_type": "code",
   "execution_count": null,
   "id": "2e9b8c7b-3a6f-4b18-aeb2-ec316b844c7b",
   "metadata": {},
   "outputs": [],
   "source": []
  }
 ],
 "metadata": {
  "kernelspec": {
   "display_name": "Python 3 (ipykernel)",
   "language": "python",
   "name": "python3"
  },
  "language_info": {
   "codemirror_mode": {
    "name": "ipython",
    "version": 3
   },
   "file_extension": ".py",
   "mimetype": "text/x-python",
   "name": "python",
   "nbconvert_exporter": "python",
   "pygments_lexer": "ipython3",
   "version": "3.12.7"
  }
 },
 "nbformat": 4,
 "nbformat_minor": 5
}
