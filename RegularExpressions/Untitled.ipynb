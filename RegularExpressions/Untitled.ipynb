{
 "cells": [
  {
   "cell_type": "code",
   "execution_count": 1,
   "id": "f5d93f4f-d9f2-45fb-8647-a3d7ef085dcf",
   "metadata": {},
   "outputs": [
    {
     "name": "stdout",
     "output_type": "stream",
     "text": [
      "No match\n"
     ]
    }
   ],
   "source": [
    "import re\n",
    "txt=\"the rain in AP\"\n",
    "x=re.search(\"^The.*AP$\",txt)\n",
    "if (x):\n",
    "   print(\"YES!We have a match!\")\n",
    "else:\n",
    "   print(\"No match\")"
   ]
  },
  {
   "cell_type": "code",
   "execution_count": 3,
   "id": "1df8ce59-7cf4-431a-9a79-44f1fccfb725",
   "metadata": {},
   "outputs": [
    {
     "name": "stdout",
     "output_type": "stream",
     "text": [
      "['ai', 'ai']\n"
     ]
    }
   ],
   "source": [
    "import re\n",
    "str=\"The rain is gain\"\n",
    "x=re.findall(\"ai\",str)\n",
    "print(x)"
   ]
  },
  {
   "cell_type": "code",
   "execution_count": 5,
   "id": "31944e7d-6e5a-4682-89e0-a7ac52fcd27f",
   "metadata": {},
   "outputs": [
    {
     "name": "stdout",
     "output_type": "stream",
     "text": [
      "The first white-space character is located in position: 3\n"
     ]
    }
   ],
   "source": [
    "import re\n",
    "str=\"The rain is gain\"\n",
    "x=re.search(r\"\\s\",str)\n",
    "print(\"The first white-space character is located in position:\",x.start())"
   ]
  },
  {
   "cell_type": "code",
   "execution_count": 7,
   "id": "d870e6ff-64db-4008-8735-bd5bd4f1727f",
   "metadata": {},
   "outputs": [
    {
     "name": "stdout",
     "output_type": "stream",
     "text": [
      "['The', 'rain', 'is', 'gain']\n"
     ]
    }
   ],
   "source": [
    "import re\n",
    "str=\"The rain is gain\"\n",
    "x=re.split(r\"\\s\",str)\n",
    "print(x)"
   ]
  },
  {
   "cell_type": "code",
   "execution_count": 9,
   "id": "c1c32766-e2d8-4883-b020-d6a3c1150129",
   "metadata": {},
   "outputs": [
    {
     "name": "stdout",
     "output_type": "stream",
     "text": [
      "['The', 'rain', 'is gain in all seasons']\n"
     ]
    }
   ],
   "source": [
    "import re\n",
    "str=\"The rain is gain in all seasons\"\n",
    "x=re.split(r\"\\s\",str,2)\n",
    "print(x)"
   ]
  },
  {
   "cell_type": "code",
   "execution_count": 11,
   "id": "0821b08d-67c3-498f-9155-a786b47913ea",
   "metadata": {},
   "outputs": [
    {
     "name": "stdout",
     "output_type": "stream",
     "text": [
      "The-rain-in-spain\n"
     ]
    }
   ],
   "source": [
    "import re\n",
    "str=\"The rain in spain\"\n",
    "x=re.sub(r\"\\s\",\"-\",str)\n",
    "print(x)"
   ]
  },
  {
   "cell_type": "code",
   "execution_count": 13,
   "id": "f77be523-cd32-4799-b0ac-7854ecf1db70",
   "metadata": {},
   "outputs": [
    {
     "name": "stdout",
     "output_type": "stream",
     "text": [
      "The-rain-is gain\n"
     ]
    }
   ],
   "source": [
    "import re\n",
    "str=\"The rain is gain\"\n",
    "x=re.sub(r\"\\s\",\"-\",str,2)\n",
    "print(x)"
   ]
  },
  {
   "cell_type": "code",
   "execution_count": 19,
   "id": "b15a4c21-221e-4120-9d6f-3282e154bd4d",
   "metadata": {},
   "outputs": [
    {
     "name": "stdout",
     "output_type": "stream",
     "text": [
      "<re.Match object; span=(5, 7), match='ai'>\n"
     ]
    }
   ],
   "source": [
    "import re\n",
    "str=\"The rain is gain\"\n",
    "x=re.search(\"ai\",str)\n",
    "print(x)"
   ]
  },
  {
   "cell_type": "code",
   "execution_count": 21,
   "id": "d643684a-0915-416e-b934-0a1407c99a49",
   "metadata": {},
   "outputs": [
    {
     "name": "stdout",
     "output_type": "stream",
     "text": [
      "(12, 18)\n"
     ]
    }
   ],
   "source": [
    "import re\n",
    "str=\"The rain in Andhra\"\n",
    "x=re.search(r\"\\bA\\w+\",str)\n",
    "print(x.span())"
   ]
  },
  {
   "cell_type": "code",
   "execution_count": 23,
   "id": "3b2b4d96-003b-4257-9244-a3b10c34480a",
   "metadata": {},
   "outputs": [
    {
     "name": "stdout",
     "output_type": "stream",
     "text": [
      "ANdhra\n"
     ]
    }
   ],
   "source": [
    "import re\n",
    "str=\"The rain in ANdhra\"\n",
    "x=re.search(r\"\\bAN\\w+\",str)\n",
    "print(x.group())"
   ]
  },
  {
   "cell_type": "code",
   "execution_count": null,
   "id": "8c9222f4-bf6c-4589-994c-0356059b9232",
   "metadata": {},
   "outputs": [],
   "source": []
  }
 ],
 "metadata": {
  "kernelspec": {
   "display_name": "Python 3 (ipykernel)",
   "language": "python",
   "name": "python3"
  },
  "language_info": {
   "codemirror_mode": {
    "name": "ipython",
    "version": 3
   },
   "file_extension": ".py",
   "mimetype": "text/x-python",
   "name": "python",
   "nbconvert_exporter": "python",
   "pygments_lexer": "ipython3",
   "version": "3.12.7"
  }
 },
 "nbformat": 4,
 "nbformat_minor": 5
}
