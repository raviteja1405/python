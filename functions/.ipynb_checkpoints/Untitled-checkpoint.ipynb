{
 "cells": [
  {
   "cell_type": "code",
   "execution_count": 2,
   "id": "c1bde292-bbec-4b7e-b694-fcaeb523889d",
   "metadata": {},
   "outputs": [
    {
     "name": "stdout",
     "output_type": "stream",
     "text": [
      "--------\n",
      "welcome\n",
      "--------\n"
     ]
    }
   ],
   "source": [
    "print(\"--------\")\n",
    "print(\"welcome\")\n",
    "print(\"--------\")"
   ]
  },
  {
   "cell_type": "code",
   "execution_count": 4,
   "id": "eaa4894a-5a54-4c61-8740-1a4d82683122",
   "metadata": {},
   "outputs": [
    {
     "name": "stdout",
     "output_type": "stream",
     "text": [
      "----\n",
      "welcome\n",
      "----\n",
      "welcome\n",
      "----\n",
      "welcome\n",
      "----\n",
      "welcome\n",
      "----\n",
      "welcome\n",
      "----\n",
      "welcome\n",
      "----\n",
      "welcome\n",
      "----\n",
      "welcome\n",
      "--------------------------------"
     ]
    }
   ],
   "source": [
    "for i in range(8):\n",
    "    print('----',end='')\n",
    "    print(\"\\nwelcome\")\n",
    "for i in range(8):\n",
    "    print('----',end='')"
   ]
  },
  {
   "cell_type": "code",
   "execution_count": 6,
   "id": "9372cf1a-3a37-4113-a2af-f24018a76c30",
   "metadata": {},
   "outputs": [
    {
     "name": "stdout",
     "output_type": "stream",
     "text": [
      "--------------------------------\n",
      " welcome\n",
      "--------------------------------"
     ]
    }
   ],
   "source": [
    "def line():\n",
    "    for i in range(8):\n",
    "        print(\"----\",end='')\n",
    "line()\n",
    "print(\"\\n welcome\")\n",
    "line()"
   ]
  },
  {
   "cell_type": "code",
   "execution_count": 8,
   "id": "8cb63c7c-3e18-481e-95ef-6b8d15fbe926",
   "metadata": {},
   "outputs": [
    {
     "name": "stdin",
     "output_type": "stream",
     "text": [
      "value for n1 2\n",
      "value for n2 5\n"
     ]
    },
    {
     "name": "stdout",
     "output_type": "stream",
     "text": [
      "2 is prime\n",
      "5 is prime\n"
     ]
    }
   ],
   "source": [
    "def prime(n):\n",
    "    fc=0\n",
    "    for f in range(1,n+1):\n",
    "        if n%f==0:\n",
    "           fc=fc+1\n",
    "    if fc==2:\n",
    "        print(n,\"is prime\")\n",
    "    else:\n",
    "        print(n,\"is not prime\")\n",
    "n1=int(input(\"value for n1\"))\n",
    "n2=int(input(\"value for n2\"))\n",
    "prime(n1)\n",
    "prime(n2)"
   ]
  },
  {
   "cell_type": "code",
   "execution_count": 10,
   "id": "3af3da1d-9663-4691-bf8e-a8f41868e513",
   "metadata": {},
   "outputs": [
    {
     "name": "stdin",
     "output_type": "stream",
     "text": [
      "value for n1 12\n",
      "value for n2 14\n"
     ]
    },
    {
     "name": "stdout",
     "output_type": "stream",
     "text": [
      "-2\n"
     ]
    }
   ],
   "source": [
    "def prime(n):\n",
    "    fc=0\n",
    "    for f in range(1,n+1):\n",
    "        if n%f==0:\n",
    "           fc=fc+1\n",
    "    if fc==2:\n",
    "       return 1\n",
    "    else:\n",
    "       return 0\n",
    "n1=int(input(\"value for n1\"))\n",
    "n2=int(input(\"value for n2\"))\n",
    "s1=prime(n1)\n",
    "s2=prime(n2)\n",
    "if s1==1 and s2==1:\n",
    "    print(n1+n2)\n",
    "else:\n",
    "    print(n1-n2)"
   ]
  },
  {
   "cell_type": "code",
   "execution_count": 12,
   "id": "575602d0-1e3c-42c2-a7f2-2062d2c25c1c",
   "metadata": {},
   "outputs": [
    {
     "name": "stdin",
     "output_type": "stream",
     "text": [
      "value for n1 3385\n",
      "value for n2 334\n"
     ]
    },
    {
     "name": "stdout",
     "output_type": "stream",
     "text": [
      "3385 contains more digits\n"
     ]
    }
   ],
   "source": [
    "def digits(n):\n",
    "    dc=0\n",
    "    while(n>0):\n",
    "        dc=dc+1\n",
    "        n=n//10\n",
    "    return dc\n",
    "n1=int(input(\"value for n1\"))\n",
    "n2=int(input(\"value for n2\"))\n",
    "c1=digits(n1)\n",
    "c2=digits(n2)\n",
    "if c1>c2:\n",
    "    print(n1,\"contains more digits\")\n",
    "elif c2>c1:\n",
    "    print(n2,\"contains more digits\")\n",
    "else:\n",
    "    print(\"equal\")"
   ]
  },
  {
   "cell_type": "code",
   "execution_count": 14,
   "id": "636d36d3-644e-4075-b65c-3f7e02255589",
   "metadata": {},
   "outputs": [
    {
     "name": "stdin",
     "output_type": "stream",
     "text": [
      "value for n1 12\n",
      "value for n2 14\n"
     ]
    },
    {
     "name": "stdout",
     "output_type": "stream",
     "text": [
      "14 is perfect\n",
      "14 is biggest\n"
     ]
    }
   ],
   "source": [
    "def perfect(n):\n",
    "    fs=0\n",
    "    for f in range(1,n+1):\n",
    "        if n%f==0:\n",
    "            fs=fs+f\n",
    "            f=f+1\n",
    "    if fs==f:\n",
    "        return 1\n",
    "    else:\n",
    "        return 0\n",
    "n1=int(input(\"value for n1\"))\n",
    "n2=int(input(\"value for n2\"))\n",
    "s1=perfect(n1)\n",
    "s2=perfect(n2)\n",
    "if s1==1 and s2==1:\n",
    "    print(n1,\"is perfect\")\n",
    "else:\n",
    "    print(n2,\"is perfect\")\n",
    "if n1>n2:\n",
    "    print(n1,\"is biggest\")\n",
    "elif n2>n1:\n",
    "    print(n2,\"is biggest\")\n",
    "else:\n",
    "    print(\"equal\")"
   ]
  },
  {
   "cell_type": "code",
   "execution_count": 16,
   "id": "b3f82a76-4d42-497b-aefa-4e76d792e711",
   "metadata": {},
   "outputs": [
    {
     "name": "stdin",
     "output_type": "stream",
     "text": [
      "value for n1 2\n",
      "value for n2 4\n",
      "value for n3 7\n",
      "value for n4 5\n"
     ]
    },
    {
     "name": "stdout",
     "output_type": "stream",
     "text": [
      "12 is biggest\n"
     ]
    }
   ],
   "source": [
    "def bigsum(x,y):\n",
    "    return x+y       \n",
    "n1=int(input(\"value for n1\"))\n",
    "n2=int(input(\"value for n2\"))\n",
    "n3=int(input(\"value for n3\"))\n",
    "n4=int(input(\"value for n4\"))\n",
    "a1=bigsum(n1,n2)\n",
    "a2=bigsum(n3,n4)\n",
    "if a1>a2:\n",
    "   print(a1,\"is biggest\")\n",
    "else:\n",
    "   print(a2,\"is biggest\")"
   ]
  },
  {
   "cell_type": "code",
   "execution_count": 18,
   "id": "28efdec8-fbc8-4e5e-acaf-9e3a987fd568",
   "metadata": {},
   "outputs": [
    {
     "name": "stdin",
     "output_type": "stream",
     "text": [
      "value for n1 1\n",
      "value for n2 2\n",
      "value for n3 3\n",
      "value for n4 4\n",
      "value for n5 5\n",
      "value for n6 6\n"
     ]
    },
    {
     "name": "stdout",
     "output_type": "stream",
     "text": [
      "Biggest is 6\n"
     ]
    }
   ],
   "source": [
    "def bignum(x,y):\n",
    "    if x>y:\n",
    "       return x\n",
    "    else:\n",
    "       return y\n",
    "n1=int(input(\"value for n1\"))\n",
    "n2=int(input(\"value for n2\"))\n",
    "n3=int(input(\"value for n3\"))\n",
    "n4=int(input(\"value for n4\"))\n",
    "n5=int(input(\"value for n5\"))\n",
    "n6=int(input(\"value for n6\"))\n",
    "b1=bignum(n1,n2)\n",
    "b2=bignum(n3,n4)\n",
    "b3=bignum(n5,n6)\n",
    "b11=bignum(b1,b2)\n",
    "b12=bignum(b3,b11)\n",
    "print(\"Biggest is\",b12)"
   ]
  },
  {
   "cell_type": "code",
   "execution_count": 22,
   "id": "8f4ba64b-5ecf-4c05-8ec0-f99be3795f10",
   "metadata": {},
   "outputs": [
    {
     "name": "stdin",
     "output_type": "stream",
     "text": [
      "value for n1 153\n",
      "value for n2 169\n"
     ]
    },
    {
     "name": "stdout",
     "output_type": "stream",
     "text": [
      "153 is an armstrong\n",
      "169 is an not armstrong\n"
     ]
    }
   ],
   "source": [
    "def armstrongnum(n):\n",
    "    dc=0\n",
    "    sum=0\n",
    "    temp=n\n",
    "    while temp>0:\n",
    "          dc=dc+1\n",
    "          temp=temp//10\n",
    "    temp=n\n",
    "    while temp>0:\n",
    "          rem=temp%10\n",
    "          sum=sum+rem**dc\n",
    "          temp=temp//10 \n",
    "    if sum==n:\n",
    "       return 1\n",
    "    else:\n",
    "       return 0\n",
    "n1=int(input(\"value for n1\"))\n",
    "n2=int(input(\"value for n2\"))\n",
    "s1=armstrongnum(n1)\n",
    "s2=armstrongnum(n2)\n",
    "if s1==1 and s2==1:\n",
    "   if n1>n2:\n",
    "      print(n1,\"is biggest armstrong\")\n",
    "   else:\n",
    "      print(n2,\"is biggest armstrong\")\n",
    "elif s1==1 and s2==0:\n",
    "     print(n1,\"is an armstrong\")\n",
    "     print(n2,\"is an not armstrong\")\n",
    "elif s1==0 and s2==1:\n",
    "     print(n1,\"is an not armstrong\")\n",
    "     print(n2,\"is an armstrong\")\n",
    "else:\n",
    "     print(\"both are not armstrong\")"
   ]
  },
  {
   "cell_type": "code",
   "execution_count": 26,
   "id": "61567832-4fdf-4239-9e94-ef523bbbcbfb",
   "metadata": {},
   "outputs": [
    {
     "name": "stdin",
     "output_type": "stream",
     "text": [
      "value for n1 3384\n",
      "value for n2 334\n"
     ]
    },
    {
     "name": "stdout",
     "output_type": "stream",
     "text": [
      "3384 is biggest\n"
     ]
    }
   ],
   "source": [
    "def digits(n):\n",
    "    while n>9:\n",
    "          n=n//10+n%10\n",
    "          return n\n",
    "n1=int(input(\"value for n1\"))\n",
    "n2=int(input(\"value for n2\"))\n",
    "c1=digits(n1)\n",
    "c2=digits(n2)\n",
    "if c1>c2:\n",
    "   print(n1,\"is biggest\")\n",
    "else:\n",
    "   print(n2,\"is biggest\")"
   ]
  },
  {
   "cell_type": "code",
   "execution_count": 28,
   "id": "61aadf83-0a1d-4d4b-82d2-1bc4075c6852",
   "metadata": {},
   "outputs": [
    {
     "name": "stdin",
     "output_type": "stream",
     "text": [
      "starting value 234\n",
      "ending value 45\n",
      "starting value 21\n",
      "ending value 4\n"
     ]
    },
    {
     "name": "stdout",
     "output_type": "stream",
     "text": [
      "21 4 contains more numbers\n"
     ]
    }
   ],
   "source": [
    "def primenum(c1,c2):\n",
    "    c=0\n",
    "    for n in range(c1,c2+1):\n",
    "        fc=0\n",
    "        for f in range(1,n+1):\n",
    "            if n%f==0:\n",
    "               fc=fc+1\n",
    "        if fc==2:\n",
    "           c=c+1\n",
    "    return c\n",
    "a=int(input(\"starting value\"))\n",
    "b=int(input(\"ending value\"))\n",
    "c=int(input(\"starting value\"))\n",
    "d=int(input(\"ending value\"))\n",
    "c1=primenum(a,b)\n",
    "c2=primenum(c,d)\n",
    "if c1>c2:\n",
    "   print(a,b,\"contains more numbers\")\n",
    "else:\n",
    "   print(c,d,\"contains more numbers\")"
   ]
  },
  {
   "cell_type": "code",
   "execution_count": 30,
   "id": "95389a82-7b19-473c-b94b-e2d752735a8f",
   "metadata": {},
   "outputs": [
    {
     "name": "stdout",
     "output_type": "stream",
     "text": [
      "15\n"
     ]
    }
   ],
   "source": [
    "x=lambda n1:n1+10\n",
    "print(x(5))"
   ]
  },
  {
   "cell_type": "code",
   "execution_count": null,
   "id": "68aa68ca-44f5-44f1-a364-cd49282280b9",
   "metadata": {},
   "outputs": [],
   "source": [
    "def rows_columns_pattern(r):\n",
    "    for i in range(1,r+1):\n",
    "        for j in range(1,r+1): \n",
    "            print(i*j,end=\" \")\n",
    "        print(\"\\n\")            \n",
    "n1=int(input(\"enter a number\"))\n",
    "rows_columns_pattern(n1)"
   ]
  },
  {
   "cell_type": "code",
   "execution_count": null,
   "id": "070232cf-1ca4-4247-ba99-b56522be30bb",
   "metadata": {},
   "outputs": [],
   "source": [
    "def rows_columns_pattern(r):\n",
    "    for i in range(1,r+1):\n",
    "        for j in range(1,r+1): \n",
    "            print(i**j,end=\" \")\n",
    "        print()            \n",
    "n1=int(input(\"enter a number\"))\n",
    "rows_columns_pattern(n1)"
   ]
  },
  {
   "cell_type": "code",
   "execution_count": null,
   "id": "46b33689-6fc5-4aed-81a5-845f04e6e1be",
   "metadata": {},
   "outputs": [],
   "source": [
    "def evenodd(n,r):\n",
    "    sum=0\n",
    "    while n>0:\n",
    "          rem=n%10\n",
    "          n=n//10\n",
    "          if rem%2==r:\n",
    "             sum=sum+rem\n",
    "    return sum\n",
    "n1=int(input(\"value for n1\"))\n",
    "n2=int(input(\"value for n2\"))\n",
    "es=evenodd(n1,0)\n",
    "os=evenodd(n2,1)\n",
    "if es>os:\n",
    "   print(es)\n",
    "elif os>es:\n",
    "     print(os)\n",
    "else:\n",
    "    print(\"equal\")"
   ]
  },
  {
   "cell_type": "code",
   "execution_count": null,
   "id": "211b931e-f3cf-40da-9f66-aa0db2ba8130",
   "metadata": {},
   "outputs": [],
   "source": [
    "def fact(n):\n",
    "    fac=1\n",
    "    while n>1:\n",
    "          fac=fac*n\n",
    "          n=n-1\n",
    "    return fac\n",
    "n=int(input(\"value for n\"))\n",
    "max=0\n",
    "while n>0:\n",
    "      rem=n%10\n",
    "      f=fact(rem)\n",
    "      if f>max:\n",
    "         max=f\n",
    "      n=n//10\n",
    "print(\"maximum reminder factorial\",max)"
   ]
  },
  {
   "cell_type": "code",
   "execution_count": null,
   "id": "ed4f2021-e90a-419e-8e32-047a3ba19183",
   "metadata": {},
   "outputs": [],
   "source": [
    "def prime(n1):\n",
    "    fc=0\n",
    "    for f in range(1,n1+1):\n",
    "        if n1%f==0:\n",
    "           fc=fc+1\n",
    "    if fc==2:\n",
    "       return 1\n",
    "s=int(input(\"enter a first number\"))\n",
    "e=int(input(\"enter a second number\"))\n",
    "a=0\n",
    "b=0\n",
    "if s-e==2 or e-s==2:\n",
    "   a=prime(s)\n",
    "   b=prime(e)\n",
    "if a==1 and b==1:\n",
    "   print(s,e,\"are twin prime\")\n",
    "else:\n",
    "   print(s,e,\"are not prime\")"
   ]
  },
  {
   "cell_type": "code",
   "execution_count": null,
   "id": "2027d137-c9e0-469d-abd6-1345043c97a5",
   "metadata": {},
   "outputs": [],
   "source": [
    "def valid_name(s1):\n",
    "    if s1.isalpha():\n",
    "       return True\n",
    "    else:\n",
    "       return False\n",
    "       \n",
    "def valid_no(n1):\n",
    "    if n1.isnumeric():\n",
    "       return True\n",
    "    else:\n",
    "       return False\n",
    "\n",
    "na=input(\"enter name\")\n",
    "if valid_name(na):\n",
    "   no=input(\"enter a number\")\n",
    "   if valid_no(no):\n",
    "      print(na,'rollnumber is',no)\n",
    "   else:\n",
    "      print(\"rollnumber must be only numbers\")\n",
    "else:\n",
    "      print('name must be alphabet only')"
   ]
  },
  {
   "cell_type": "code",
   "execution_count": null,
   "id": "db5e85f9-7c24-4458-8244-ff8e952db300",
   "metadata": {},
   "outputs": [],
   "source": [
    "def prime(n):\n",
    "    fc=0\n",
    "    for f in range(1,n+1):\n",
    "        if n%f==0:\n",
    "           fc=fc+1\n",
    "    if fc==2:\n",
    "       return 1\n",
    "    else:\n",
    "       return 0\n",
    "def twinprime(s,e):\n",
    "    j=0\n",
    "    for i in range(s,e+1):\n",
    "        j=i+2\n",
    "        k=prime(i)\n",
    "        l=prime(j)\n",
    "        if k==1 and l==1:\n",
    "           print(i,j)\n",
    "s=int(input(\"enter a starting number\"))\n",
    "e=int(input(\"enter a ending number\"))\n",
    "twinprime(s,e)"
   ]
  },
  {
   "cell_type": "code",
   "execution_count": null,
   "id": "c53e51fc-4a39-4f98-821b-e782132a427a",
   "metadata": {},
   "outputs": [],
   "source": []
  }
 ],
 "metadata": {
  "kernelspec": {
   "display_name": "Python 3 (ipykernel)",
   "language": "python",
   "name": "python3"
  },
  "language_info": {
   "codemirror_mode": {
    "name": "ipython",
    "version": 3
   },
   "file_extension": ".py",
   "mimetype": "text/x-python",
   "name": "python",
   "nbconvert_exporter": "python",
   "pygments_lexer": "ipython3",
   "version": "3.12.7"
  }
 },
 "nbformat": 4,
 "nbformat_minor": 5
}
