{
 "cells": [
  {
   "cell_type": "code",
   "execution_count": 1,
   "id": "ffb5a9a6-dd51-4673-9ad5-9260afcc612b",
   "metadata": {},
   "outputs": [
    {
     "name": "stdout",
     "output_type": "stream",
     "text": [
      "<class 'int'>\n",
      "<class 'int'>\n",
      "<class 'int'>\n",
      "<class 'int'>\n",
      "<class 'list'>\n",
      "{1: 2, 2: 2, 3: 2, 4: 1}\n"
     ]
    }
   ],
   "source": [
    "#nested list\n",
    "list1=[1,2,3,4,[1,2,3]]\n",
    "list2={}\n",
    "for i in list1:\n",
    "    print(type(i))\n",
    "    if type(i)==list:\n",
    "        for j in i:\n",
    "            if j in list2:\n",
    "                list2[j]+=1\n",
    "            else:\n",
    "                list2[j]=1\n",
    "    else:\n",
    "        if i in list2:\n",
    "            list2[i]+=1\n",
    "        else:\n",
    "            list2[i]=1\n",
    "print(list2)"
   ]
  },
  {
   "cell_type": "code",
   "execution_count": 3,
   "id": "639f7902-fa72-4295-bd20-ac59e609cf7a",
   "metadata": {},
   "outputs": [
    {
     "name": "stdout",
     "output_type": "stream",
     "text": [
      "[(4, 3), (-1, 8)]\n"
     ]
    }
   ],
   "source": [
    "#pair sum\n",
    "list=[2,4,3,5,6,-1,8]\n",
    "sum=7\n",
    "new_list=[]\n",
    "for i in range(len(list)-1):\n",
    "    if list[i]+list[i+1]==sum:\n",
    "        new_list+=[(list[i],list[i+1])]\n",
    "print(new_list)"
   ]
  },
  {
   "cell_type": "code",
   "execution_count": null,
   "id": "79cee038-6f1d-4023-8df0-c1e63a4795e8",
   "metadata": {},
   "outputs": [],
   "source": [
    "#shift list\n",
    "list=[1,2,3,4,5]\n",
    "n=int(input(\"enter a number:\"))\n",
    "new_list=list.copy()\n",
    "if n>0:\n",
    "    new_list=new_list[-n:]+new_list[:-n]\n",
    "else:\n",
    "    print(list)\n",
    "print(new_list)"
   ]
  },
  {
   "cell_type": "code",
   "execution_count": null,
   "id": "a0d71b75-76ec-43bc-8b4d-c8a600a35d71",
   "metadata": {},
   "outputs": [],
   "source": [
    "#product of elements\n",
    "list=[2,4,3,5,6,-1,8]\n",
    "sum=7\n",
    "new_list=[]\n",
    "for i in range(len(list)-1):\n",
    "    if list[i]+list[i+1]==sum:\n",
    "        new_list+=[(list[i],list[i+1])]\n",
    "print(new_list)"
   ]
  },
  {
   "cell_type": "code",
   "execution_count": null,
   "id": "cad5ba5e-0324-49a4-9332-b613c7244392",
   "metadata": {},
   "outputs": [],
   "source": [
    "n=6389\n",
    "s=str(n)\n",
    "for i in range(len(s)):\n",
    "    for j in range(len(s)):\n",
    "        if i!=j and j!=i:\n",
    "            print(s[i]+s[j])"
   ]
  },
  {
   "cell_type": "code",
   "execution_count": null,
   "id": "48599bfc-1dad-423a-9d1b-c1eab14f650d",
   "metadata": {},
   "outputs": [],
   "source": [
    "l=[1,2,3,4,4,4,3,3,2,5]\n",
    "c={}\n",
    "for i in l:\n",
    "    if i in c:\n",
    "        c[i]+=1\n",
    "    else:\n",
    "        c[i]=1\n",
    "print(c)"
   ]
  },
  {
   "cell_type": "code",
   "execution_count": null,
   "id": "448db1e0-f751-4eb3-88be-12cfa748fa60",
   "metadata": {},
   "outputs": [],
   "source": [
    "l=['name','job']\n",
    "d={}\n",
    "for i in l:\n",
    "    d[i]=input(\"enter\"+i)\n",
    "print(d)"
   ]
  },
  {
   "cell_type": "code",
   "execution_count": null,
   "id": "54be2e3e-d85f-4cf7-b056-50e4ed30b9a2",
   "metadata": {},
   "outputs": [],
   "source": [
    "l1=[1,2,3,4]\n",
    "l2=[6,7,8,9]\n",
    "result=[]\n",
    "for i in range(len(l1)):\n",
    "    result.append(l1[i]+l2[i])\n",
    "print(result)"
   ]
  },
  {
   "cell_type": "code",
   "execution_count": 13,
   "id": "0c27caa7-1b78-4c30-ae3e-28849320e5bc",
   "metadata": {},
   "outputs": [
    {
     "name": "stdout",
     "output_type": "stream",
     "text": [
      "[1, 2, 3, 4, 5, 5, 6, 4, 9, 10]\n",
      "{1, 2, 3, 4, 5, 6, 9, 10}\n"
     ]
    }
   ],
   "source": [
    "#1. Create a Python program to merge two lists and remove any duplicate elements.\n",
    "l1=[1,2,3,4,5]\n",
    "l2=[5,6,4,9,10]\n",
    "new_list=l1+l2\n",
    "print(new_list)\n",
    "s=set(new_list)\n",
    "print(s)"
   ]
  },
  {
   "cell_type": "code",
   "execution_count": 19,
   "id": "00d19483-60a1-41ce-a9f1-0e07b0a1143b",
   "metadata": {},
   "outputs": [
    {
     "name": "stdout",
     "output_type": "stream",
     "text": [
      "[4, 12]\n"
     ]
    }
   ],
   "source": [
    "#2. Write a Python function that accepts a tuple of numbers and returns the sum of the even numbers in the tuple.\n",
    "n=3384\n",
    "es=0\n",
    "s=[]\n",
    "while n>0:\n",
    "    rem=n%10\n",
    "    n=n//10\n",
    "    if rem%2==0:\n",
    "        es=es+rem\n",
    "        s.append(es)\n",
    "print(s)"
   ]
  },
  {
   "cell_type": "code",
   "execution_count": 21,
   "id": "4e34dd8a-a619-4530-ab29-89d42dac18af",
   "metadata": {},
   "outputs": [
    {
     "name": "stdout",
     "output_type": "stream",
     "text": [
      "{3, 4}\n"
     ]
    }
   ],
   "source": [
    "#3. Write a Python program to find the intersection of two sets. Given two sets set1 = {1, 2, 3, 4} and set2 = {3, 4, 5, 6}, return the common elements.\n",
    "s1={1,2,3,4}\n",
    "s2={3,4,5,6}\n",
    "common_ele=s1.intersection(s2)\n",
    "print(common_ele)"
   ]
  },
  {
   "cell_type": "code",
   "execution_count": 33,
   "id": "6443098c-82c4-4467-96df-af6999caeaa7",
   "metadata": {},
   "outputs": [
    {
     "name": "stdout",
     "output_type": "stream",
     "text": [
      "{'p': 1, 'r': 2, 'o': 1, 'g': 2, 'a': 1, 'm': 2, 'i': 1, 'n': 1}\n"
     ]
    }
   ],
   "source": [
    "#4. Create a Python program to count the occurrences of each character in a string using a dictionary.\n",
    "string = \"programming\"\n",
    "d={}\n",
    "for i in string:\n",
    "    if i in d:\n",
    "        d[i]+=1\n",
    "    else:\n",
    "        d[i]=1\n",
    "print(d)"
   ]
  },
  {
   "cell_type": "code",
   "execution_count": 39,
   "id": "4d0fa99d-b624-48b4-a2ff-4c64c0ae1855",
   "metadata": {},
   "outputs": [
    {
     "name": "stdout",
     "output_type": "stream",
     "text": [
      "2\n"
     ]
    }
   ],
   "source": [
    "#5. Write a Python function that accepts a dictionary and a key, and returns the value for that key if it exists, otherwise returns \"Key not found\".\n",
    "my_dict = {'a': 1, 'b': 2, 'c': 3}\n",
    "key=\"b\"\n",
    "if key in my_dict:\n",
    "    print(my_dict[key])\n",
    "else:\n",
    "    print(\"not found\")"
   ]
  },
  {
   "cell_type": "code",
   "execution_count": 49,
   "id": "eda43f40-8077-4b16-8fed-99ed57e0a517",
   "metadata": {},
   "outputs": [
    {
     "name": "stdout",
     "output_type": "stream",
     "text": [
      "9\n",
      "1\n"
     ]
    }
   ],
   "source": [
    "#6. Write a Python program to find the largest and smallest elements in a list without using the max() or min() functions.\n",
    "l1=[1,2,3,4,5,6,7,8,9]\n",
    "largest=l1[0]\n",
    "smallest=l1[0]\n",
    "for num in l1:\n",
    "    if num > largest:\n",
    "        largest = num\n",
    "    elif num < smallest:\n",
    "        smallest = num\n",
    "print(largest)\n",
    "print(smallest)"
   ]
  },
  {
   "cell_type": "code",
   "execution_count": 53,
   "id": "d4ae6c60-384d-4936-a46d-7da96c4c7c6c",
   "metadata": {},
   "outputs": [
    {
     "name": "stdout",
     "output_type": "stream",
     "text": [
      "[1, 2, 3, 4, 5, 8, 9]\n"
     ]
    }
   ],
   "source": [
    "#7. Create a Python program that takes a list of integers and removes all duplicates without using the set() function.\n",
    "l1=[1,2,3,4,5,5,4,3,8,9]\n",
    "new=[]\n",
    "for i in l1:\n",
    "    if i not in new:\n",
    "        new.append(i)\n",
    "print(new)"
   ]
  },
  {
   "cell_type": "code",
   "execution_count": null,
   "id": "2693c554-7128-4087-b653-3e02c1e11ab4",
   "metadata": {},
   "outputs": [],
   "source": []
  }
 ],
 "metadata": {
  "kernelspec": {
   "display_name": "Python 3 (ipykernel)",
   "language": "python",
   "name": "python3"
  },
  "language_info": {
   "codemirror_mode": {
    "name": "ipython",
    "version": 3
   },
   "file_extension": ".py",
   "mimetype": "text/x-python",
   "name": "python",
   "nbconvert_exporter": "python",
   "pygments_lexer": "ipython3",
   "version": "3.12.7"
  }
 },
 "nbformat": 4,
 "nbformat_minor": 5
}
