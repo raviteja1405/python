{
 "cells": [
  {
   "cell_type": "code",
   "execution_count": 11,
   "id": "da9331dd-a13c-45bc-a6c7-238a5c9aafb6",
   "metadata": {},
   "outputs": [
    {
     "name": "stdout",
     "output_type": "stream",
     "text": [
      "ravi is a good boy\n"
     ]
    }
   ],
   "source": [
    "try:\n",
    "    f = open(\"E:\\\\pythonprogs\\\\file1.txt\")\n",
    "    for i in f:\n",
    "        print(i)\n",
    "except FileNotFoundError as Error:\n",
    "    print(\"file doesn't exists\")\n",
    "except PermissionError as Error:\n",
    "    print(\"permissions are not given to open file.\")\n",
    "except Exception as Error:\n",
    "    print(\"unexcepted error ocuurs\")\n",
    "#print(f.read())"
   ]
  },
  {
   "cell_type": "code",
   "execution_count": 13,
   "id": "674b7488-8374-4bee-bc47-f5f65812284a",
   "metadata": {},
   "outputs": [
    {
     "name": "stdout",
     "output_type": "stream",
     "text": [
      "The size of the file E:\\pythonprogs\\file1.txt is 18 bytes\n",
      "Error:FileTooLargeError\n"
     ]
    }
   ],
   "source": [
    "import os\n",
    "file_path =\"E:\\\\pythonprogs\\\\file1.txt\"\n",
    "try:\n",
    "    file_size = os.path.getsize(file_path)\n",
    "    #print(\"The size of the file \" + file_path + \" is \" + str(file_size) + \" bytes\")\n",
    "    if file_size > 10:\n",
    "        raise ValueError(\"Error:FileTooLargeError\")\n",
    "    else:\n",
    "        print(\"the file_size is in limit\")\n",
    "except ValueError as Error:\n",
    "           print(Error)"
   ]
  },
  {
   "cell_type": "code",
   "execution_count": 218,
   "id": "50843d8f-773e-4226-9546-faf4f21e9927",
   "metadata": {},
   "outputs": [
    {
     "name": "stdout",
     "output_type": "stream",
     "text": [
      "files are merged succesfully\n",
      "ravi is a good boy But he is not a class leader.\n"
     ]
    }
   ],
   "source": [
    "try:\n",
    "    f = open(\"E:\\\\pythonprogs\\\\file1.txt\")\n",
    "    #print(f.read())\n",
    "    g = open(\"E:\\\\pythonprogs\\\\file2.txt\")\n",
    "    #print(g.read())\n",
    "    o=open(\"E:\\\\pythonprogs\\\\outputfile.txt\",\"w\")\n",
    "    o.write(f.read())\n",
    "    o.write(g.read())\n",
    "    print(\"files are merged succesfully\")\n",
    "    f.close()\n",
    "    g.close()\n",
    "    o.close()\n",
    "    z=open(\"E:\\\\pythonprogs\\\\outputfile.txt\")\n",
    "    print(z.read())\n",
    "except:\n",
    "    pass"
   ]
  },
  {
   "cell_type": "code",
   "execution_count": 23,
   "id": "b0ab267a-5129-49bc-a640-ca767dc7a788",
   "metadata": {},
   "outputs": [
    {
     "name": "stdout",
     "output_type": "stream",
     "text": [
      "Coke\n",
      "Price: 100\n",
      "Quantity: 5\n",
      "Thumsup\n",
      "Price: 110\n",
      "Quantity: 3\n"
     ]
    }
   ],
   "source": [
    "import json\n",
    "j=open(\"E:\\\\pythonprogs\\\\jsonfile.txt\")\n",
    "jsondata=json.load(j)\n",
    "for name in jsondata:\n",
    "    print(name)\n",
    "    print(\"Price:\",jsondata[name][\"Price\"])\n",
    "    print(\"Quantity:\",jsondata[name][\"Quantity\"])"
   ]
  },
  {
   "cell_type": "code",
   "execution_count": null,
   "id": "a307ebc7-37e6-4943-9015-890e6a95a65c",
   "metadata": {},
   "outputs": [],
   "source": []
  }
 ],
 "metadata": {
  "kernelspec": {
   "display_name": "Python 3 (ipykernel)",
   "language": "python",
   "name": "python3"
  },
  "language_info": {
   "codemirror_mode": {
    "name": "ipython",
    "version": 3
   },
   "file_extension": ".py",
   "mimetype": "text/x-python",
   "name": "python",
   "nbconvert_exporter": "python",
   "pygments_lexer": "ipython3",
   "version": "3.12.7"
  }
 },
 "nbformat": 4,
 "nbformat_minor": 5
}
