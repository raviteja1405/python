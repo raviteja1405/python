{
 "cells": [
  {
   "cell_type": "code",
   "execution_count": 1,
   "id": "9f57364d-010e-4b4c-9ad2-490e5c75e564",
   "metadata": {},
   "outputs": [
    {
     "name": "stdout",
     "output_type": "stream",
     "text": [
      "   A  B\n",
      "0  1  0\n",
      "1  0  5\n",
      "2  3  6\n"
     ]
    }
   ],
   "source": [
    "import pandas as pd\n",
    "\n",
    "df = pd.DataFrame({'A': [1, None, 3], 'B': [None, 5, 6]})\n",
    "df_filled = df.fillna(0).astype(int)  # Replace all NaN values with 0\n",
    "print(df_filled)"
   ]
  },
  {
   "cell_type": "code",
   "execution_count": 3,
   "id": "2e868329-74b8-4abf-897a-846087c9c860",
   "metadata": {},
   "outputs": [
    {
     "name": "stdout",
     "output_type": "stream",
     "text": [
      "     A    B\n",
      "0  1.0  NaN\n",
      "1  1.0  5.0\n",
      "2  3.0  6.0\n",
      "     A    B\n",
      "0  1.0  5.0\n",
      "1  3.0  5.0\n",
      "2  3.0  6.0\n"
     ]
    },
    {
     "name": "stderr",
     "output_type": "stream",
     "text": [
      "C:\\Users\\DELL\\AppData\\Local\\Temp\\ipykernel_12864\\2299350301.py:4: FutureWarning: DataFrame.fillna with 'method' is deprecated and will raise in a future version. Use obj.ffill() or obj.bfill() instead.\n",
      "  df_forward = df.fillna(method='ffill')  # Forward fill\n",
      "C:\\Users\\DELL\\AppData\\Local\\Temp\\ipykernel_12864\\2299350301.py:5: FutureWarning: DataFrame.fillna with 'method' is deprecated and will raise in a future version. Use obj.ffill() or obj.bfill() instead.\n",
      "  df_backward = df.fillna(method='bfill')  # Backward fill\n"
     ]
    }
   ],
   "source": [
    "import pandas as pd\n",
    "\n",
    "df = pd.DataFrame({'A': [1, None, 3], 'B': [None, 5, 6]})\n",
    "df_forward = df.fillna(method='ffill')  # Forward fill\n",
    "df_backward = df.fillna(method='bfill')  # Backward fill\n",
    "print(df_forward)\n",
    "print(df_backward)"
   ]
  },
  {
   "cell_type": "code",
   "execution_count": 13,
   "id": "a7c5b2bb-99de-446f-9747-18fe7ed2afd0",
   "metadata": {},
   "outputs": [
    {
     "name": "stdout",
     "output_type": "stream",
     "text": [
      "0    HELLO\n",
      "1    WORLD\n",
      "2     None\n",
      "Name: text_upper, dtype: object\n",
      "    text text_upper text_replaced\n",
      "0  hello      HELLO         hexxo\n",
      "1  world      WORLD         worxd\n",
      "2   None       None          None\n",
      "    text text_upper text_replaced  contains_o\n",
      "0  hello      HELLO         hexxo        True\n",
      "1  world      WORLD         worxd        True\n",
      "2   None       None          None       False\n",
      "    text text_upper text_replaced  contains_o text_stripped\n",
      "0  hello      HELLO         hexxo        True         hello\n",
      "1  world      WORLD         worxd        True         world\n",
      "2   None       None          None       False          None\n"
     ]
    }
   ],
   "source": [
    "import pandas as pd\n",
    "df = pd.DataFrame({'text': ['hello', 'world', None]})\n",
    "\n",
    "# Convert to uppercase\n",
    "df['text_upper'] = df['text'].str.upper()\n",
    "print(df['text_upper'])\n",
    "\n",
    "# Replace substrings\n",
    "df['text_replaced'] = df['text'].str.replace('l', 'x')\n",
    "print(df)\n",
    "\n",
    "# Check if string contains a pattern\n",
    "df['contains_o'] = df['text'].str.contains('o', na=False)\n",
    "print(df)\n",
    "\n",
    "# Remove whitespace\n",
    "df['text_stripped'] = df['text'].str.strip()\n",
    "print(df)"
   ]
  },
  {
   "cell_type": "code",
   "execution_count": 23,
   "id": "b8eb1c65-e726-4939-80a8-821594becead",
   "metadata": {},
   "outputs": [
    {
     "name": "stdout",
     "output_type": "stream",
     "text": [
      "0     1\n",
      "1     4\n",
      "2     9\n",
      "3    16\n",
      "4    25\n",
      "dtype: int64\n",
      "A     6\n",
      "B    15\n",
      "dtype: int64\n",
      "0    4\n",
      "1    5\n",
      "2    6\n",
      "dtype: int64\n"
     ]
    }
   ],
   "source": [
    "# Using Apply()\n",
    "# For Series\n",
    "import pandas as pd\n",
    "\n",
    "# Example Series\n",
    "data = pd.Series([1, 2, 3, 4, 5])\n",
    "\n",
    "# Applying a lambda function\n",
    "result = data.apply(lambda x: x ** 2)\n",
    "print(result)\n",
    "\n",
    "# For DataFrame:\n",
    "# Example DataFrame\n",
    "df = pd.DataFrame({\n",
    "    'A': [1, 2, 3],\n",
    "    'B': [4, 5, 6]\n",
    "})\n",
    "# Applying a function along columns (axis=0)\n",
    "result = df.apply(lambda x: x.sum(), axis=0)\n",
    "print(result)\n",
    "\n",
    "# Applying a function along rows (axis=1)\n",
    "result = df.apply(lambda x: x.max(), axis=1)\n",
    "print(result)"
   ]
  },
  {
   "cell_type": "code",
   "execution_count": 29,
   "id": "e0aef299-2b58-41f1-9ebb-3eb15cceda03",
   "metadata": {},
   "outputs": [
    {
     "name": "stdout",
     "output_type": "stream",
     "text": [
      "   A   B\n",
      "0  1  16\n",
      "1  4  25\n",
      "2  9  36\n"
     ]
    },
    {
     "name": "stderr",
     "output_type": "stream",
     "text": [
      "C:\\Users\\DELL\\AppData\\Local\\Temp\\ipykernel_12864\\3319636830.py:3: FutureWarning: DataFrame.applymap has been deprecated. Use DataFrame.map instead.\n",
      "  result = df.applymap(lambda x: x ** 2)\n"
     ]
    }
   ],
   "source": [
    "# Using Applymap()\n",
    "# Applying a function elementwise\n",
    "result = df.applymap(lambda x: x ** 2)\n",
    "print(result)"
   ]
  },
  {
   "cell_type": "code",
   "execution_count": 35,
   "id": "39c422e8-1923-4f70-bfc2-b79cfbd5a7f7",
   "metadata": {},
   "outputs": [
    {
     "name": "stdout",
     "output_type": "stream",
     "text": [
      "0    10\n",
      "1    20\n",
      "2    30\n",
      "3    40\n",
      "4    50\n",
      "dtype: int64\n",
      "0      One\n",
      "1      Two\n",
      "2    Three\n",
      "3      NaN\n",
      "4      NaN\n",
      "dtype: object\n"
     ]
    }
   ],
   "source": [
    "# Using map()\n",
    "# Example Series\n",
    "data = pd.Series([1, 2, 3, 4, 5])\n",
    "\n",
    "# Using map\n",
    "result = data.map(lambda x: x * 10)\n",
    "print(result)\n",
    "\n",
    "# Mapping with a dictionary\n",
    "result = data.map({1: 'One', 2: 'Two', 3: 'Three'})\n",
    "print(result)\n"
   ]
  },
  {
   "cell_type": "code",
   "execution_count": 37,
   "id": "2c8596e0-a558-4900-ace5-995f864cedfd",
   "metadata": {},
   "outputs": [
    {
     "name": "stdout",
     "output_type": "stream",
     "text": [
      "0    1.000000\n",
      "1    1.414214\n",
      "2    1.732051\n",
      "Name: A, dtype: float64\n"
     ]
    }
   ],
   "source": [
    "import numpy as np\n",
    "\n",
    "# Using NumPy functions\n",
    "result = df['A'].apply(np.sqrt)\n",
    "print(result)"
   ]
  },
  {
   "cell_type": "code",
   "execution_count": null,
   "id": "5f4cbda9-bedf-49c4-9f92-e8ed4650b8e4",
   "metadata": {},
   "outputs": [],
   "source": []
  }
 ],
 "metadata": {
  "kernelspec": {
   "display_name": "Python 3 (ipykernel)",
   "language": "python",
   "name": "python3"
  },
  "language_info": {
   "codemirror_mode": {
    "name": "ipython",
    "version": 3
   },
   "file_extension": ".py",
   "mimetype": "text/x-python",
   "name": "python",
   "nbconvert_exporter": "python",
   "pygments_lexer": "ipython3",
   "version": "3.12.7"
  }
 },
 "nbformat": 4,
 "nbformat_minor": 5
}
