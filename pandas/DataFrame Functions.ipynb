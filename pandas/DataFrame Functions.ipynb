{
 "cells": [
  {
   "cell_type": "markdown",
   "id": "d0cae808-8a24-4f0f-99e5-df63e5a1a241",
   "metadata": {},
   "source": [
    "# Creation"
   ]
  },
  {
   "cell_type": "code",
   "execution_count": 3,
   "id": "c88c9964-b334-44a1-a9cb-2b3857cf3347",
   "metadata": {},
   "outputs": [
    {
     "name": "stdout",
     "output_type": "stream",
     "text": [
      "    Name   id\n",
      "0   Ravi  169\n",
      "1  Kiran  175\n",
      "2   Hari  159\n",
      "   A  B\n",
      "0  1  3\n",
      "1  2  4\n",
      "A    [1, 2]\n",
      "B    [3, 4]\n",
      "dtype: object\n",
      "   A  B\n",
      "0  1  3\n",
      "1  2  4\n"
     ]
    }
   ],
   "source": [
    "import pandas as pd\n",
    "data={\"A\":[1,2],\"B\":[3,4]}\n",
    "df=pd.DataFrame(data)\n",
    "df1=pd.Series(data)\n",
    "df2=pd.read_csv(\"E:\\\\pythonprogs\\\\output.csv\")\n",
    "df3=pd.read_excel(\"E:\\\\pythonprogs\\\\Book2.xlsx\")\n",
    "print(df3)\n",
    "print(df2)\n",
    "print(df1)\n",
    "print(df)"
   ]
  },
  {
   "cell_type": "code",
   "execution_count": 14,
   "id": "2318b738-3094-445a-ab1a-a8f839b6491f",
   "metadata": {},
   "outputs": [
    {
     "name": "stdout",
     "output_type": "stream",
     "text": [
      "    empno   ename        job     mgr    hiredate      sal    comm  deptno\n",
      "0    7839    KING  PRESIDENT     NaN  1981-11-17   5000.0     NaN    10.0\n",
      "1    7698   BLAKE    MANAGER  7839.0  1981-05-01   2850.0     NaN    30.0\n",
      "2    7782   CLARK    MANAGER  7839.0  1981-06-09   2450.0     NaN    10.0\n",
      "3    7566   JONES    MANAGER  7839.0  1981-04-02   2975.0     NaN    20.0\n",
      "4    7788   Scott    ANALYST  7566.0  1987-07-13   3000.0     NaN    20.0\n",
      "5    7902    FORD    ANALYST  7566.0  1981-12-03   3000.0     NaN    20.0\n",
      "6    7369   SMITH      CLERK  7902.0  1980-12-17   3000.0     NaN    20.0\n",
      "7    7499   ALLEN   SALESMAN  7698.0  1981-02-20   1600.0   300.0    30.0\n",
      "8    7521    WARD   SALESMAN  7698.0  1981-02-22   1250.0   500.0    30.0\n",
      "9    7654  MARTIN   SALESMAN  7698.0  1981-09-28   1250.0  1400.0    30.0\n",
      "10   7844  TURNER   SALESMAN  7698.0  1981-09-08   1500.0     0.0    30.0\n",
      "11   7876   ADAMS      CLERK  7788.0  1987-07-13   1100.0     NaN    20.0\n",
      "12   7900   JAMES      CLERK  7698.0  1981-12-03    950.0     NaN    30.0\n",
      "13   7934  MILLER      CLERK  7782.0  1982-01-23   1300.0     NaN    10.0\n",
      "14   7777   tuski       None     NaN  1991-02-14      NaN     NaN     NaN\n",
      "15   8888     eef       None     NaN  1991-12-12      NaN     NaN     NaN\n",
      "16   3385    ewfe       None     NaN  1991-12-17      NaN     NaN     NaN\n",
      "17   9090   SURYA       None     NaN  1990-12-12      NaN     NaN     NaN\n",
      "18   3384   KRISH   SALESMAN  7783.0  1999-10-12   5000.0     0.0    10.0\n",
      "19   9999  SURESH      CLERK  7785.0  1999-12-19   1200.0     0.0    20.0\n",
      "20   3507     RAM    ANALYST  8768.0  1998-10-16  20000.0     0.0    80.0\n"
     ]
    },
    {
     "name": "stderr",
     "output_type": "stream",
     "text": [
      "C:\\Users\\DELL\\AppData\\Local\\Temp\\ipykernel_6988\\4269463535.py:12: UserWarning: pandas only supports SQLAlchemy connectable (engine/connection) or database string URI or sqlite3 DBAPI2 connection. Other DBAPI2 objects are not tested. Please consider using SQLAlchemy.\n",
      "  df4=pd.read_sql(query,conn)\n"
     ]
    }
   ],
   "source": [
    "import pandas as pd\n",
    "import pymysql\n",
    "db_name=\"employee\"\n",
    "db_host=\"localhost\"\n",
    "db_username=\"root\"\n",
    "db_password=\"tejaMS123@\"\n",
    "conn=pymysql.connect(host=db_host,\n",
    "                     user=\"root\",\n",
    "                     password=\"tejaMS123@\",\n",
    "                     db=db_name)\n",
    "query=\"select * from emp\"\n",
    "df4=pd.read_sql(query,conn)\n",
    "conn.close()\n",
    "print(df4)"
   ]
  },
  {
   "cell_type": "markdown",
   "id": "f971e5c4-4833-4ef9-bb62-8aa892439de0",
   "metadata": {},
   "source": [
    "# Inception"
   ]
  },
  {
   "cell_type": "code",
   "execution_count": 32,
   "id": "a5853993-c108-437e-b826-c0c316f7cabb",
   "metadata": {},
   "outputs": [
    {
     "name": "stdout",
     "output_type": "stream",
     "text": [
      "   empno  ename        job     mgr    hiredate     sal  comm  deptno\n",
      "0   7839   KING  PRESIDENT     NaN  1981-11-17  5000.0   NaN    10.0\n",
      "1   7698  BLAKE    MANAGER  7839.0  1981-05-01  2850.0   NaN    30.0\n",
      "2   7782  CLARK    MANAGER  7839.0  1981-06-09  2450.0   NaN    10.0\n",
      "3   7566  JONES    MANAGER  7839.0  1981-04-02  2975.0   NaN    20.0\n",
      "4   7788  Scott    ANALYST  7566.0  1987-07-13  3000.0   NaN    20.0\n"
     ]
    }
   ],
   "source": [
    "print(df4.head())"
   ]
  },
  {
   "cell_type": "code",
   "execution_count": 34,
   "id": "b46979d5-91c3-46ba-9dc8-5cbbc54097db",
   "metadata": {},
   "outputs": [
    {
     "name": "stdout",
     "output_type": "stream",
     "text": [
      "    empno   ename       job     mgr    hiredate      sal  comm  deptno\n",
      "16   3385    ewfe      None     NaN  1991-12-17      NaN   NaN     NaN\n",
      "17   9090   SURYA      None     NaN  1990-12-12      NaN   NaN     NaN\n",
      "18   3384   KRISH  SALESMAN  7783.0  1999-10-12   5000.0   0.0    10.0\n",
      "19   9999  SURESH     CLERK  7785.0  1999-12-19   1200.0   0.0    20.0\n",
      "20   3507     RAM   ANALYST  8768.0  1998-10-16  20000.0   0.0    80.0\n"
     ]
    }
   ],
   "source": [
    "print(df4.tail())"
   ]
  },
  {
   "cell_type": "code",
   "execution_count": 36,
   "id": "f4e96cf5-3d89-49e2-8966-ca00c6f12121",
   "metadata": {},
   "outputs": [
    {
     "name": "stdout",
     "output_type": "stream",
     "text": [
      "<class 'pandas.core.frame.DataFrame'>\n",
      "RangeIndex: 21 entries, 0 to 20\n",
      "Data columns (total 8 columns):\n",
      " #   Column    Non-Null Count  Dtype  \n",
      "---  ------    --------------  -----  \n",
      " 0   empno     21 non-null     int64  \n",
      " 1   ename     21 non-null     object \n",
      " 2   job       17 non-null     object \n",
      " 3   mgr       16 non-null     float64\n",
      " 4   hiredate  21 non-null     object \n",
      " 5   sal       17 non-null     float64\n",
      " 6   comm      7 non-null      float64\n",
      " 7   deptno    17 non-null     float64\n",
      "dtypes: float64(4), int64(1), object(3)\n",
      "memory usage: 1.4+ KB\n",
      "None\n"
     ]
    }
   ],
   "source": [
    "print(df4.info())"
   ]
  },
  {
   "cell_type": "code",
   "execution_count": 44,
   "id": "6f01a500-1f3f-4776-9b45-bf25927c6051",
   "metadata": {},
   "outputs": [
    {
     "name": "stdout",
     "output_type": "stream",
     "text": [
      "             empno          mgr           sal         comm     deptno\n",
      "count    21.000000    16.000000     17.000000     7.000000  17.000000\n",
      "mean   7342.952381  7809.187500   3377.941176   314.285714  24.705882\n",
      "std    1749.415630   272.415667   4466.366343   517.779140  16.247172\n",
      "min    3384.000000  7566.000000    950.000000     0.000000  10.000000\n",
      "25%    7521.000000  7698.000000   1250.000000     0.000000  20.000000\n",
      "50%    7782.000000  7782.500000   2450.000000     0.000000  20.000000\n",
      "75%    7900.000000  7839.000000   3000.000000   400.000000  30.000000\n",
      "max    9999.000000  8768.000000  20000.000000  1400.000000  80.000000\n"
     ]
    }
   ],
   "source": [
    "print(df4.describe())"
   ]
  },
  {
   "cell_type": "code",
   "execution_count": 56,
   "id": "2fbaba36-858a-4841-aba4-d225fef0da25",
   "metadata": {},
   "outputs": [
    {
     "name": "stdout",
     "output_type": "stream",
     "text": [
      "(21, 8)\n",
      "(3, 2)\n"
     ]
    }
   ],
   "source": [
    "print(df4.shape)\n",
    "print(df3.shape)"
   ]
  },
  {
   "cell_type": "code",
   "execution_count": 64,
   "id": "55351f68-77c4-45e7-b63b-6befbcd44905",
   "metadata": {},
   "outputs": [
    {
     "name": "stdout",
     "output_type": "stream",
     "text": [
      "Index(['empno', 'ename', 'job', 'mgr', 'hiredate', 'sal', 'comm', 'deptno'], dtype='object')\n",
      "Index(['Name', 'id'], dtype='object')\n"
     ]
    }
   ],
   "source": [
    "print(df4.columns)\n",
    "print(df3.columns)"
   ]
  },
  {
   "cell_type": "code",
   "execution_count": 68,
   "id": "a427ddc7-134d-4faa-bb61-a7e4aebaefd1",
   "metadata": {},
   "outputs": [
    {
     "name": "stdout",
     "output_type": "stream",
     "text": [
      "RangeIndex(start=0, stop=21, step=1)\n",
      "RangeIndex(start=0, stop=3, step=1)\n"
     ]
    }
   ],
   "source": [
    "print(df4.index)\n",
    "print(df3.index)"
   ]
  },
  {
   "cell_type": "markdown",
   "id": "e982f73c-a9b1-4b7c-9c66-798a981c059c",
   "metadata": {},
   "source": [
    "# Selection"
   ]
  },
  {
   "cell_type": "code",
   "execution_count": 18,
   "id": "d7ddc762-08ca-4a06-834e-b3d2c4b364c6",
   "metadata": {},
   "outputs": [
    {
     "name": "stdout",
     "output_type": "stream",
     "text": [
      "7839\n",
      "KING\n"
     ]
    }
   ],
   "source": [
    "print(df4.loc[0,\"empno\"])\n",
    "print(df4.loc[0,\"ename\"])"
   ]
  },
  {
   "cell_type": "code",
   "execution_count": 34,
   "id": "6b38baa1-f80d-41c2-8071-d88893f189dc",
   "metadata": {},
   "outputs": [
    {
     "name": "stdout",
     "output_type": "stream",
     "text": [
      "3\n",
      "PRESIDENT\n"
     ]
    }
   ],
   "source": [
    "print(df.iloc[0,1])  \n",
    "print(df4.iloc[0,2])"
   ]
  },
  {
   "cell_type": "code",
   "execution_count": 38,
   "id": "e84e8b7d-c8aa-408d-a245-f2795dad1a50",
   "metadata": {},
   "outputs": [
    {
     "name": "stdout",
     "output_type": "stream",
     "text": [
      "1\n",
      "FORD\n"
     ]
    }
   ],
   "source": [
    "print(df.at[0,\"A\"])\n",
    "print(df4.at[5,\"ename\"])"
   ]
  },
  {
   "cell_type": "code",
   "execution_count": 48,
   "id": "e6e29583-c16b-4168-902f-7f203b059e3e",
   "metadata": {},
   "outputs": [
    {
     "name": "stdout",
     "output_type": "stream",
     "text": [
      "3\n",
      "ANALYST\n"
     ]
    }
   ],
   "source": [
    "print(df.iat[0,1])\n",
    "print(df4.iat[5,2])"
   ]
  },
  {
   "cell_type": "code",
   "execution_count": 52,
   "id": "eecbf5cf-edbe-4ccd-82b0-c39177b27773",
   "metadata": {},
   "outputs": [
    {
     "name": "stdout",
     "output_type": "stream",
     "text": [
      "   A  B\n",
      "0  1  3\n",
      "1  2  4\n",
      "     ename        job\n",
      "0     KING  PRESIDENT\n",
      "1    BLAKE    MANAGER\n",
      "2    CLARK    MANAGER\n",
      "3    JONES    MANAGER\n",
      "4    Scott    ANALYST\n",
      "5     FORD    ANALYST\n",
      "6    SMITH      CLERK\n",
      "7    ALLEN   SALESMAN\n",
      "8     WARD   SALESMAN\n",
      "9   MARTIN   SALESMAN\n",
      "10  TURNER   SALESMAN\n",
      "11   ADAMS      CLERK\n",
      "12   JAMES      CLERK\n",
      "13  MILLER      CLERK\n",
      "14   tuski       None\n",
      "15     eef       None\n",
      "16    ewfe       None\n",
      "17   SURYA       None\n",
      "18   KRISH   SALESMAN\n",
      "19  SURESH      CLERK\n",
      "20     RAM    ANALYST\n"
     ]
    }
   ],
   "source": [
    "print(df.filter(items=[\"A\",\"B\"]))\n",
    "print(df4.filter(items=[\"ename\",\"job\"]))"
   ]
  },
  {
   "cell_type": "markdown",
   "id": "13838fd4-87a7-4af1-8fe5-155e6f8d7511",
   "metadata": {},
   "source": [
    "# indexing"
   ]
  },
  {
   "cell_type": "code",
   "execution_count": 20,
   "id": "729f60ce-3245-4f95-87b2-f8244f160103",
   "metadata": {},
   "outputs": [
    {
     "name": "stdout",
     "output_type": "stream",
     "text": [
      "    empno   ename        job     mgr    hiredate      sal    comm  deptno\n",
      "0    7839    KING  PRESIDENT     NaN  1981-11-17   5000.0     NaN    10.0\n",
      "1    7698   BLAKE    MANAGER  7839.0  1981-05-01   2850.0     NaN    30.0\n",
      "2    7782   CLARK    MANAGER  7839.0  1981-06-09   2450.0     NaN    10.0\n",
      "3    7566   JONES    MANAGER  7839.0  1981-04-02   2975.0     NaN    20.0\n",
      "4    7788   Scott    ANALYST  7566.0  1987-07-13   3000.0     NaN    20.0\n",
      "5    7902    FORD    ANALYST  7566.0  1981-12-03   3000.0     NaN    20.0\n",
      "6    7369   SMITH      CLERK  7902.0  1980-12-17   3000.0     NaN    20.0\n",
      "7    7499   ALLEN   SALESMAN  7698.0  1981-02-20   1600.0   300.0    30.0\n",
      "8    7521    WARD   SALESMAN  7698.0  1981-02-22   1250.0   500.0    30.0\n",
      "9    7654  MARTIN   SALESMAN  7698.0  1981-09-28   1250.0  1400.0    30.0\n",
      "10   7844  TURNER   SALESMAN  7698.0  1981-09-08   1500.0     0.0    30.0\n",
      "11   7876   ADAMS      CLERK  7788.0  1987-07-13   1100.0     NaN    20.0\n",
      "12   7900   JAMES      CLERK  7698.0  1981-12-03    950.0     NaN    30.0\n",
      "13   7934  MILLER      CLERK  7782.0  1982-01-23   1300.0     NaN    10.0\n",
      "14   7777   tuski       None     NaN  1991-02-14      NaN     NaN     NaN\n",
      "15   8888     eef       None     NaN  1991-12-12      NaN     NaN     NaN\n",
      "16   3385    ewfe       None     NaN  1991-12-17      NaN     NaN     NaN\n",
      "17   9090   SURYA       None     NaN  1990-12-12      NaN     NaN     NaN\n",
      "18   3384   KRISH   SALESMAN  7783.0  1999-10-12   5000.0     0.0    10.0\n",
      "19   9999  SURESH      CLERK  7785.0  1999-12-19   1200.0     0.0    20.0\n",
      "20   3507     RAM    ANALYST  8768.0  1998-10-16  20000.0     0.0    80.0\n"
     ]
    }
   ],
   "source": [
    "# print(df4.set_index(\"ename\"))\n",
    "# print(df4.reset_index())\n",
    "#print(df4.sort_index())"
   ]
  },
  {
   "cell_type": "markdown",
   "id": "1cf36aae-697e-45b9-b800-8f63ad2a5c46",
   "metadata": {},
   "source": [
    "# Manipulation"
   ]
  },
  {
   "cell_type": "code",
   "execution_count": 68,
   "id": "b5c4f52f-52f0-493b-b551-706061694778",
   "metadata": {},
   "outputs": [
    {
     "name": "stdout",
     "output_type": "stream",
     "text": [
      "   Alpha  B  C\n",
      "0      1  3  5\n",
      "1      2  4  6\n",
      "   Alpha  B\n",
      "0      1  3\n",
      "1      2  4\n",
      "   Alpha  B\n",
      "0      1  3\n",
      "1      2  4\n",
      "   A  B\n",
      "0  3  7\n"
     ]
    },
    {
     "ename": "AttributeError",
     "evalue": "'DataFrame' object has no attribute 'append'",
     "output_type": "error",
     "traceback": [
      "\u001b[1;31m---------------------------------------------------------------------------\u001b[0m",
      "\u001b[1;31mAttributeError\u001b[0m                            Traceback (most recent call last)",
      "\u001b[1;32m~\\AppData\\Local\\Temp\\ipykernel_3024\\570638148.py\u001b[0m in \u001b[0;36m?\u001b[1;34m()\u001b[0m\n\u001b[0;32m      6\u001b[0m \u001b[0mdf\u001b[0m \u001b[1;33m=\u001b[0m \u001b[0mdf\u001b[0m\u001b[1;33m.\u001b[0m\u001b[0mrename\u001b[0m\u001b[1;33m(\u001b[0m\u001b[0mcolumns\u001b[0m\u001b[1;33m=\u001b[0m\u001b[1;33m{\u001b[0m\u001b[1;34m'A'\u001b[0m\u001b[1;33m:\u001b[0m\u001b[1;34m'Alpha'\u001b[0m\u001b[1;33m}\u001b[0m\u001b[1;33m)\u001b[0m\u001b[1;33m\u001b[0m\u001b[1;33m\u001b[0m\u001b[0m\n\u001b[0;32m      7\u001b[0m \u001b[0mprint\u001b[0m\u001b[1;33m(\u001b[0m\u001b[0mdf\u001b[0m\u001b[1;33m)\u001b[0m\u001b[1;33m\u001b[0m\u001b[1;33m\u001b[0m\u001b[0m\n\u001b[0;32m      8\u001b[0m \u001b[0mdf5\u001b[0m \u001b[1;33m=\u001b[0m \u001b[0mpd\u001b[0m\u001b[1;33m.\u001b[0m\u001b[0mDataFrame\u001b[0m\u001b[1;33m(\u001b[0m\u001b[1;33m{\u001b[0m\u001b[1;34m'A'\u001b[0m\u001b[1;33m:\u001b[0m\u001b[1;33m[\u001b[0m\u001b[1;36m3\u001b[0m\u001b[1;33m]\u001b[0m\u001b[1;33m,\u001b[0m\u001b[1;34m'B'\u001b[0m\u001b[1;33m:\u001b[0m\u001b[1;33m[\u001b[0m\u001b[1;36m7\u001b[0m\u001b[1;33m]\u001b[0m\u001b[1;33m}\u001b[0m\u001b[1;33m)\u001b[0m\u001b[1;33m\u001b[0m\u001b[1;33m\u001b[0m\u001b[0m\n\u001b[0;32m      9\u001b[0m \u001b[0mprint\u001b[0m\u001b[1;33m(\u001b[0m\u001b[0mdf5\u001b[0m\u001b[1;33m)\u001b[0m\u001b[1;33m\u001b[0m\u001b[1;33m\u001b[0m\u001b[0m\n\u001b[1;32m---> 10\u001b[1;33m \u001b[0mdf\u001b[0m\u001b[1;33m=\u001b[0m \u001b[0mdf\u001b[0m\u001b[1;33m.\u001b[0m\u001b[0mappend\u001b[0m\u001b[1;33m(\u001b[0m\u001b[0mdf5\u001b[0m\u001b[1;33m,\u001b[0m \u001b[0mignore_index\u001b[0m\u001b[1;33m=\u001b[0m\u001b[1;32mTrue\u001b[0m\u001b[1;33m)\u001b[0m\u001b[1;33m\u001b[0m\u001b[1;33m\u001b[0m\u001b[0m\n\u001b[0m\u001b[0;32m     11\u001b[0m \u001b[0mprint\u001b[0m\u001b[1;33m(\u001b[0m\u001b[0mdf\u001b[0m\u001b[1;33m)\u001b[0m\u001b[1;33m\u001b[0m\u001b[1;33m\u001b[0m\u001b[0m\n",
      "\u001b[1;32m~\\anaconda3\\Lib\\site-packages\\pandas\\core\\generic.py\u001b[0m in \u001b[0;36m?\u001b[1;34m(self, name)\u001b[0m\n\u001b[0;32m   6295\u001b[0m             \u001b[1;32mand\u001b[0m \u001b[0mname\u001b[0m \u001b[1;32mnot\u001b[0m \u001b[1;32min\u001b[0m \u001b[0mself\u001b[0m\u001b[1;33m.\u001b[0m\u001b[0m_accessors\u001b[0m\u001b[1;33m\u001b[0m\u001b[1;33m\u001b[0m\u001b[0m\n\u001b[0;32m   6296\u001b[0m             \u001b[1;32mand\u001b[0m \u001b[0mself\u001b[0m\u001b[1;33m.\u001b[0m\u001b[0m_info_axis\u001b[0m\u001b[1;33m.\u001b[0m\u001b[0m_can_hold_identifiers_and_holds_name\u001b[0m\u001b[1;33m(\u001b[0m\u001b[0mname\u001b[0m\u001b[1;33m)\u001b[0m\u001b[1;33m\u001b[0m\u001b[1;33m\u001b[0m\u001b[0m\n\u001b[0;32m   6297\u001b[0m         \u001b[1;33m)\u001b[0m\u001b[1;33m:\u001b[0m\u001b[1;33m\u001b[0m\u001b[1;33m\u001b[0m\u001b[0m\n\u001b[0;32m   6298\u001b[0m             \u001b[1;32mreturn\u001b[0m \u001b[0mself\u001b[0m\u001b[1;33m[\u001b[0m\u001b[0mname\u001b[0m\u001b[1;33m]\u001b[0m\u001b[1;33m\u001b[0m\u001b[1;33m\u001b[0m\u001b[0m\n\u001b[1;32m-> 6299\u001b[1;33m         \u001b[1;32mreturn\u001b[0m \u001b[0mobject\u001b[0m\u001b[1;33m.\u001b[0m\u001b[0m__getattribute__\u001b[0m\u001b[1;33m(\u001b[0m\u001b[0mself\u001b[0m\u001b[1;33m,\u001b[0m \u001b[0mname\u001b[0m\u001b[1;33m)\u001b[0m\u001b[1;33m\u001b[0m\u001b[1;33m\u001b[0m\u001b[0m\n\u001b[0m",
      "\u001b[1;31mAttributeError\u001b[0m: 'DataFrame' object has no attribute 'append'"
     ]
    }
   ],
   "source": [
    "# Column and Row operations.\n",
    "\n",
    "df=df.assign(C=[5,6])\n",
    "print(df)\n",
    "df=df.drop(columns=['C'])\n",
    "print(df)\n",
    "df = df.rename(columns={'A':'Alpha'})\n",
    "print(df)\n",
    "df5 = pd.DataFrame({'A':[3],'B':[7]})\n",
    "print(df5)\n",
    "df= df.append(df5, ignore_index=True)\n",
    "print(df)"
   ]
  },
  {
   "cell_type": "markdown",
   "id": "2614fc6f-f7f2-44e3-b3ba-4f9f18498163",
   "metadata": {},
   "source": [
    "# Slicing"
   ]
  },
  {
   "cell_type": "code",
   "execution_count": 35,
   "id": "7b780e2b-21d9-4c24-9ff5-85ae7f0413bd",
   "metadata": {},
   "outputs": [
    {
     "name": "stdout",
     "output_type": "stream",
     "text": [
      "   empno  ename        job     mgr    hiredate     sal  comm  deptno\n",
      "0   7839   KING  PRESIDENT     NaN  1981-11-17  5000.0   NaN    10.0\n",
      "1   7698  BLAKE    MANAGER  7839.0  1981-05-01  2850.0   NaN    30.0\n",
      "2   7782  CLARK    MANAGER  7839.0  1981-06-09  2450.0   NaN    10.0\n",
      "3   7566  JONES    MANAGER  7839.0  1981-04-02  2975.0   NaN    20.0\n",
      "4   7788  Scott    ANALYST  7566.0  1987-07-13  3000.0   NaN    20.0\n",
      "5   7902   FORD    ANALYST  7566.0  1981-12-03  3000.0   NaN    20.0\n",
      "   empno  ename        job     mgr    hiredate     sal  comm  deptno\n",
      "0   7839   KING  PRESIDENT     NaN  1981-11-17  5000.0   NaN    10.0\n",
      "1   7698  BLAKE    MANAGER  7839.0  1981-05-01  2850.0   NaN    30.0\n",
      "2   7782  CLARK    MANAGER  7839.0  1981-06-09  2450.0   NaN    10.0\n",
      "3   7566  JONES    MANAGER  7839.0  1981-04-02  2975.0   NaN    20.0\n",
      "4   7788  Scott    ANALYST  7566.0  1987-07-13  3000.0   NaN    20.0\n",
      "    empno  ename        job     mgr    hiredate      sal  comm  deptno\n",
      "0    7839   KING  PRESIDENT     NaN  1981-11-17   5000.0   NaN    10.0\n",
      "18   3384  KRISH   SALESMAN  7783.0  1999-10-12   5000.0   0.0    10.0\n",
      "20   3507    RAM    ANALYST  8768.0  1998-10-16  20000.0   0.0    80.0\n"
     ]
    }
   ],
   "source": [
    "print(df4.loc[0:5])\n",
    "print(df4.iloc[0:5])\n",
    "print(df4[df4[\"sal\"]>3000])"
   ]
  },
  {
   "cell_type": "code",
   "execution_count": 25,
   "id": "78f0bab8-d791-428a-89a0-c70d1dd59605",
   "metadata": {},
   "outputs": [
    {
     "name": "stdout",
     "output_type": "stream",
     "text": [
      "Initial DataFrame:\n",
      "   OrderID Customer  Amount     Status\n",
      "0      101     Ajay     250  Completed\n",
      "1      102    Kiran     300    Pending\n",
      "2      103   Suresh     150  Completed\n"
     ]
    }
   ],
   "source": [
    "import pandas as pd\n",
    "sales_data = {\n",
    "    'OrderID': [101, 102, 103],\n",
    "    'Customer': ['Ajay', 'Kiran', 'Suresh'],\n",
    "    'Amount': [250, 300, 150],\n",
    "    'Status': ['Completed', 'Pending', 'Completed']\n",
    "}\n",
    "\n",
    "df = pd.DataFrame(sales_data)\n",
    "print(\"Initial DataFrame:\")\n",
    "print(df)"
   ]
  },
  {
   "cell_type": "code",
   "execution_count": 29,
   "id": "2b9608e3-ddc0-40b8-8a38-37e3c0672cdc",
   "metadata": {},
   "outputs": [
    {
     "name": "stdout",
     "output_type": "stream",
     "text": [
      "   OrderID Customer  Amount     Status\n",
      "0      101     Ajay     250  Completed\n",
      "1      102    Kiran     300    Pending\n",
      "2      103   Suresh     150  Completed\n",
      "3      104     Ravi     400    Pending\n",
      "4      105  Kishore     500  Completed\n",
      "5      106     Amar     350    Pending\n"
     ]
    }
   ],
   "source": [
    "# Adding rows\n",
    "# Add a new order (row)\n",
    "# df.loc[len(df)] = [104,\"Ravi\",400,\"Pending\"]\n",
    "# print(df)\n",
    "# Add multiple orders\n",
    "new_orders = pd.DataFrame({\n",
    "'OrderID':[105, 106],\n",
    "'Customer': ['Kishore','Amar'],\n",
    "'Amount': [500, 350],\n",
    "'Status': ['Completed','Pending']\n",
    "})\n",
    "df = pd.concat([df, new_orders], ignore_index=True)\n",
    "print(df)\n",
    "# df = pd.DataFrame(new_orders)\n",
    "# df_cleaned = df.drop_duplicates()\n",
    "# print(df_cleaned)"
   ]
  },
  {
   "cell_type": "code",
   "execution_count": 35,
   "id": "81103a97-3dab-4626-bf59-23f246ebe4d7",
   "metadata": {},
   "outputs": [
    {
     "name": "stdout",
     "output_type": "stream",
     "text": [
      "   OrderID Customer  Amount     Status\n",
      "0      101     Ajay     250  Completed\n",
      "1      102    Kiran     300  Completed\n",
      "2      103   Suresh     150  Completed\n",
      "3      104     Ravi     400  Completed\n",
      "4      105  Kishore     450  Completed\n",
      "5      106     Amar     350  Completed\n"
     ]
    }
   ],
   "source": [
    "# Update rows\n",
    "# df.loc[df['Status'] == 'Pending', 'Status'] = 'Completed';\n",
    "# print(df)\n",
    "df.loc[df['Amount'] > 400, 'Amount'] *= 0.9 # Apply a 10% discount\n",
    "print(df)"
   ]
  },
  {
   "cell_type": "code",
   "execution_count": 37,
   "id": "d92431fa-a283-4792-a2f0-da7a8b014b72",
   "metadata": {},
   "outputs": [
    {
     "name": "stdout",
     "output_type": "stream",
     "text": [
      "   OrderID Customer  Amount     Status\n",
      "0      101     Ajay     250  Completed\n",
      "1      102    Kiran     300  Completed\n",
      "2      103   Suresh     150  Completed\n",
      "3      104     Ravi     400  Completed\n",
      "4      105  Kishore     450  Completed\n",
      "5      106     Amar     350  Completed\n"
     ]
    }
   ],
   "source": [
    "# Deleting rows\n",
    "df = df[df['Status'] != 'Canceled']\n",
    "print(df)"
   ]
  },
  {
   "cell_type": "code",
   "execution_count": 61,
   "id": "3070e3db-a9db-4c58-9063-e7b665811d21",
   "metadata": {},
   "outputs": [
    {
     "name": "stdout",
     "output_type": "stream",
     "text": [
      "   OrderID Customer  Amount     Status Category\n",
      "0      101     Ajay     250  Completed   Medium\n",
      "1      102    Kiran     300  Completed   Medium\n",
      "2      103   Suresh     150  Completed      Low\n",
      "3      104     Ravi     400  Completed   Medium\n",
      "4      105  Kishore     450  Completed     High\n",
      "5      106     Amar     350  Completed   Medium\n"
     ]
    }
   ],
   "source": [
    "# categorized data\n",
    "def categorize_order(amount):\n",
    "    if amount <= 200:\n",
    "        return \"Low\"\n",
    "    elif 201 <= amount <= 400:\n",
    "        return 'Medium'\n",
    "    else:\n",
    "        return 'High'\n",
    "df['Category'] = df['Amount'].apply(categorize_order)\n",
    "print(df)"
   ]
  },
  {
   "cell_type": "code",
   "execution_count": 63,
   "id": "13b1d1ba-07d8-4e59-b431-2e1b86589158",
   "metadata": {},
   "outputs": [
    {
     "name": "stdout",
     "output_type": "stream",
     "text": [
      "Category\n",
      "High       450\n",
      "Low        150\n",
      "Medium    1300\n",
      "Name: Amount, dtype: int64\n"
     ]
    }
   ],
   "source": [
    "# Aggregating Data\n",
    "category_sales = df.groupby('Category')['Amount'].sum()\n",
    "print(category_sales)"
   ]
  },
  {
   "cell_type": "code",
   "execution_count": 69,
   "id": "2a915e7b-7faa-41c9-81ef-c284c16c6695",
   "metadata": {},
   "outputs": [
    {
     "name": "stdout",
     "output_type": "stream",
     "text": [
      "None\n"
     ]
    }
   ],
   "source": [
    "# Sorting and saving data\n",
    "df.to_csv('sales_data.csv', index=False)"
   ]
  },
  {
   "cell_type": "code",
   "execution_count": 35,
   "id": "5c07095a-9879-464b-b3dd-53bff09b471f",
   "metadata": {},
   "outputs": [
    {
     "name": "stdout",
     "output_type": "stream",
     "text": [
      "     A    B\n",
      "a  1.0  NaN\n",
      "b  2.0  3.0\n",
      "c  NaN  4.0\n",
      "   A  B\n",
      "b  2  3\n",
      "   A    B\n",
      "a  1  NaN\n",
      "b  2  3.0\n"
     ]
    }
   ],
   "source": [
    "# Aligning Data\n",
    "import pandas as pd\n",
    "df1=pd.DataFrame({\"A\":[1,2]},index=[\"a\",\"b\"])\n",
    "df2=pd.DataFrame({\"B\":[3,4]},index=[\"b\",\"c\"])\n",
    "# df3=df1.align(df2,join=\"outer\")\n",
    "# print(df3)\n",
    "result=pd.merge(df1,df2,left_index=True,right_index=True,how=\"outer\")\n",
    "print(result)\n",
    "result1=pd.merge(df1,df2,left_index=True,right_index=True,how=\"inner\")\n",
    "print(result1)\n",
    "result2=pd.merge(df1,df2,left_index=True,right_index=True,how=\"left\")\n",
    "print(result2)"
   ]
  },
  {
   "cell_type": "code",
   "execution_count": 59,
   "id": "57700788-61e1-42ea-8801-00b39faf90af",
   "metadata": {},
   "outputs": [
    {
     "name": "stdout",
     "output_type": "stream",
     "text": [
      "Category     A     B   All\n",
      "Gender                    \n",
      "Female    90.0  92.0  91.0\n",
      "Male      95.0  83.0  87.0\n",
      "All       92.5  86.0  88.6\n",
      "Category    A    B  All\n",
      "Gender                 \n",
      "Female     90   92  182\n",
      "Male       95  166  261\n",
      "All       185  258  443\n"
     ]
    }
   ],
   "source": [
    "# Cross tab and pivot table\n",
    "import pandas as pd\n",
    "data={\"Gender\":[\"Male\",\"Female\",\"Male\",\"Female\",\"Male\"],\n",
    "      \"Category\":[\"A\",\"A\",\"B\",\"B\",\"B\"],\n",
    "      \"Score\":[95,90,78,92,88]}\n",
    "df=pd.DataFrame(data)\n",
    "# crosstab\n",
    "ct=pd.crosstab(df[\"Gender\"],df[\"Category\"],values=df[\"Score\"],aggfunc=\"mean\",margins=True)\n",
    "print(ct)\n",
    "# ct.to_excel(\"cross_tab.xlsx\",index=True)\n",
    "# Pivot table\n",
    "pt=df.pivot_table(values=\"Score\",index=\"Gender\",columns=\"Category\",aggfunc=\"sum\",margins=True)\n",
    "print(pt)"
   ]
  },
  {
   "cell_type": "code",
   "execution_count": null,
   "id": "7cc01b5c-08de-4244-a125-c0a8bbe0495b",
   "metadata": {},
   "outputs": [],
   "source": []
  }
 ],
 "metadata": {
  "kernelspec": {
   "display_name": "Python 3 (ipykernel)",
   "language": "python",
   "name": "python3"
  },
  "language_info": {
   "codemirror_mode": {
    "name": "ipython",
    "version": 3
   },
   "file_extension": ".py",
   "mimetype": "text/x-python",
   "name": "python",
   "nbconvert_exporter": "python",
   "pygments_lexer": "ipython3",
   "version": "3.12.7"
  }
 },
 "nbformat": 4,
 "nbformat_minor": 5
}
