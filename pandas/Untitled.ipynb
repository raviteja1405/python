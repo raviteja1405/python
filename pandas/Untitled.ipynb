{
 "cells": [
  {
   "cell_type": "code",
   "execution_count": 11,
   "id": "6803cf34-fd01-4b97-a7e2-715255e9d854",
   "metadata": {},
   "outputs": [
    {
     "name": "stdout",
     "output_type": "stream",
     "text": [
      "0    10\n",
      "1    20\n",
      "2    30\n",
      "3    40\n",
      "dtype: int64\n",
      "a    1\n",
      "b    2\n",
      "c    3\n",
      "d    4\n",
      "dtype: int64\n",
      "x    100\n",
      "y    200\n",
      "z    300\n",
      "dtype: int64\n",
      "0    11\n",
      "1    22\n",
      "2    33\n",
      "3    44\n",
      "dtype: int32\n"
     ]
    }
   ],
   "source": [
    "# defining a series using list,dict,custom index and numpy array\n",
    "import pandas as pd\n",
    "import numpy as np\n",
    "#from a list\n",
    "data=[10,20,30,40]\n",
    "series=pd.Series(data)\n",
    "print(series)\n",
    "\n",
    "# from a dict\n",
    "data_dict={\"a\":1,\"b\":2,\"c\":3,\"d\":4}\n",
    "series_dict=pd.Series(data_dict)\n",
    "print(series_dict)\n",
    "\n",
    "# with custom index\n",
    "data_custom=[100,200,300]\n",
    "index=[\"x\",\"y\",\"z\"]\n",
    "series=pd.Series(data_custom,index=index)\n",
    "print(series)\n",
    "\n",
    "# with numpy array\n",
    "data=np.array([11,22,33,44])\n",
    "series=pd.Series(data)\n",
    "print(series)"
   ]
  },
  {
   "cell_type": "markdown",
   "id": "6612a95b-e57e-4669-aaf7-4c1405ab36c1",
   "metadata": {},
   "source": [
    "# using Mathematical operations"
   ]
  },
  {
   "cell_type": "code",
   "execution_count": 42,
   "id": "834f3a68-8e8a-46e9-9598-1d3e84bae001",
   "metadata": {},
   "outputs": [
    {
     "name": "stdout",
     "output_type": "stream",
     "text": [
      "x     500\n",
      "y    1000\n",
      "z    1500\n",
      "dtype: int64\n"
     ]
    }
   ],
   "source": [
    "# series=pd.Series([1,2,3,4])\n",
    "# print(series*2)\n",
    "# print(series+5)\n",
    "data_custom=[100,200,300]\n",
    "index=[\"x\",\"y\",\"z\"]\n",
    "series=pd.Series(data_custom,index=index)\n",
    "print(series*5)"
   ]
  },
  {
   "cell_type": "markdown",
   "id": "80a26323-1d39-43e6-845d-b981b5e2b451",
   "metadata": {},
   "source": [
    "# using Statistical Functions"
   ]
  },
  {
   "cell_type": "code",
   "execution_count": 50,
   "id": "ac1368ae-efcf-4fb9-a36c-3b8331f12b3f",
   "metadata": {},
   "outputs": [
    {
     "name": "stdout",
     "output_type": "stream",
     "text": [
      "200.0\n",
      "600\n",
      "300\n",
      "100\n"
     ]
    }
   ],
   "source": [
    "# data=[10,20,30,40]\n",
    "# series=pd.Series(data)\n",
    "data_custom=[100,200,300]\n",
    "index=[\"x\",\"y\",\"z\"]\n",
    "series=pd.Series(data_custom,index=index)\n",
    "#print(series)\n",
    "print(series.mean())\n",
    "print(series.sum())\n",
    "print(series.max())\n",
    "print(series.min())"
   ]
  },
  {
   "cell_type": "markdown",
   "id": "777007fe-71f8-4bf4-9435-a239942467f0",
   "metadata": {},
   "source": [
    "# Index Manipulation"
   ]
  },
  {
   "cell_type": "code",
   "execution_count": 39,
   "id": "720ceae5-33af-4316-bc7b-e6d5cc9977e8",
   "metadata": {},
   "outputs": [
    {
     "name": "stdout",
     "output_type": "stream",
     "text": [
      "0    10\n",
      "1    20\n",
      "2    30\n",
      "3    40\n",
      "dtype: int64 ['x', 'y', 'z']\n",
      "a    10\n",
      "b    20\n",
      "c    30\n",
      "d    40\n",
      "dtype: int64\n"
     ]
    }
   ],
   "source": [
    "\n",
    "print(series,index)\n",
    "series.index=[\"a\",\"b\",\"c\",\"d\"]\n",
    "print(series)"
   ]
  },
  {
   "cell_type": "code",
   "execution_count": 5,
   "id": "536e76fc-846e-49ae-b835-a5ef540a22e5",
   "metadata": {},
   "outputs": [
    {
     "name": "stdout",
     "output_type": "stream",
     "text": [
      "   product  quantity\n",
      "0     coke        10\n",
      "1   spirit         4\n",
      "2  thumsup         8\n"
     ]
    }
   ],
   "source": [
    "# Defining the data by csv file.\n",
    "import pandas as pd\n",
    "file_path=\"E:\\\\pythonprogs\\\\Book1.csv\"\n",
    "df=pd.read_csv(file_path)\n",
    "print(df)"
   ]
  },
  {
   "cell_type": "code",
   "execution_count": 19,
   "id": "99db9768-ebb6-4d7f-a9cf-73691a0ab064",
   "metadata": {},
   "outputs": [
    {
     "name": "stdout",
     "output_type": "stream",
     "text": [
      "    Name   id\n",
      "0   Ravi  169\n",
      "1  Kiran  175\n",
      "2   Hari  159\n",
      "  Branch  Sem\n",
      "0    CSE    1\n",
      "1    ECE    2\n",
      "2     IT    3\n"
     ]
    }
   ],
   "source": [
    "# Define the data using Excel file.\n",
    "import pandas as pd\n",
    "file_path=\"E:\\\\pythonprogs\\\\Book2.xlsx\"\n",
    "df=pd.read_excel(file_path)\n",
    "df1=pd.read_excel(file_path,sheet_name=\"Sheet2\")\n",
    "print(df)\n",
    "print(df1)"
   ]
  },
  {
   "cell_type": "code",
   "execution_count": 23,
   "id": "902b861d-3670-41fa-bc73-8480a5df7f8b",
   "metadata": {},
   "outputs": [],
   "source": [
    "# using json file.\n",
    "# import pandas as pd\n",
    "# df=pd.read_json(\"jsonfile1\")\n",
    "# print(df)"
   ]
  },
  {
   "cell_type": "code",
   "execution_count": 35,
   "id": "20d508ae-4bea-4f4c-9344-a51c922c579f",
   "metadata": {},
   "outputs": [
    {
     "name": "stdout",
     "output_type": "stream",
     "text": [
      "     empno   ename        job     mgr    hiredate      sal    comm  deptno\n",
      "A0    7839    KING  PRESIDENT     NaN  1981-11-17   5000.0     NaN    10.0\n",
      "A1    7698   BLAKE    MANAGER  7839.0  1981-05-01   2850.0     NaN    30.0\n",
      "A2    7782   CLARK    MANAGER  7839.0  1981-06-09   2450.0     NaN    10.0\n",
      "A3    7566   JONES    MANAGER  7839.0  1981-04-02   2975.0     NaN    20.0\n",
      "A4    7788   Scott    ANALYST  7566.0  1987-07-13   3000.0     NaN    20.0\n",
      "A5    7902    FORD    ANALYST  7566.0  1981-12-03   3000.0     NaN    20.0\n",
      "A6    7369   SMITH      CLERK  7902.0  1980-12-17   3000.0     NaN    20.0\n",
      "A7    7499   ALLEN   SALESMAN  7698.0  1981-02-20   1600.0   300.0    30.0\n",
      "A8    7521    WARD   SALESMAN  7698.0  1981-02-22   1250.0   500.0    30.0\n",
      "A9    7654  MARTIN   SALESMAN  7698.0  1981-09-28   1250.0  1400.0    30.0\n",
      "A10   7844  TURNER   SALESMAN  7698.0  1981-09-08   1500.0     0.0    30.0\n",
      "A11   7876   ADAMS      CLERK  7788.0  1987-07-13   1100.0     NaN    20.0\n",
      "A12   7900   JAMES      CLERK  7698.0  1981-12-03    950.0     NaN    30.0\n",
      "A13   7934  MILLER      CLERK  7782.0  1982-01-23   1300.0     NaN    10.0\n",
      "A14   7777   tuski       None     NaN  1991-02-14      NaN     NaN     NaN\n",
      "A15   8888     eef       None     NaN  1991-12-12      NaN     NaN     NaN\n",
      "A16   3385    ewfe       None     NaN  1991-12-17      NaN     NaN     NaN\n",
      "A17   9090   SURYA       None     NaN  1990-12-12      NaN     NaN     NaN\n",
      "A18   3384   KRISH   SALESMAN  7783.0  1999-10-12   5000.0     0.0    10.0\n",
      "A19   9999  SURESH      CLERK  7785.0  1999-12-19   1200.0     0.0    20.0\n",
      "A20   3507     RAM    ANALYST  8768.0  1998-10-16  20000.0     0.0    80.0\n"
     ]
    },
    {
     "name": "stderr",
     "output_type": "stream",
     "text": [
      "C:\\Users\\DELL\\AppData\\Local\\Temp\\ipykernel_13704\\157072080.py:13: UserWarning: pandas only supports SQLAlchemy connectable (engine/connection) or database string URI or sqlite3 DBAPI2 connection. Other DBAPI2 objects are not tested. Please consider using SQLAlchemy.\n",
      "  df=pd.read_sql(query,conn)\n"
     ]
    }
   ],
   "source": [
    "# read from sql.\n",
    "import pandas as pd\n",
    "import pymysql\n",
    "db_name=\"employee\"\n",
    "db_host=\"localhost\"\n",
    "db_username=\"root\"\n",
    "db_password=\"tejaMS123@\"\n",
    "conn=pymysql.connect(host=db_host,\n",
    "                     user=\"root\",\n",
    "                     password=\"tejaMS123@\",\n",
    "                     db=db_name)\n",
    "query=\"select * from emp\"\n",
    "df=pd.read_sql(query,conn)\n",
    "conn.close()\n",
    "#print(df)\n",
    "ci=[]\n",
    "for i in range(len(df)):\n",
    "    ci.append(\"A\"+str(i))\n",
    "df.index=ci\n",
    "print(df)"
   ]
  },
  {
   "cell_type": "code",
   "execution_count": 21,
   "id": "44d6f45f-db16-4987-aad9-62fb9c4b5a19",
   "metadata": {},
   "outputs": [
    {
     "name": "stderr",
     "output_type": "stream",
     "text": [
      "C:\\Users\\DELL\\AppData\\Local\\Temp\\ipykernel_8440\\3127586128.py:14: UserWarning: pandas only supports SQLAlchemy connectable (engine/connection) or database string URI or sqlite3 DBAPI2 connection. Other DBAPI2 objects are not tested. Please consider using SQLAlchemy.\n",
      "  emp_df=pd.read_sql(equery,conn)\n",
      "C:\\Users\\DELL\\AppData\\Local\\Temp\\ipykernel_8440\\3127586128.py:15: UserWarning: pandas only supports SQLAlchemy connectable (engine/connection) or database string URI or sqlite3 DBAPI2 connection. Other DBAPI2 objects are not tested. Please consider using SQLAlchemy.\n",
      "  dept_df=pd.read_sql(dquery,conn)\n"
     ]
    }
   ],
   "source": [
    "# Exporting data to excel file.\n",
    "import pandas as pd\n",
    "import pymysql\n",
    "db_name=\"employee\"\n",
    "db_host=\"localhost\"\n",
    "db_username=\"root\"\n",
    "db_password=\"tejaMS123@\"\n",
    "conn=pymysql.connect(host=db_host,\n",
    "                     user=\"root\",\n",
    "                     password=\"tejaMS123@\",\n",
    "                     db=db_name)\n",
    "equery=\"select * from emp\"\n",
    "dquery=\"select * from dept\"\n",
    "emp_df=pd.read_sql(equery,conn)\n",
    "dept_df=pd.read_sql(dquery,conn)\n",
    "conn.close()\n",
    "# print(emp_df)\n",
    "# print(dept_df)\n",
    "#print(emp_df.to_csv(\"Book1.csv\"))\n",
    "with pd.ExcelWriter(\"Company.xlsx\")as Writer:\n",
    "    emp_df.to_excel(Writer,index=False,sheet_name=\"employee\")\n",
    "    dept_df.to_excel(Writer,index=False,sheet_name=\"department\")"
   ]
  },
  {
   "cell_type": "code",
   "execution_count": 37,
   "id": "d7353e9f-01e2-4b02-b73b-4442d7290244",
   "metadata": {},
   "outputs": [],
   "source": [
    "# import pandas as pd\n",
    "# file_path=\"C:\\\\Users\\\\DELL\\\\Documents\\\\python\\\\pandas\\\\Company.xlsx\"\n",
    "# df=pd.read_excel(file_path,sheet_name=[\"employee\",\"department\"])\n",
    "# print(df)"
   ]
  },
  {
   "cell_type": "code",
   "execution_count": null,
   "id": "f55858d1-66d7-4883-befb-a9579b8ba94d",
   "metadata": {},
   "outputs": [],
   "source": []
  }
 ],
 "metadata": {
  "kernelspec": {
   "display_name": "Python 3 (ipykernel)",
   "language": "python",
   "name": "python3"
  },
  "language_info": {
   "codemirror_mode": {
    "name": "ipython",
    "version": 3
   },
   "file_extension": ".py",
   "mimetype": "text/x-python",
   "name": "python",
   "nbconvert_exporter": "python",
   "pygments_lexer": "ipython3",
   "version": "3.12.7"
  }
 },
 "nbformat": 4,
 "nbformat_minor": 5
}
