{
 "cells": [
  {
   "cell_type": "code",
   "execution_count": 7,
   "id": "6b88476e-1e08-4e26-a573-850d0ace87b7",
   "metadata": {},
   "outputs": [
    {
     "name": "stdout",
     "output_type": "stream",
     "text": [
      "category\n",
      "A    35\n",
      "B    45\n",
      "C    65\n",
      "Name: Values, dtype: int64\n"
     ]
    }
   ],
   "source": [
    "import pandas as pd\n",
    "data={'category':['A','B','A','B','A','C','C'],\n",
    "      'Values':[10,20,15,25,10,30,35]}\n",
    "df=pd.DataFrame(data)\n",
    "grouped=df.groupby('category')['Values'].sum()\n",
    "print(grouped)"
   ]
  },
  {
   "cell_type": "code",
   "execution_count": 9,
   "id": "389e0420-b259-4f4f-bc74-499a759283e5",
   "metadata": {},
   "outputs": [
    {
     "name": "stdout",
     "output_type": "stream",
     "text": [
      "          sum       mean  count\n",
      "category                       \n",
      "A          35  11.666667      3\n",
      "B          45  22.500000      2\n",
      "C          65  32.500000      2\n"
     ]
    }
   ],
   "source": [
    "# Apply Multiple Aggregations\n",
    "grouped=df.groupby('category')['Values'].agg(['sum','mean','count'])\n",
    "print(grouped)"
   ]
  },
  {
   "cell_type": "code",
   "execution_count": 15,
   "id": "9f91bfa6-d7b7-4565-acd1-9c2abd7969c1",
   "metadata": {},
   "outputs": [
    {
     "name": "stdout",
     "output_type": "stream",
     "text": [
      "category  subcate\n",
      "A         X          10\n",
      "          Y          20\n",
      "B         X          30\n",
      "          Y          40\n",
      "Name: values, dtype: int64\n"
     ]
    }
   ],
   "source": [
    "# Groupby Multiple columns\n",
    "data={'category':['A','A','B','B'],\n",
    "      'subcate':['X','Y','X','Y'],\n",
    "      'values':[10,20,30,40]}\n",
    "df=pd.DataFrame(data)\n",
    "grouped=df.groupby(['category','subcate'])['values'].sum()\n",
    "print(grouped)"
   ]
  },
  {
   "cell_type": "code",
   "execution_count": 19,
   "id": "039ed28a-957f-433f-ae35-f5bb342801de",
   "metadata": {},
   "outputs": [
    {
     "name": "stdout",
     "output_type": "stream",
     "text": [
      "category\n",
      "A    10\n",
      "B    10\n",
      "Name: values, dtype: int64\n"
     ]
    }
   ],
   "source": [
    "# Custom AGgregation functions\n",
    "def custom_agg(x):\n",
    "    return x.max()-x.min()\n",
    "grouped=df.groupby('category')['values'].agg(custom_agg)\n",
    "print(grouped)"
   ]
  },
  {
   "cell_type": "code",
   "execution_count": 25,
   "id": "e12433b8-9627-42a0-92bd-0ce361f3e7af",
   "metadata": {},
   "outputs": [
    {
     "name": "stdout",
     "output_type": "stream",
     "text": [
      "  category  Values\n",
      "0        A      35\n",
      "1        B      45\n",
      "2        C      65\n"
     ]
    }
   ],
   "source": [
    "# Reset-index\n",
    "import pandas as pd\n",
    "data={'category':['A','B','A','B','A','C','C'],\n",
    "      'Values':[10,20,15,25,10,30,35]}\n",
    "df=pd.DataFrame(data)\n",
    "grouped=df.groupby('category')['Values'].sum()\n",
    "# convert grouped result back to a DataFrame\n",
    "result=grouped.reset_index()\n",
    "print(result)"
   ]
  },
  {
   "cell_type": "code",
   "execution_count": 59,
   "id": "aba3e386-044a-44ae-9b3c-c4cc3e888f15",
   "metadata": {},
   "outputs": [
    {
     "name": "stdout",
     "output_type": "stream",
     "text": [
      "    empno   ename        job     mgr    hiredate      sal    comm  deptno\n",
      "0    7839    KING  PRESIDENT     NaN  1981-11-17   5000.0     NaN    10.0\n",
      "1    7698   BLAKE    MANAGER  7839.0  1981-05-01   2850.0     NaN    30.0\n",
      "2    7782   CLARK    MANAGER  7839.0  1981-06-09   2450.0     NaN    10.0\n",
      "3    7566   JONES    MANAGER  7839.0  1981-04-02   2975.0     NaN    20.0\n",
      "4    7788   Scott    ANALYST  7566.0  1987-07-13   3000.0     NaN    20.0\n",
      "5    7902    FORD    ANALYST  7566.0  1981-12-03   3000.0     NaN    20.0\n",
      "6    7369   SMITH      CLERK  7902.0  1980-12-17   3000.0     NaN    20.0\n",
      "7    7499   ALLEN   SALESMAN  7698.0  1981-02-20   1600.0   300.0    30.0\n",
      "8    7521    WARD   SALESMAN  7698.0  1981-02-22   1250.0   500.0    30.0\n",
      "9    7654  MARTIN   SALESMAN  7698.0  1981-09-28   1250.0  1400.0    30.0\n",
      "10   7844  TURNER   SALESMAN  7698.0  1981-09-08   1500.0     0.0    30.0\n",
      "11   7876   ADAMS      CLERK  7788.0  1987-07-13   1100.0     NaN    20.0\n",
      "12   7900   JAMES      CLERK  7698.0  1981-12-03    950.0     NaN    30.0\n",
      "13   7934  MILLER      CLERK  7782.0  1982-01-23   1300.0     NaN    10.0\n",
      "14   7777   tuski       None     NaN  1991-02-14      NaN     NaN     NaN\n",
      "15   8888     eef       None     NaN  1991-12-12      NaN     NaN     NaN\n",
      "16   3385    ewfe       None     NaN  1991-12-17      NaN     NaN     NaN\n",
      "17   9090   SURYA       None     NaN  1990-12-12      NaN     NaN     NaN\n",
      "18   3384   KRISH   SALESMAN  7783.0  1999-10-12   5000.0     0.0    10.0\n",
      "19   9999  SURESH      CLERK  7785.0  1999-12-19   1200.0     0.0    20.0\n",
      "20   3507     RAM    ANALYST  8768.0  1998-10-16  20000.0     0.0    80.0\n"
     ]
    },
    {
     "name": "stderr",
     "output_type": "stream",
     "text": [
      "C:\\Users\\DELL\\AppData\\Local\\Temp\\ipykernel_4376\\3546104411.py:12: UserWarning: pandas only supports SQLAlchemy connectable (engine/connection) or database string URI or sqlite3 DBAPI2 connection. Other DBAPI2 objects are not tested. Please consider using SQLAlchemy.\n",
      "  df=pd.read_sql(query,conn)\n"
     ]
    },
    {
     "data": {
      "text/html": [
       "<div>\n",
       "<style scoped>\n",
       "    .dataframe tbody tr th:only-of-type {\n",
       "        vertical-align: middle;\n",
       "    }\n",
       "\n",
       "    .dataframe tbody tr th {\n",
       "        vertical-align: top;\n",
       "    }\n",
       "\n",
       "    .dataframe thead th {\n",
       "        text-align: right;\n",
       "    }\n",
       "</style>\n",
       "<table border=\"1\" class=\"dataframe\">\n",
       "  <thead>\n",
       "    <tr style=\"text-align: right;\">\n",
       "      <th></th>\n",
       "      <th></th>\n",
       "      <th>sum</th>\n",
       "      <th>mean</th>\n",
       "      <th>count</th>\n",
       "    </tr>\n",
       "    <tr>\n",
       "      <th>deptno</th>\n",
       "      <th>job</th>\n",
       "      <th></th>\n",
       "      <th></th>\n",
       "      <th></th>\n",
       "    </tr>\n",
       "  </thead>\n",
       "  <tbody>\n",
       "    <tr>\n",
       "      <th rowspan=\"4\" valign=\"top\">10.0</th>\n",
       "      <th>CLERK</th>\n",
       "      <td>1300.0</td>\n",
       "      <td>1300.000000</td>\n",
       "      <td>1</td>\n",
       "    </tr>\n",
       "    <tr>\n",
       "      <th>MANAGER</th>\n",
       "      <td>2450.0</td>\n",
       "      <td>2450.000000</td>\n",
       "      <td>1</td>\n",
       "    </tr>\n",
       "    <tr>\n",
       "      <th>PRESIDENT</th>\n",
       "      <td>5000.0</td>\n",
       "      <td>5000.000000</td>\n",
       "      <td>1</td>\n",
       "    </tr>\n",
       "    <tr>\n",
       "      <th>SALESMAN</th>\n",
       "      <td>5000.0</td>\n",
       "      <td>5000.000000</td>\n",
       "      <td>1</td>\n",
       "    </tr>\n",
       "    <tr>\n",
       "      <th rowspan=\"3\" valign=\"top\">20.0</th>\n",
       "      <th>ANALYST</th>\n",
       "      <td>6000.0</td>\n",
       "      <td>3000.000000</td>\n",
       "      <td>2</td>\n",
       "    </tr>\n",
       "    <tr>\n",
       "      <th>CLERK</th>\n",
       "      <td>5300.0</td>\n",
       "      <td>1766.666667</td>\n",
       "      <td>3</td>\n",
       "    </tr>\n",
       "    <tr>\n",
       "      <th>MANAGER</th>\n",
       "      <td>2975.0</td>\n",
       "      <td>2975.000000</td>\n",
       "      <td>1</td>\n",
       "    </tr>\n",
       "    <tr>\n",
       "      <th rowspan=\"3\" valign=\"top\">30.0</th>\n",
       "      <th>CLERK</th>\n",
       "      <td>950.0</td>\n",
       "      <td>950.000000</td>\n",
       "      <td>1</td>\n",
       "    </tr>\n",
       "    <tr>\n",
       "      <th>MANAGER</th>\n",
       "      <td>2850.0</td>\n",
       "      <td>2850.000000</td>\n",
       "      <td>1</td>\n",
       "    </tr>\n",
       "    <tr>\n",
       "      <th>SALESMAN</th>\n",
       "      <td>5600.0</td>\n",
       "      <td>1400.000000</td>\n",
       "      <td>4</td>\n",
       "    </tr>\n",
       "    <tr>\n",
       "      <th>80.0</th>\n",
       "      <th>ANALYST</th>\n",
       "      <td>20000.0</td>\n",
       "      <td>20000.000000</td>\n",
       "      <td>1</td>\n",
       "    </tr>\n",
       "  </tbody>\n",
       "</table>\n",
       "</div>"
      ],
      "text/plain": [
       "                      sum          mean  count\n",
       "deptno job                                    \n",
       "10.0   CLERK       1300.0   1300.000000      1\n",
       "       MANAGER     2450.0   2450.000000      1\n",
       "       PRESIDENT   5000.0   5000.000000      1\n",
       "       SALESMAN    5000.0   5000.000000      1\n",
       "20.0   ANALYST     6000.0   3000.000000      2\n",
       "       CLERK       5300.0   1766.666667      3\n",
       "       MANAGER     2975.0   2975.000000      1\n",
       "30.0   CLERK        950.0    950.000000      1\n",
       "       MANAGER     2850.0   2850.000000      1\n",
       "       SALESMAN    5600.0   1400.000000      4\n",
       "80.0   ANALYST    20000.0  20000.000000      1"
      ]
     },
     "execution_count": 59,
     "metadata": {},
     "output_type": "execute_result"
    }
   ],
   "source": [
    "import pandas as pd\n",
    "import pymysql\n",
    "db_name=\"employee\"\n",
    "db_host=\"localhost\"\n",
    "db_username=\"root\"\n",
    "db_password=\"tejaMS123@\"\n",
    "conn=pymysql.connect(host=db_host,\n",
    "                     user=\"root\",\n",
    "                     password=\"tejaMS123@\",\n",
    "                     db=db_name)\n",
    "query=\"select * from emp\"\n",
    "df=pd.read_sql(query,conn)\n",
    "conn.close()\n",
    "print(df)\n",
    "#df.groupby('job')['sal'].sum()\n",
    "#df.groupby(['deptno','job'])['sal'].sum()\n",
    "#df.groupby(['ename','job'])['sal'].sum()\n",
    "df.groupby(['deptno','job'])['sal'].agg(['sum','mean','count'])"
   ]
  },
  {
   "cell_type": "code",
   "execution_count": null,
   "id": "28e3bd8f-364a-45e2-a80e-7c2f04fd8811",
   "metadata": {},
   "outputs": [],
   "source": []
  }
 ],
 "metadata": {
  "kernelspec": {
   "display_name": "Python 3 (ipykernel)",
   "language": "python",
   "name": "python3"
  },
  "language_info": {
   "codemirror_mode": {
    "name": "ipython",
    "version": 3
   },
   "file_extension": ".py",
   "mimetype": "text/x-python",
   "name": "python",
   "nbconvert_exporter": "python",
   "pygments_lexer": "ipython3",
   "version": "3.12.7"
  }
 },
 "nbformat": 4,
 "nbformat_minor": 5
}
