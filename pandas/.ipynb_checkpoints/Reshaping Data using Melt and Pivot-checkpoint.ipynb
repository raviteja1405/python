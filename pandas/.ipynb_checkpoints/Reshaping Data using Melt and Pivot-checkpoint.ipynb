{
 "cells": [
  {
   "cell_type": "code",
   "execution_count": 1,
   "id": "f13972ce-bfe5-4275-bd4c-18d7c8c17e4a",
   "metadata": {},
   "outputs": [
    {
     "name": "stdout",
     "output_type": "stream",
     "text": [
      "      Name  Subject  Score\n",
      "0     Ajay     Math     85\n",
      "1  Kishore     Math     92\n",
      "2   Suresh     Math     78\n",
      "3     Ajay  Science     88\n",
      "4  Kishore  Science     95\n",
      "5   Suresh  Science     80\n"
     ]
    }
   ],
   "source": [
    "import pandas as pd\n",
    "df=pd.DataFrame({\"Name\":[\"Ajay\",\"Kishore\",\"Suresh\"],\n",
    "                 \"Math\":[85,92,78],\n",
    "                 \"Science\":[88,95,80]})\n",
    "melted=pd.melt(df,id_vars=[\"Name\"],var_name=\"Subject\",value_name=\"Score\")\n",
    "print(melted)"
   ]
  },
  {
   "cell_type": "code",
   "execution_count": 3,
   "id": "53bd7fed-b88e-493c-a7e0-6db242cf2630",
   "metadata": {},
   "outputs": [
    {
     "name": "stdout",
     "output_type": "stream",
     "text": [
      "Subject  Math  Science\n",
      "Name                  \n",
      "Ajay     88.0      NaN\n",
      "Kishore  95.0      NaN\n",
      "Suresh    NaN     80.0\n"
     ]
    }
   ],
   "source": [
    "import pandas as pd\n",
    "df=pd.DataFrame({\"Name\":[\"Ajay\",\"Kishore\",\"Suresh\"],\n",
    "                 \"Subject\":[\"Math\",\"Math\",\"Science\"],\n",
    "                 \"Scores\":[88,95,80]})\n",
    "pivoted=df.pivot(index=\"Name\",columns=\"Subject\",values=\"Scores\")\n",
    "print(pivoted)"
   ]
  },
  {
   "cell_type": "code",
   "execution_count": 55,
   "id": "1591b42e-8736-41e3-81ca-269847616f19",
   "metadata": {},
   "outputs": [
    {
     "name": "stdout",
     "output_type": "stream",
     "text": [
      "Subject Score  Subject\n",
      "Name                  \n",
      "Ajay       88     Math\n",
      "Kishore    95     Math\n",
      "Suresh     80  Science\n"
     ]
    }
   ],
   "source": [
    "import pandas as pd\n",
    "df1=pd.DataFrame({\"Name\":[\"Ajay\",\"Kishore\",\"Suresh\"],\n",
    "                 \"Subject\":[\"Math\",\"Math\",\"Science\"],\n",
    "                 \"Score\":[88,95,80]})\n",
    "melted=pd.melt(df1,id_vars=[\"Name\"],var_name=\"Subject\",value_name=\"Score_value\")\n",
    "#print(melted)\n",
    "reshaped=melted.pivot(index=\"Name\",columns=\"Subject\",values=\"Score_value\")\n",
    "print(reshaped)"
   ]
  },
  {
   "cell_type": "code",
   "execution_count": null,
   "id": "ae352221-d039-4270-8cef-5210495fbb91",
   "metadata": {},
   "outputs": [],
   "source": []
  }
 ],
 "metadata": {
  "kernelspec": {
   "display_name": "Python 3 (ipykernel)",
   "language": "python",
   "name": "python3"
  },
  "language_info": {
   "codemirror_mode": {
    "name": "ipython",
    "version": 3
   },
   "file_extension": ".py",
   "mimetype": "text/x-python",
   "name": "python",
   "nbconvert_exporter": "python",
   "pygments_lexer": "ipython3",
   "version": "3.12.7"
  }
 },
 "nbformat": 4,
 "nbformat_minor": 5
}
