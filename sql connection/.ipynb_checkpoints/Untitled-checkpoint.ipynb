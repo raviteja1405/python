{
 "cells": [
  {
   "cell_type": "code",
   "execution_count": 7,
   "id": "928690d5-e580-43a6-a60f-39e5c10e4cd5",
   "metadata": {},
   "outputs": [
    {
     "name": "stdout",
     "output_type": "stream",
     "text": [
      "Collecting PyMySQL\n",
      "  Downloading PyMySQL-1.1.1-py3-none-any.whl.metadata (4.4 kB)\n",
      "Downloading PyMySQL-1.1.1-py3-none-any.whl (44 kB)\n",
      "Installing collected packages: PyMySQL\n",
      "Successfully installed PyMySQL-1.1.1\n",
      "Collecting ipython.sql\n",
      "  Downloading ipython_sql-0.5.0-py3-none-any.whl.metadata (17 kB)\n",
      "Collecting prettytable (from ipython.sql)\n",
      "  Downloading prettytable-3.12.0-py3-none-any.whl.metadata (30 kB)\n",
      "Requirement already satisfied: ipython in c:\\users\\dell\\anaconda3\\lib\\site-packages (from ipython.sql) (8.27.0)\n",
      "Requirement already satisfied: sqlalchemy>=2.0 in c:\\users\\dell\\anaconda3\\lib\\site-packages (from ipython.sql) (2.0.34)\n",
      "Collecting sqlparse (from ipython.sql)\n",
      "  Downloading sqlparse-0.5.3-py3-none-any.whl.metadata (3.9 kB)\n",
      "Requirement already satisfied: six in c:\\users\\dell\\anaconda3\\lib\\site-packages (from ipython.sql) (1.16.0)\n",
      "Requirement already satisfied: ipython-genutils in c:\\users\\dell\\anaconda3\\lib\\site-packages (from ipython.sql) (0.2.0)\n",
      "Requirement already satisfied: typing-extensions>=4.6.0 in c:\\users\\dell\\anaconda3\\lib\\site-packages (from sqlalchemy>=2.0->ipython.sql) (4.11.0)\n",
      "Requirement already satisfied: greenlet!=0.4.17 in c:\\users\\dell\\anaconda3\\lib\\site-packages (from sqlalchemy>=2.0->ipython.sql) (3.0.1)\n",
      "Requirement already satisfied: decorator in c:\\users\\dell\\anaconda3\\lib\\site-packages (from ipython->ipython.sql) (5.1.1)\n",
      "Requirement already satisfied: jedi>=0.16 in c:\\users\\dell\\anaconda3\\lib\\site-packages (from ipython->ipython.sql) (0.19.1)\n",
      "Requirement already satisfied: matplotlib-inline in c:\\users\\dell\\anaconda3\\lib\\site-packages (from ipython->ipython.sql) (0.1.6)\n",
      "Requirement already satisfied: prompt-toolkit<3.1.0,>=3.0.41 in c:\\users\\dell\\anaconda3\\lib\\site-packages (from ipython->ipython.sql) (3.0.43)\n",
      "Requirement already satisfied: pygments>=2.4.0 in c:\\users\\dell\\anaconda3\\lib\\site-packages (from ipython->ipython.sql) (2.15.1)\n",
      "Requirement already satisfied: stack-data in c:\\users\\dell\\anaconda3\\lib\\site-packages (from ipython->ipython.sql) (0.2.0)\n",
      "Requirement already satisfied: traitlets>=5.13.0 in c:\\users\\dell\\anaconda3\\lib\\site-packages (from ipython->ipython.sql) (5.14.3)\n",
      "Requirement already satisfied: colorama in c:\\users\\dell\\anaconda3\\lib\\site-packages (from ipython->ipython.sql) (0.4.6)\n",
      "Requirement already satisfied: wcwidth in c:\\users\\dell\\anaconda3\\lib\\site-packages (from prettytable->ipython.sql) (0.2.5)\n",
      "Requirement already satisfied: parso<0.9.0,>=0.8.3 in c:\\users\\dell\\anaconda3\\lib\\site-packages (from jedi>=0.16->ipython->ipython.sql) (0.8.3)\n",
      "Requirement already satisfied: executing in c:\\users\\dell\\anaconda3\\lib\\site-packages (from stack-data->ipython->ipython.sql) (0.8.3)\n",
      "Requirement already satisfied: asttokens in c:\\users\\dell\\anaconda3\\lib\\site-packages (from stack-data->ipython->ipython.sql) (2.0.5)\n",
      "Requirement already satisfied: pure-eval in c:\\users\\dell\\anaconda3\\lib\\site-packages (from stack-data->ipython->ipython.sql) (0.2.2)\n",
      "Downloading ipython_sql-0.5.0-py3-none-any.whl (20 kB)\n",
      "Downloading prettytable-3.12.0-py3-none-any.whl (31 kB)\n",
      "Downloading sqlparse-0.5.3-py3-none-any.whl (44 kB)\n",
      "Installing collected packages: sqlparse, prettytable, ipython.sql\n",
      "Successfully installed ipython.sql-0.5.0 prettytable-3.12.0 sqlparse-0.5.3\n",
      "Collecting mysqlclient\n",
      "  Downloading mysqlclient-2.2.6-cp312-cp312-win_amd64.whl.metadata (4.8 kB)\n",
      "Downloading mysqlclient-2.2.6-cp312-cp312-win_amd64.whl (207 kB)\n",
      "Installing collected packages: mysqlclient\n",
      "Successfully installed mysqlclient-2.2.6\n"
     ]
    }
   ],
   "source": [
    "!pip install PyMySQL\n",
    "!pip install ipython.sql\n",
    "!pip install mysqlclient"
   ]
  },
  {
   "cell_type": "code",
   "execution_count": 25,
   "id": "02a46ed5-c012-47f1-b655-74aec25b59e9",
   "metadata": {},
   "outputs": [],
   "source": [
    "import pymysql"
   ]
  },
  {
   "cell_type": "code",
   "execution_count": 21,
   "id": "a626fa6a-ea7e-405d-9734-7233c7fbc192",
   "metadata": {},
   "outputs": [
    {
     "name": "stdout",
     "output_type": "stream",
     "text": [
      "connection successfull\n"
     ]
    }
   ],
   "source": [
    "db_name=\"warehouse\"\n",
    "db_host=\"localhost\"\n",
    "db_username=\"root\"\n",
    "db_password=\"tejaMS123@\"\n",
    "try:\n",
    "    conn=pymysql.connect(host=db_host,\n",
    "                         port=int(3306),\n",
    "                         user=\"root\",\n",
    "                         password=\"tejaMS123@\",\n",
    "                         db=db_name)\n",
    "except e:\n",
    "    print(e)\n",
    "if conn:\n",
    "    print(\"connection successfull\")\n",
    "else:\n",
    "   print(\"error\")"
   ]
  },
  {
   "cell_type": "code",
   "execution_count": 57,
   "id": "71800dd3-0c6e-47d0-8393-d2fea4aca776",
   "metadata": {},
   "outputs": [
    {
     "name": "stdout",
     "output_type": "stream",
     "text": [
      "Available Databases :\n",
      "1 . bank\n",
      "2 . employee\n",
      "3 . information_schema\n",
      "4 . inventory\n",
      "5 . library\n",
      "6 . mysql\n",
      "7 . office\n",
      "8 . performance_schema\n",
      "9 . school\n",
      "10 . sys\n",
      "11 . warehouse\n"
     ]
    }
   ],
   "source": [
    "try:\n",
    "    conn=pymysql.connect(host=\"localhost\",user=\"root\",password=\"tejaMS123@\")\n",
    "    m1=conn.cursor()\n",
    "    m1.execute(\"show databases\")\n",
    "    print(\"Available Databases :\")\n",
    "    i=1\n",
    "    for db in m1:\n",
    "        print(i,\".\",db[0])\n",
    "        i += 1\n",
    "except e:\n",
    "    print(e)"
   ]
  },
  {
   "cell_type": "code",
   "execution_count": 91,
   "id": "613bfcd5-f074-473a-92d0-fabe8b23cdf7",
   "metadata": {},
   "outputs": [
    {
     "name": "stdout",
     "output_type": "stream",
     "text": [
      "1 . orders\n",
      "2 . products\n",
      "3 . suppliers\n"
     ]
    }
   ],
   "source": [
    "mydb=pymysql.connect(host=\"localhost\",user=\"root\",passwd=\"tejaMS123@\",database=\"inventory\")\n",
    "mycursor=mydb.cursor()\n",
    "mycursor.execute(\"show tables\")\n",
    "i=1\n",
    "for db in mycursor:\n",
    "    print(i,\".\",db[0])\n",
    "    i += 1"
   ]
  },
  {
   "cell_type": "code",
   "execution_count": 85,
   "id": "9613c120-4c68-4374-b38b-319f0a7cfcd2",
   "metadata": {},
   "outputs": [
    {
     "name": "stdin",
     "output_type": "stream",
     "text": [
      "enter bookid: 323\n",
      "enter title: 22\n",
      "enter author: 1\n",
      "enter ISBN: 2\n",
      "enter(available/borrowed): 2\n"
     ]
    }
   ],
   "source": [
    "class book:\n",
    "    def __init__(self):\n",
    "        self.mydb=pymysql.connect(host=\"localhost\",user=\"root\",passwd=\"tejaMS123@\",database=\"Library\")\n",
    "        self.mycursor=self.mydb.cursor()\n",
    "    def setbook(self):\n",
    "        self.bookid=int(input(\"enter bookid:\"))\n",
    "        self.title=input(\"enter title:\")\n",
    "        self.author=input(\"enter author:\")\n",
    "        self.ISBN=int(input(\"enter ISBN:\"))\n",
    "        self.status=input(\"enter(available/borrowed):\")\n",
    "        sqlINS=\"insert into books values(%s,%s,%s,%s,%s)\"\n",
    "        val=(self.bookid,self.title,self.author,self.ISBN,self.status)\n",
    "        self.mycursor.execute(sqlINS,val)\n",
    "        self.mydb.commit()\n",
    "    def getbook(self):\n",
    "        self.mycursor.execute(\"select * from books\")\n",
    "ob=book()\n",
    "ob.setbook()\n",
    "ob.getbook()"
   ]
  },
  {
   "cell_type": "code",
   "execution_count": null,
   "id": "41fafc35-32b4-4596-a26c-6dba20282926",
   "metadata": {},
   "outputs": [],
   "source": [
    "# Accountmaster and Acctransaction\n",
    "mydb=pymysql.connect(host=\"localhost\",user=\"root\",passwd=\"tejaMS123@\",database=\"bank\")\n",
    "mycursor=mydb.cursor()\n",
    "class Accmaster:\n",
    "    def setAccmaster(self):\n",
    "        self.accno=input(\"enter accno:\")\n",
    "        self.name=input(\"enter name:\")\n",
    "        self.balance=int(input(\"enter balance:\"))\n",
    "        self.type=input(\"enter(i/u):\")\n",
    "        if self.type==\"i\":\n",
    "            sqlINS=\"insert into Accmaster(accno,name,balance) values(%s,%s,%s)\"\n",
    "            val=(self.accno,self.name,self.balance)\n",
    "            self.mycursor.execute(sqlINS,val)\n",
    "            self.mydb.commit()\n",
    "        elif self.type==\"u\":\n",
    "            sqlupd=\"SELECT balance FROM Accmaster WHERE accno = %s\"\n",
    "            self.mycursor.execute(sqlupd,(self.accno,))\n",
    "            result=self.mycursor.fetchone()\n",
    "            if result:\n",
    "                current_balance=result[0]\n",
    "                self.balance = int(input(\"Enter new balance: \"))\n",
    "                sqlupd = \"UPDATE Accmaster SET balance = %s WHERE accno = %s\"\n",
    "                self.mycursor.execute(sqlupd, (self.balance, self.accno))\n",
    "                self.mydb.commit()\n",
    "    def getAccmaster(self):\n",
    "        self.mycursor.execute(\"select * from Accmaster\")\n",
    "        results = self.mycursor.fetchall()\n",
    "        for x in results:\n",
    "            print(x)\n",
    "class Acctrans(Accmaster):\n",
    "    def setAcctrans(self):\n",
    "        self.accno=input(\"enter accno:\")\n",
    "        self.ttype=input(\"enter(d/w):\")\n",
    "        self.tamount=int(input(\"enter tamount:\"))\n",
    "        self.mycursor.execute(\"select balance from accmaster where accno=%s\",(self.accno,))\n",
    "        result=self.mycursor.fetchone()\n",
    "        if result:\n",
    "            current_balance=result[0]\n",
    "            if self.ttype==\"d\":\n",
    "                new_balance=current_balance+self.tamount\n",
    "            elif self.ttype==\"w\":\n",
    "                new_balance=current_balance-self.tamount\n",
    "        sqlINS=\"insert into acctrans(accno,ttype,tamount) values(%s,%s,%s)\"\n",
    "        self.mycursor.execute(sqlINS,(self.accno,self.ttype,self.tamount))\n",
    "        sqlupd=\"update accmaster set balance=%s where accno=%s\"\n",
    "        self.mycursor.execute(sqlupd,(new_balance,self.accno))\n",
    "        self.mydb.commit()\n",
    "    def getAcctrans(self):\n",
    "        self.mycursor.execute(\"select * from Acctrans\")\n",
    "        results = self.mycursor.fetchall()\n",
    "        for x in results:\n",
    "            print(x)\n",
    "ob=Acctrans()\n",
    "ob.getAccmaster()\n",
    "ob.setAccmaster()\n",
    "ob.setAcctrans()"
   ]
  },
  {
   "cell_type": "code",
   "execution_count": null,
   "id": "a38a91ba-08bf-4005-b29d-3a22b8db75df",
   "metadata": {},
   "outputs": [],
   "source": [
    "#Inventory Management system\n",
    "mydb=pymysql.connect(host=\"localhost\",user=\"root\",passwd=\"tejaMS123@\",database=\"inventory\")\n",
    "mycursor=mydb.cursor()\n",
    "class Product:\n",
    "    def setProduct(self):\n",
    "        self.product_id = input(\"Enter product_id: \")\n",
    "        self.name = input(\"Enter product name: \")\n",
    "        self.category = input(\"Enter product category: \")\n",
    "        self.quantity = input(\"Enter product quantity: \")\n",
    "        self.price_per_unit = float(input(\"Enter product price per unit: \"))\n",
    "        self.supplier_id = input(\"Enter supplier_id: \")\n",
    "        self.mfd = input(\"Enter MFD (Manufacture Date): \")\n",
    "        self.exd = input(\"Enter EXD (Expiry Date):\")\n",
    "        self.details={\"supplier id \":self.supplier_id,\"Manufacture Date\":self.mfd,\"Expiry Date\":self.exd}\n",
    "        dc.mycursor.execute(\"SELECT * FROM suppliers WHERE supplier_id = %s\", (self.supplier_id,))\n",
    "        supplier = dc.mycursor.fetchone()\n",
    "        if supplier:\n",
    "            sqlINS = \"\"\"INSERT INTO products(product_id, name, category, quantity, price_per_unit, supplier_id, mf_date, ex_date)\n",
    "                        VALUES (%s, %s, %s, %s, %s, %s, %s, %s)\"\"\"\n",
    "            val = (self.product_id, self.name, self.category, self.quantity, self.price_per_unit, self.supplier_id, self.mfd, self.exd)\n",
    "            dc.mycursor.execute(sqlINS, val)\n",
    "            dc.mydb.commit()\n",
    "    def getProduct(self):\n",
    "        dc.mycursor.execute(\"\"\"\n",
    "            SELECT p.product_id, p.name, p.category, p.quantity, p.price_per_unit, p.supplier_id, s.name AS supplier_name, s.phone AS supplier_phone, s.email AS supplier_email\n",
    "            FROM products p\n",
    "            JOIN suppliers s ON p.supplier_id = s.supplier_id\n",
    "        \"\"\")\n",
    "        result = dc.mycursor.fetchall()\n",
    "\n",
    "        total_inventory_value = 0.0\n",
    "        print(\"Product ID | Name | Category | Quantity | Price per Unit | Supplier Name | Supplier Phone | Supplier Email\")\n",
    "        print(\"-\" * 100)\n",
    "        for product in result:\n",
    "            inventory_value = product[3] * product[4]\n",
    "            total_inventory_value += inventory_value\n",
    "            print(product[0],product[1],product[2],product[3],product[4],product[5],product[6],product[7],product[8])\n",
    "        print(\"-\" * 100)\n",
    "        print(\"Total Inventory Value:\",total_inventory_value)\n",
    "    def deleteProducts(self):\n",
    "        dc.mycursor.execute(\"SELECT product_id, name FROM products WHERE quantity <= 0\")\n",
    "        result= dc.mycursor.fetchall()\n",
    "\n",
    "        if result:\n",
    "            for product in result:\n",
    "                product_id = product[0]\n",
    "                dc.mycursor.execute(\"DELETE FROM products WHERE product_id = %s\", (product_id,))\n",
    "                dc.mydb.commit()\n",
    "class Supplier:\n",
    "    def setSupplier(self):\n",
    "        self.supplier_id = input(\"Enter supplier_id: \")\n",
    "        self.name = input(\"Enter supplier name: \")\n",
    "        self.phone = input(\"Enter supplier phone number: \")\n",
    "        self.email = input(\"Enter supplier email: \")\n",
    "        self.address = input(\"Enter supplier address: \")\n",
    "        self.contact_info={\"Phone\":self.phone,\"Email\":self.email}\n",
    "        sqlINS = \"\"\"INSERT INTO suppliers(supplier_id, name, phone, email, address) \n",
    "                    VALUES (%s, %s, %s, %s, %s)\"\"\"\n",
    "        val = (self.supplier_id, self.name, self.phone, self.email, self.address)\n",
    "        dc.mycursor.execute(sqlINS, val)\n",
    "        dc.mydb.commit()\n",
    "    def getSupplier(self):\n",
    "        dc.mycursor.execute(\"SELECT * FROM suppliers\")\n",
    "        result = dc.mycursor.fetchall()\n",
    "        for supplier in result:\n",
    "            print(supplier)\n",
    "class Order:\n",
    "    def setOrder(self):\n",
    "        self.order_id = input(\"Enter order_id: \")\n",
    "        self.product_id = input(\"Enter product_id: \")\n",
    "        self.supplier_id = input(\"Enter supplier_id: \")\n",
    "        self.order_quantity = int(input(\"Enter order_quantity: \"))\n",
    "        self.order_date = input(\"Enter order_date: \")\n",
    "        dc.mycursor.execute(\"SELECT quantity, price_per_unit FROM products WHERE product_id = %s\", (self.product_id,))\n",
    "        result = dc.mycursor.fetchone()\n",
    "        if result:\n",
    "            current_quantity, price_per_unit = result\n",
    "            if current_quantity >= self.order_quantity:\n",
    "                new_quantity = current_quantity - self.order_quantity\n",
    "                dc.mycursor.execute(\"UPDATE products SET quantity = %s WHERE product_id = %s\", (new_quantity, self.product_id))\n",
    "                dc.mydb.commit()\n",
    "                sqlINS = \"\"\"INSERT INTO orders(order_id, product_id, supplier_id, order_quantity, order_date) \n",
    "                            VALUES (%s, %s, %s, %s, %s)\"\"\"\n",
    "                val = (self.order_id, self.product_id, self.supplier_id, self.order_quantity, self.order_date)\n",
    "                dc.mycursor.execute(sqlINS, val)\n",
    "                dc.mydb.commit()\n",
    "    def getOrder(self):\n",
    "        dc.mycursor.execute(\"SELECT * FROM orders\")\n",
    "        result= dc.mycursor.fetchall()\n",
    "        for order in result:\n",
    "            print(order)\n",
    "#supplier=Supplier()\n",
    "#supplier.setSupplier()\n",
    "#product = Product()\n",
    "#product.setProduct()\n",
    "#order = Order()\n",
    "#order.setOrder()\n",
    "#product.getProduct()\n",
    "#order.getOrder()\n",
    "#product.deleteProducts()"
   ]
  },
  {
   "cell_type": "code",
   "execution_count": 9,
   "id": "4e52e3a6-69e9-4338-a9b8-8693bd81255b",
   "metadata": {},
   "outputs": [
    {
     "name": "stdout",
     "output_type": "stream",
     "text": [
      "Executing query: SELECT e.*, d.dname FROM emp AS e JOIN dept AS d ON e.deptno = d.deptno WHERE job = %s AND dname = %s\n",
      "(7698, 'BLAKE', 'MANAGER', 7839, datetime.date(1981, 5, 1), 2850, None, 30, 'SALES')\n"
     ]
    }
   ],
   "source": [
    "# Python and Mysql Combine Solutions\n",
    "import pymysql \n",
    "def select_query(table_name, conditions):\n",
    "    try:\n",
    "        mydb = pymysql.connect(\n",
    "            host=\"localhost\",\n",
    "            user=\"root\",\n",
    "            password=\"tejaMS123@\",\n",
    "            database=\"employee\"\n",
    "        )\n",
    "        mycursor = mydb.cursor()\n",
    "        sql_q = \"SELECT e.*, d.dname FROM \" + table_name + \" AS e JOIN dept AS d ON e.deptno = d.deptno\"\n",
    "        if conditions:\n",
    "            keys = []\n",
    "            values = []\n",
    "            for key, value in conditions.items():\n",
    "                keys.append(key + \" = %s\")\n",
    "                values.append(value)\n",
    "            \n",
    "            sql_q += \" WHERE \" + \" AND \".join(keys)\n",
    "        print(\"Executing query:\", sql_q)\n",
    "        mycursor.execute(sql_q, values)\n",
    "        results = mycursor.fetchall()\n",
    "        for x in results:\n",
    "            print(x)\n",
    "    \n",
    "    except pymysql.MySQLError as err:\n",
    "        print(\"Error: \", err)\n",
    "    # finally:\n",
    "    #     # Ensure the cursor and connection are closed\n",
    "    #     if mycursor:\n",
    "    #         mycursor.close()\n",
    "    #     if mydb:\n",
    "    #         mydb.close()\n",
    "select_query('emp', {'job': 'MANAGER', 'dname': 'SALES'})\n"
   ]
  },
  {
   "cell_type": "code",
   "execution_count": 13,
   "id": "7e2a629c-1049-40b4-a07e-145a7b0e3dcb",
   "metadata": {},
   "outputs": [
    {
     "name": "stdout",
     "output_type": "stream",
     "text": [
      "rows are inserted successfully\n"
     ]
    }
   ],
   "source": [
    "import pymysql\n",
    "employee_data = [\n",
    "    (10, 'Alice', 'Manager'),\n",
    "    (20, 'Bob', 'Engineer'),\n",
    "    (30, 'Charlie', 'HR'),\n",
    "    (40, 'David', 'Manager'),\n",
    "    (50, 'Eve', 'Engineer'),\n",
    "    (40, 'David', 'Manager')\n",
    "]\n",
    "def insert_details(employee_data):\n",
    "    try:\n",
    "        mydb =pymysql.connect(\n",
    "            host=\"localhost\",\n",
    "            user=\"root\",\n",
    "            password=\"tejaMS123@\",\n",
    "            database=\"employee\"\n",
    "        )\n",
    "        mycursor = mydb.cursor()\n",
    "        sql=\"select * from emp\"\n",
    "        sqlINS=\"insert into emp(deptno,ename,job) values(%s,%s,%s)\"\n",
    "        for x in employee_data:\n",
    "            mycursor.execute(sqlINS,x)\n",
    "            mydb.commit()\n",
    "        print(\"rows are inserted successfully\")\n",
    "    except:\n",
    "        pass\n",
    "insert_details(employee_data)"
   ]
  },
  {
   "cell_type": "code",
   "execution_count": 15,
   "id": "d0b2a947-18c7-4de2-beed-7dfc3fcba6d5",
   "metadata": {},
   "outputs": [
    {
     "name": "stdout",
     "output_type": "stream",
     "text": [
      "('ANALYST', Decimal('8666.6667'))\n",
      "('PRESIDENT', Decimal('5000.0000'))\n",
      "('MANAGER', Decimal('2758.3333'))\n"
     ]
    }
   ],
   "source": [
    "import pymysql\n",
    "def select_query(table_name):\n",
    "    try:\n",
    "        mydb =pymysql.connect(\n",
    "            host=\"localhost\",\n",
    "            user=\"root\",\n",
    "            password=\"tejaMS123@\",\n",
    "            database=\"employee\"\n",
    "        )\n",
    "        mycursor = mydb.cursor()\n",
    "        sql_query=\"\"\" SELECT job, AVG(sal) AS average_salary FROM \"\"\"+table_name+\"\"\"\n",
    "        GROUP BY job \n",
    "        ORDER BY average_salary DESC \n",
    "        LIMIT 3;\"\"\"\n",
    "        mycursor.execute(sql_query)\n",
    "        results=mycursor.fetchall()\n",
    "        for x in results:\n",
    "            print(x)\n",
    "    except:\n",
    "        pass\n",
    "    finally:\n",
    "        mycursor.close()\n",
    "        mydb.close()\n",
    "select_query(\"emp\")"
   ]
  },
  {
   "cell_type": "code",
   "execution_count": 19,
   "id": "fb278473-bf66-4914-a917-961b88efea2f",
   "metadata": {},
   "outputs": [
    {
     "name": "stdout",
     "output_type": "stream",
     "text": [
      "1 . bank\n",
      "2 . company\n",
      "3 . employee\n",
      "4 . information_schema\n",
      "5 . inventory\n",
      "6 . library\n",
      "7 . mysql\n",
      "8 . office\n",
      "9 . performance_schema\n",
      "10 . school\n",
      "11 . sys\n",
      "12 . warehouse\n"
     ]
    },
    {
     "name": "stdin",
     "output_type": "stream",
     "text": [
      "choice for database: 2\n"
     ]
    },
    {
     "name": "stdout",
     "output_type": "stream",
     "text": [
      "1 . dept\n",
      "2 . emp\n"
     ]
    },
    {
     "name": "stdin",
     "output_type": "stream",
     "text": [
      "do u want which table: 1\n"
     ]
    },
    {
     "name": "stdout",
     "output_type": "stream",
     "text": [
      "10 ACCOUNTING NEW YORK\n",
      "20 RESEARCH DALLAS\n",
      "30 SALES CHICAGO\n",
      "40 OPERATIONS BOSTON\n"
     ]
    },
    {
     "name": "stdin",
     "output_type": "stream",
     "text": [
      "do you want to cntinue[yes/no]: yes\n"
     ]
    },
    {
     "name": "stdout",
     "output_type": "stream",
     "text": [
      "1 . bank\n",
      "2 . company\n",
      "3 . employee\n",
      "4 . information_schema\n",
      "5 . inventory\n",
      "6 . library\n",
      "7 . mysql\n",
      "8 . office\n",
      "9 . performance_schema\n",
      "10 . school\n",
      "11 . sys\n",
      "12 . warehouse\n"
     ]
    },
    {
     "name": "stdin",
     "output_type": "stream",
     "text": [
      "choice for database: 2\n"
     ]
    },
    {
     "name": "stdout",
     "output_type": "stream",
     "text": [
      "1 . dept\n",
      "2 . emp\n"
     ]
    },
    {
     "name": "stdin",
     "output_type": "stream",
     "text": [
      "do u want which table: 2\n"
     ]
    },
    {
     "name": "stdout",
     "output_type": "stream",
     "text": [
      "7369 SMITH CLERK\n",
      "7499 ALLEN SALESMAN\n",
      "7521 WARD SALESMAN\n",
      "7566 JONES MANAGER\n",
      "7654 MARTIN SALESMAN\n",
      "7698 BLAKE MANAGER\n",
      "7782 CLARK MANAGER\n",
      "7788 SCOTT ANALYST\n",
      "7839 KING PRESIDENT\n",
      "7844 TURNER SALESMAN\n",
      "7876 ADAMS CLERK\n",
      "7900 JAMES CLERK\n",
      "7902 FORD ANALYST\n",
      "7934 MILLER CLERK\n"
     ]
    },
    {
     "name": "stdin",
     "output_type": "stream",
     "text": [
      "do you want to cntinue[yes/no]: no\n"
     ]
    }
   ],
   "source": [
    "import pymysql\n",
    "mydb=pymysql.connect(host=\"localhost\",user=\"root\",passwd=\"tejaMS123@\")\n",
    "mycursor=mydb.cursor()\n",
    "choice=\"yes\"\n",
    "while choice==\"yes\":\n",
    "    mycursor.execute(\"show databases\")\n",
    "    i=1\n",
    "    d1=[]\n",
    "    for x in mycursor:\n",
    "        print(i,\".\",x[0])\n",
    "        d1.append(x[0])\n",
    "        i+=1\n",
    "    dc=int(input(\"choice for database:\"))\n",
    "    dst=\"use \"+d1[dc-1]\n",
    "    mycursor.execute(dst)\n",
    "    mycursor.execute(\"show tables\")\n",
    "    i=1\n",
    "    t1=[]\n",
    "    for y in mycursor:\n",
    "        print(i,\".\",y[0])\n",
    "        t1.append(y[0])\n",
    "        i+=1\n",
    "    tc=int(input(\"do u want which table:\"))\n",
    "    tst=\"select * from \"+t1[tc-1]\n",
    "    mycursor.execute(tst)\n",
    "    for tc in mycursor:\n",
    "        print(tc[0],tc[1],tc[2])\n",
    "    choice=input(\"do you want to cntinue[yes/no]:\")"
   ]
  },
  {
   "cell_type": "code",
   "execution_count": null,
   "id": "f8a1f825-7222-4da1-8497-72b0930d90ab",
   "metadata": {},
   "outputs": [],
   "source": []
  }
 ],
 "metadata": {
  "kernelspec": {
   "display_name": "Python 3 (ipykernel)",
   "language": "python",
   "name": "python3"
  },
  "language_info": {
   "codemirror_mode": {
    "name": "ipython",
    "version": 3
   },
   "file_extension": ".py",
   "mimetype": "text/x-python",
   "name": "python",
   "nbconvert_exporter": "python",
   "pygments_lexer": "ipython3",
   "version": "3.12.7"
  }
 },
 "nbformat": 4,
 "nbformat_minor": 5
}
