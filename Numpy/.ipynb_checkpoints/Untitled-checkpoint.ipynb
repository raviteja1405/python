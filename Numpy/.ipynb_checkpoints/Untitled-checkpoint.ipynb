{
 "cells": [
  {
   "cell_type": "code",
   "execution_count": 1,
   "id": "52e63fc2-2833-416e-a591-32a529c9472d",
   "metadata": {},
   "outputs": [
    {
     "name": "stdout",
     "output_type": "stream",
     "text": [
      "[[1. 2. 3.]]\n",
      "[[1 2 3]]\n",
      "[[1 2]\n",
      " [3 4]]\n",
      "shape: (2, 3)\n",
      "size: 3\n",
      "Dimensions: 2\n",
      "[[1 2 3]\n",
      " [4 5 6]]\n",
      "[[1 2]\n",
      " [3 4]\n",
      " [5 6]]\n",
      "[1 2 3 4 5 6]\n"
     ]
    },
    {
     "name": "stdin",
     "output_type": "stream",
     "text": [
      "enter numbers: 1\n",
      "enter 1 value: 1\n"
     ]
    },
    {
     "name": "stdout",
     "output_type": "stream",
     "text": [
      "[1]\n"
     ]
    },
    {
     "ename": "ValueError",
     "evalue": "cannot reshape array of size 1 into shape (3,2)",
     "output_type": "error",
     "traceback": [
      "\u001b[1;31m---------------------------------------------------------------------------\u001b[0m",
      "\u001b[1;31mValueError\u001b[0m                                Traceback (most recent call last)",
      "Cell \u001b[1;32mIn[1], line 26\u001b[0m\n\u001b[0;32m     24\u001b[0m \u001b[38;5;28mprint\u001b[39m(np_1d)\n\u001b[0;32m     25\u001b[0m n\u001b[38;5;241m=\u001b[39m\u001b[38;5;241m2\u001b[39m\n\u001b[1;32m---> 26\u001b[0m \u001b[38;5;28mprint\u001b[39m((np_1d\u001b[38;5;241m+\u001b[39mn)\u001b[38;5;241m.\u001b[39mreshape(\u001b[38;5;241m3\u001b[39m,\u001b[38;5;241m2\u001b[39m))\n\u001b[0;32m     28\u001b[0m arr\u001b[38;5;241m=\u001b[39mnp\u001b[38;5;241m.\u001b[39marray([\u001b[38;5;241m10\u001b[39m,\u001b[38;5;241m20\u001b[39m,\u001b[38;5;241m30\u001b[39m,\u001b[38;5;241m40\u001b[39m])\n\u001b[0;32m     29\u001b[0m \u001b[38;5;28mprint\u001b[39m(arr[\u001b[38;5;241m2\u001b[39m])\n",
      "\u001b[1;31mValueError\u001b[0m: cannot reshape array of size 1 into shape (3,2)"
     ]
    }
   ],
   "source": [
    "import numpy as np\n",
    "arr = np.array([[1, 2, 3]],dtype=float)\n",
    "print(arr)\n",
    "arr=np.array([[1,2,3]])\n",
    "print(arr)\n",
    "arr_2d=np.array([[1,2],[3,4]])\n",
    "print(arr_2d)\n",
    "ar=np.array([[1,2,3],[4,5,6]])\n",
    "print(\"shape:\",ar.shape)\n",
    "print(\"size:\",arr.size)\n",
    "print(\"Dimensions:\",arr.ndim)\n",
    "reshaped_ar=ar.reshape(2,3) #2rows,3columns\n",
    "print(reshaped_ar)\n",
    "reshaped_ar=ar.reshape(3,2)#3 rows,2 columns\n",
    "print(reshaped_ar)\n",
    "flattened_arr=ar.flatten()\n",
    "print(flattened_arr)\n",
    "a=[]\n",
    "r=int(input(\"enter numbers:\"))\n",
    "for i in range(r):\n",
    "    c=int(input(\"enter \"+str(i+1)+\" value:\"))\n",
    "    a.append(c)\n",
    "np_1d=np.array(a)\n",
    "print(np_1d)\n",
    "n=2\n",
    "print((np_1d+n).reshape(3,2))\n",
    "\n",
    "arr=np.array([10,20,30,40])\n",
    "print(arr[2])\n",
    "print(arr[1:4])\n",
    "arr_2=np.array([[1,2,3],[4,5,6],[7,8,9]])\n",
    "print(arr_2)\n",
    "\n",
    "arr=np.arange(int(input(\"enter stat value:\")),int(input(\"enter stop vale:\")),int(input(\"enter step:\")))\n",
    "print(arr)\n",
    "arr_1=np.linspace(int(input(\"enter stat value:\")),int(input(\"enter stop vale:\")),int(input(\"enter num:\")))\n",
    "print(arr_1)\n",
    "arr_2=np.logspace(int(input(\"enter stat value:\")),int(input(\"enter stop vale:\")),int(input(\"enter num:\")))\n",
    "print(arr_2)\n",
    "\n",
    "zeros=np.zeros([2,3],\"i\")\n",
    "print(zeros)\n",
    "ones=np.ones([2,3],\"i\")\n",
    "print(ones)\n",
    "identity=np.eye(3,dtype=int)\n",
    "print(identity)\n",
    "r=int(input(\"enter row:\"))\n",
    "c=int(input(\"enter col:\"))\n",
    "r1=int(input(\"matrix:\"))\n",
    "c1=int(input(\"martix2:\"))\n",
    "zeros=np.zeros([r,c],\"i\")\n",
    "print(zeros)\n",
    "\n",
    "random_f=np.random.rand(r,c)\n",
    "print(random_f)\n",
    "print(np.random.randint(r,c,(r1,c1)))\n",
    "\n",
    "arr = np.array([1, 2, 3, 4, 5, 6])\n",
    "mask=arr%2==0\n",
    "print(arr[mask])"
   ]
  },
  {
   "cell_type": "code",
   "execution_count": 3,
   "id": "117122d3-72f6-42d5-bc5b-00eba4280651",
   "metadata": {},
   "outputs": [
    {
     "name": "stdout",
     "output_type": "stream",
     "text": [
      "[0.0000000e+00 1.2246468e-16] [ 1. -1.] [ 0.0000000e+00 -1.2246468e-16]\n",
      "0.0\n",
      "[ 2.71828183  7.3890561  20.08553692]\n",
      "[0.         0.69314718 1.09861229]\n",
      "[0.         0.30103    0.47712125]\n",
      "[ 3.  7. 20.]\n",
      "[ 2.  7. 20.]\n",
      "[ 3.  8. 21.]\n",
      "3.0\n",
      "3.0\n",
      "2.0\n",
      "1.4142135623730951\n"
     ]
    }
   ],
   "source": [
    "# mathematical operations in numpy\n",
    "import numpy as np\n",
    "angles=np.array([0,np.pi])\n",
    "sine_values=np.sin(angles)\n",
    "cosine_values=np.cos(angles)\n",
    "tangent_value=np.tan(angles)\n",
    "print(sine_values,cosine_values,tangent_value)\n",
    "s=np.arcsin(0)\n",
    "print(s)\n",
    "arr=np.array([1,2,3])\n",
    "exp_values=np.exp(arr)\n",
    "print(exp_values)\n",
    "print(np.log(arr))\n",
    "print(np.log10(arr))\n",
    "print(np.round(exp_values))\n",
    "print(np.floor(exp_values))\n",
    "print(np.ceil(exp_values))\n",
    "data=np.array([1,2,3,4,5])\n",
    "print(np.mean(data))\n",
    "print(np.median(data))\n",
    "print(np.var(data)) #4+1+0+1+4=10/5=2\n",
    "print(np.std(data))"
   ]
  },
  {
   "cell_type": "code",
   "execution_count": 21,
   "id": "c31fc86a-83df-48ba-91a0-454df16a6a63",
   "metadata": {},
   "outputs": [
    {
     "name": "stdout",
     "output_type": "stream",
     "text": [
      "[[8 5 6]\n",
      " [1 6 2]\n",
      " [3 3 7]]\n",
      "add: [[13 10 11]\n",
      " [ 6 11  7]\n",
      " [ 8  8 12]]\n",
      "mul: [[16 10 12]\n",
      " [ 2 12  4]\n",
      " [ 6  6 14]]\n",
      "sub: [[ 4  1  2]\n",
      " [-3  2 -2]\n",
      " [-1 -1  3]]\n"
     ]
    }
   ],
   "source": [
    "import numpy as np\n",
    "a=np.random.randint(1,9,(3,3))\n",
    "print(a)\n",
    "add=np.add(a,5)\n",
    "mul=np.multiply(a,2)\n",
    "sub=np.subtract(a,4)\n",
    "print(\"add:\",add)\n",
    "print(\"mul:\",mul)\n",
    "print(\"sub:\",sub)"
   ]
  },
  {
   "cell_type": "code",
   "execution_count": 23,
   "id": "4d8c2f8c-acd6-4c43-a606-74af3aa36c02",
   "metadata": {},
   "outputs": [
    {
     "name": "stdout",
     "output_type": "stream",
     "text": [
      "[[ 74  18  73]\n",
      " [103  24  80]\n",
      " [108  26 101]]\n"
     ]
    }
   ],
   "source": [
    "import numpy as np\n",
    "A=np.random.randint(1,10,(3,2))\n",
    "B=np.random.randint(1,10,(2,3))\n",
    "mul=np.dot(A,B)\n",
    "print(mul)"
   ]
  },
  {
   "cell_type": "code",
   "execution_count": 25,
   "id": "4a3168e0-2eed-4d3b-803c-c67acbc3be58",
   "metadata": {},
   "outputs": [
    {
     "name": "stdout",
     "output_type": "stream",
     "text": [
      "[[ 2 47 71 43 57]\n",
      " [80 90 79 85  8]\n",
      " [61 74 98 52 30]\n",
      " [87 75 78 27 95]\n",
      " [64 38 91 78 83]]\n",
      "[[ 2 47]\n",
      " [80 90]]\n",
      "[[27 95]\n",
      " [78 83]]\n",
      "[[ 2 47 71]\n",
      " [80 90 79]\n",
      " [61 74 98]]\n"
     ]
    }
   ],
   "source": [
    "import numpy as np\n",
    "A=np.random.randint(1,100,(5,5))\n",
    "print(A)\n",
    "first=A[:2,:2]\n",
    "print(first)\n",
    "last=A[-2:,-2:]\n",
    "print(last)\n",
    "mat=A[0:3,0:3]\n",
    "print(mat)"
   ]
  },
  {
   "cell_type": "code",
   "execution_count": 27,
   "id": "579620f3-8087-42ba-885c-ad6f1c8a58cc",
   "metadata": {},
   "outputs": [
    {
     "name": "stdout",
     "output_type": "stream",
     "text": [
      "[26 27 28 29 30 31 32 33 34 35 36 37 38 39 40 41 42 43 44 45 46 47 48 49]\n",
      "210\n"
     ]
    }
   ],
   "source": [
    "import numpy as np\n",
    "A=np.arange(1,50)\n",
    "print(A[A>25])\n",
    "print(sum(A[A<=20]))"
   ]
  },
  {
   "cell_type": "code",
   "execution_count": 5,
   "id": "55e066a9-2c3b-468f-b4bf-0c0eb3305098",
   "metadata": {},
   "outputs": [
    {
     "name": "stdin",
     "output_type": "stream",
     "text": [
      "enter numbers: 9\n",
      "enter 1 value: 1\n",
      "enter 2 value: 2\n",
      "enter 3 value: 3\n",
      "enter 4 value: 4\n",
      "enter 5 value: 5\n",
      "enter 6 value: 6\n",
      "enter 7 value: 7\n",
      "enter 8 value: 8\n",
      "enter 9 value: 9\n"
     ]
    },
    {
     "name": "stdout",
     "output_type": "stream",
     "text": [
      "[1 2 3 4 5 6 7 8 9]\n",
      "[[1 2 3]\n",
      " [4 5 6]\n",
      " [7 8 9]]\n",
      "Not a magic square\n"
     ]
    }
   ],
   "source": [
    "# Finding Magic Square or Not\n",
    "import numpy as np\n",
    "a=[]\n",
    "r=int(input(\"enter numbers:\"))\n",
    "for i in range(r):\n",
    "    c=int(input(\"enter \"+str(i+1)+\" value:\"))\n",
    "    a.append(c)\n",
    "np_1d=np.array(a)\n",
    "#print(np_1d)\n",
    "u=np.unique(np_1d)\n",
    "print(u)\n",
    "if len(u) != 9:\n",
    "        print(\"not magic\")\n",
    "else:\n",
    "    reshape_arr=np_1d.reshape(3,3)\n",
    "    print(reshape_arr)\n",
    "    x=np.sum(reshape_arr,axis=0)\n",
    "    y=np.sum(reshape_arr,axis=1)\n",
    "    z=np.trace(reshape_arr)\n",
    "    if np.all(x==y) and np.all(x==z):\n",
    "        print(\"Magic square\")\n",
    "    else:\n",
    "        print(\"Not a magic square\")"
   ]
  },
  {
   "cell_type": "code",
   "execution_count": 15,
   "id": "fa46d8a9-f850-42fd-9ad4-a524018a3e4a",
   "metadata": {},
   "outputs": [
    {
     "name": "stdout",
     "output_type": "stream",
     "text": [
      "shape: (1, 10)\n",
      "size: 10\n",
      "dtype: int32\n",
      "[[ 8  3 13]\n",
      " [ 2  6  2]\n",
      " [ 6 19  6]]\n",
      "[24 10 31]\n"
     ]
    }
   ],
   "source": [
    "import numpy as np\n",
    "arr_1d=np.array([[0,1,2,3,4,5,6,7,8,9]])\n",
    "print(\"shape:\",arr_1d.shape)\n",
    "print(\"size:\",arr_1d.size)\n",
    "print(\"dtype:\",arr_1d.dtype)\n",
    "\n",
    "random_arr=np.random.randint(1,20,(3,3))\n",
    "print(random_arr)\n",
    "r=np.sum(random_arr,axis=1)\n",
    "print(r)"
   ]
  },
  {
   "cell_type": "code",
   "execution_count": 19,
   "id": "eb1e543a-c835-46c4-ae06-baa505f92e98",
   "metadata": {},
   "outputs": [
    {
     "name": "stdin",
     "output_type": "stream",
     "text": [
      "Enter the number of elements for matrix A:  4\n",
      "Enter the number of elements for matrix B:  4\n",
      "Enter 1 value for matrix A:  1\n",
      "Enter 2 value for matrix A:  2\n",
      "Enter 3 value for matrix A:  3\n",
      "Enter 4 value for matrix A:  4\n",
      "Enter 1 value for matrix B:  5\n",
      "Enter 2 value for matrix B:  6\n",
      "Enter 3 value for matrix B:  7\n",
      "Enter 4 value for matrix B:  8\n"
     ]
    },
    {
     "name": "stdout",
     "output_type": "stream",
     "text": [
      "Matrix A + Matrix B:\n",
      "[[ 6  8]\n",
      " [10 12]]\n",
      "\n",
      "Matrix A * Matrix B (element-wise multiplication):\n",
      "[[ 5 12]\n",
      " [21 32]]\n",
      "\n",
      "Matrix A . Matrix B (dot product):\n",
      "[[19 22]\n",
      " [43 50]]\n"
     ]
    }
   ],
   "source": [
    "import numpy as np \n",
    "A = []\n",
    "B = []\n",
    "r = int(input(\"Enter the number of elements for matrix A: \"))  \n",
    "r1 = int(input(\"Enter the number of elements for matrix B: \")) \n",
    "for i in range(r):\n",
    "    c = int(input(\"Enter \" + str(i + 1) + \" value for matrix A: \"))\n",
    "    A.append(c)\n",
    "for j in range(r1):\n",
    "    d = int(input(\"Enter \" + str(j + 1) + \" value for matrix B: \"))\n",
    "    B.append(d)\n",
    "C = np.array(A)\n",
    "D = np.array(B)\n",
    "reshape_A = C.reshape(2, 2)\n",
    "reshape_B = D.reshape(2, 2)\n",
    "print(\"Matrix A + Matrix B:\")\n",
    "print(reshape_A + reshape_B)\n",
    "\n",
    "print(\"\\nMatrix A * Matrix B (element-wise multiplication):\")\n",
    "print(reshape_A * reshape_B)\n",
    "\n",
    "print(\"\\nMatrix A . Matrix B (dot product):\")\n",
    "print(np.dot(reshape_A, reshape_B))"
   ]
  },
  {
   "cell_type": "code",
   "execution_count": null,
   "id": "fa5bde1d-ea02-41ea-a77a-65fe92384699",
   "metadata": {},
   "outputs": [],
   "source": []
  }
 ],
 "metadata": {
  "kernelspec": {
   "display_name": "Python 3 (ipykernel)",
   "language": "python",
   "name": "python3"
  },
  "language_info": {
   "codemirror_mode": {
    "name": "ipython",
    "version": 3
   },
   "file_extension": ".py",
   "mimetype": "text/x-python",
   "name": "python",
   "nbconvert_exporter": "python",
   "pygments_lexer": "ipython3",
   "version": "3.12.7"
  }
 },
 "nbformat": 4,
 "nbformat_minor": 5
}
