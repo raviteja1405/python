{
 "cells": [
  {
   "cell_type": "code",
   "execution_count": 1,
   "id": "381ce588-3a7a-4ed1-b078-ee1d1f12ebe9",
   "metadata": {},
   "outputs": [
    {
     "name": "stdout",
     "output_type": "stream",
     "text": [
      "['KIRAN', 'AMAR', 'SREEKAR', 'ARUNA']\n"
     ]
    }
   ],
   "source": [
    "names=[\"kiran\",\"amar\",\"sreekar\",\"aruna\"]\n",
    "uppered_names=[]\n",
    "uppered_names=list(map(str.upper,names))\n",
    "print(uppered_names)"
   ]
  },
  {
   "cell_type": "code",
   "execution_count": 3,
   "id": "bca0cda4-f9e1-4f12-a88f-38c3a3fa9073",
   "metadata": {},
   "outputs": [
    {
     "name": "stdout",
     "output_type": "stream",
     "text": [
      "[3.6, 5.58, 4.009, 56.2424, 9.01344]\n"
     ]
    }
   ],
   "source": [
    "circle_areas=(3.56773,5.57668,4.00914,56.24241,9.01344)\n",
    "result=list(map(round,circle_areas,range(1,7)))\n",
    "print(result)"
   ]
  },
  {
   "cell_type": "code",
   "execution_count": 5,
   "id": "46c8eb6b-1f7d-4290-9fb6-f2bb3617027a",
   "metadata": {},
   "outputs": [
    {
     "name": "stdout",
     "output_type": "stream",
     "text": [
      "[11, 22, 33, 44]\n"
     ]
    }
   ],
   "source": [
    "l1=[1,2,3,4,5]\n",
    "l2=[10,20,30,40]\n",
    "l12=list(map(lambda x,y:x+y,l1,l2))\n",
    "print(l12)"
   ]
  },
  {
   "cell_type": "code",
   "execution_count": 7,
   "id": "7a845209-2e33-4d9a-b49d-710b82763479",
   "metadata": {},
   "outputs": [
    {
     "name": "stdout",
     "output_type": "stream",
     "text": [
      "[90, 76, 88, 81]\n"
     ]
    }
   ],
   "source": [
    "scores=[65,90,68,59,76,60,88,74,81,65]\n",
    "def student_above(score):\n",
    "    return score>75\n",
    "over_75=list(filter(student_above,scores))\n",
    "print(over_75)"
   ]
  },
  {
   "cell_type": "code",
   "execution_count": 13,
   "id": "e3ccfe0f-d92a-4fec-b77d-94ae532ceecf",
   "metadata": {},
   "outputs": [
    {
     "name": "stdout",
     "output_type": "stream",
     "text": [
      "['madam', 'mom', 'radar']\n"
     ]
    }
   ],
   "source": [
    "st1=[\"madam\",\"mom\",\"kiran\",\"ashok\",\"radar\"]\n",
    "palin_str=list(filter(lambda x:x==x[::-1],st1))\n",
    "print(palin_str)"
   ]
  },
  {
   "cell_type": "code",
   "execution_count": 23,
   "id": "a40a9272-693d-4ecd-a613-358b440238b5",
   "metadata": {},
   "outputs": [
    {
     "name": "stdout",
     "output_type": "stream",
     "text": [
      "68\n"
     ]
    }
   ],
   "source": [
    "from functools import reduce\n",
    "numbers=[3,4,6,9,34,12]\n",
    "def add_num(n1,n2):\n",
    "    return n1+n2\n",
    "result=reduce(add_num,numbers)\n",
    "print(result)"
   ]
  },
  {
   "cell_type": "code",
   "execution_count": null,
   "id": "bb771e63-7fbd-4d4c-b918-1e958088d30c",
   "metadata": {},
   "outputs": [],
   "source": []
  }
 ],
 "metadata": {
  "kernelspec": {
   "display_name": "Python 3 (ipykernel)",
   "language": "python",
   "name": "python3"
  },
  "language_info": {
   "codemirror_mode": {
    "name": "ipython",
    "version": 3
   },
   "file_extension": ".py",
   "mimetype": "text/x-python",
   "name": "python",
   "nbconvert_exporter": "python",
   "pygments_lexer": "ipython3",
   "version": "3.12.7"
  }
 },
 "nbformat": 4,
 "nbformat_minor": 5
}
